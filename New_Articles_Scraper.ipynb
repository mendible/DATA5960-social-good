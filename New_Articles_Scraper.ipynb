{
 "cells": [
  {
   "cell_type": "code",
   "execution_count": null,
   "id": "9bd4eb40",
   "metadata": {},
   "outputs": [],
   "source": [
    "import requests\n",
    "from bs4 import BeautifulSoup\n",
    "import re\n",
    "import pandas as pd\n",
    "import fitz\n",
    "from requests.exceptions import HTTPError\n",
    "from concurrent.futures import ThreadPoolExecutor, as_completed"
   ]
  },
  {
   "cell_type": "code",
   "execution_count": null,
   "id": "c39a00ab",
   "metadata": {},
   "outputs": [],
   "source": [
    "import pandas as pd\n",
    "\n",
    "df = pd.read_csv('scraped_police_reports14.csv')"
   ]
  },
  {
   "cell_type": "code",
   "execution_count": null,
   "id": "4689f5f2",
   "metadata": {},
   "outputs": [],
   "source": [
    "with open('serper_secrets.txt', 'r') as file:\n",
    "    data=json.load(file)\n",
    "    "
   ]
  },
  {
   "cell_type": "code",
   "execution_count": null,
   "id": "aeac831a",
   "metadata": {},
   "outputs": [],
   "source": [
    "key=data[\"key\"]\n",
    "def web_search(officer, department):\n",
    "    url = \"https://google.serper.dev/search\"\n",
    "\n",
    "    name = namify(officer)\n",
    "    department=departmentify(department)\n",
    "    \n",
    "\n",
    "    payload = json.dumps({\n",
    "    \"q\": f'\"{name}\" \"{department}\"',\n",
    "    \"num\":10\n",
    "    })\n",
    "    headers = {\n",
    "    'X-API-KEY': '186ebef8bff1f77421b10617b1019e6ab2386b2a',\n",
    "    'Content-Type': 'application/json'\n",
    "    }\n",
    "\n",
    "    response = requests.request(\"POST\", url, headers=headers, data=payload)\n",
    "    data=response.json()\n",
    "    q=data[\"organic\"]\n",
    "    return q"
   ]
  },
  {
   "cell_type": "code",
   "execution_count": null,
   "id": "39ef0ceb",
   "metadata": {},
   "outputs": [],
   "source": [
    "j=df[df[\"url\"]==\"No articles found\"]"
   ]
  },
  {
   "cell_type": "code",
   "execution_count": null,
   "id": "c8a61fff",
   "metadata": {},
   "outputs": [],
   "source": [
    "import re\n",
    "def namify(title):\n",
    "    match = re.search(r\"^(.*?),\", title)\n",
    "\n",
    "    if match:\n",
    "        result = match.group(1)\n",
    "    return result"
   ]
  },
  {
   "cell_type": "code",
   "execution_count": null,
   "id": "c31cd2eb",
   "metadata": {},
   "outputs": [],
   "source": [
    "def departmentify(department):\n",
    "    department= department.replace(\"Office\",\"\")\n",
    "    department = department.replace(\"Department\", \"\")\n",
    "    department = department.replace(\":\", \"\")\n",
    "    return department"
   ]
  },
  {
   "cell_type": "code",
   "execution_count": null,
   "id": "20528d74",
   "metadata": {},
   "outputs": [],
   "source": [
    "new_articles=[]\n",
    "#namify(j.iloc[5][\"name\"])\n",
    "w=j.head()\n",
    "for index, row in j.head(2000).iterrows():\n",
    "    q=web_search(row[\"name\"], row[\"department\"])\n",
    "    if len(q)==0:\n",
    "        new_articles.append((row[\"name\"],row[\"department\"],\"No articles found\"))\n",
    "    else:\n",
    "        for p in q:\n",
    "            new_articles.append((row[\"name\"],row[\"department\"],p.get(\"title\",\"NA\"), p.get(\"link\", \"NA\"), p.get(\"snippet\", \"NA\"), p.get(\"date\", \"NA\")))"
   ]
  },
  {
   "cell_type": "code",
   "execution_count": null,
   "id": "bb22916f",
   "metadata": {},
   "outputs": [],
   "source": [
    "dataf=pd.DataFrame(new_articles, columns=[\"name\", \"department\", \"title\", \"url\", \"summary\", \"date posted\"])"
   ]
  },
  {
   "cell_type": "code",
   "execution_count": null,
   "id": "bcff37d5",
   "metadata": {},
   "outputs": [],
   "source": [
    "dataf.to_csv(\"serper_scrape.csv\", index=False)"
   ]
  }
 ],
 "metadata": {
  "language_info": {
   "name": "python"
  }
 },
 "nbformat": 4,
 "nbformat_minor": 5
}
