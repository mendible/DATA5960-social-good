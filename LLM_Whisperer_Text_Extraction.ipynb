{
 "cells": [
  {
   "cell_type": "code",
   "execution_count": null,
   "id": "21abc200",
   "metadata": {},
   "outputs": [],
   "source": [
    "#!pip install llmwhisperer-client"
   ]
  },
  {
   "cell_type": "code",
   "execution_count": null,
   "id": "d090bd5e",
   "metadata": {},
   "outputs": [],
   "source": [
    "import time\n",
    "from unstract.llmwhisperer import LLMWhispererClientV2\n",
    "from unstract.llmwhisperer.client_v2 import LLMWhispererClientException"
   ]
  },
  {
   "cell_type": "code",
   "execution_count": null,
   "id": "6196d8e8",
   "metadata": {},
   "outputs": [],
   "source": [
    "KEY=\"\"\n",
    "#The API key lets us extract up to 100 pages a day\n",
    "PATH=\"\"\n",
    "#Add the path to the relevant PDF\n",
    "client = LLMWhispererClientV2(base_url=\"https://llmwhisperer-api.us-central.unstract.com/api/v2\", api_key=KEY)\n",
    "result=client.whisper(file_path=PATH)\n",
    "while True:\n",
    "    status=client.whisper_status(whisper_hash=result[\"whisper_hash\"])\n",
    "    if status[\"status\"]==\"processed\":\n",
    "        resultx=client.whisper_retrieve(\n",
    "            whisper_hash=result[\"whisper_hash\"]\n",
    "        )\n",
    "        break\n",
    "    time.sleep(10)\n",
    "extracted_text=resultx[\"extraction\"][\"result_text\"]"
   ]
  },
  {
   "cell_type": "code",
   "execution_count": null,
   "id": "ac968be5",
   "metadata": {},
   "outputs": [],
   "source": [
    "print(extracted_text)"
   ]
  }
 ],
 "metadata": {
  "language_info": {
   "name": "python"
  }
 },
 "nbformat": 4,
 "nbformat_minor": 5
}
