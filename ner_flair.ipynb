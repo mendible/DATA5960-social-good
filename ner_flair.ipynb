{
 "cells": [
  {
   "cell_type": "markdown",
   "id": "5af9302a",
   "metadata": {},
   "source": [
    "Prerequisites\n",
    "- Have the `flair` Python package installed"
   ]
  },
  {
   "cell_type": "markdown",
   "id": "d016d062",
   "metadata": {},
   "source": [
    "## Imports"
   ]
  },
  {
   "cell_type": "code",
   "execution_count": 3,
   "id": "508c3a71",
   "metadata": {},
   "outputs": [],
   "source": [
    "from flair.data import Sentence\n",
    "from flair.nn import Classifier\n",
    "import pandas as pd"
   ]
  },
  {
   "cell_type": "markdown",
   "id": "1333e02c",
   "metadata": {},
   "source": [
    "## Load data"
   ]
  },
  {
   "cell_type": "code",
   "execution_count": 8,
   "id": "9609346e",
   "metadata": {},
   "outputs": [
    {
     "data": {
      "text/html": [
       "<div>\n",
       "<style scoped>\n",
       "    .dataframe tbody tr th:only-of-type {\n",
       "        vertical-align: middle;\n",
       "    }\n",
       "\n",
       "    .dataframe tbody tr th {\n",
       "        vertical-align: top;\n",
       "    }\n",
       "\n",
       "    .dataframe thead th {\n",
       "        text-align: right;\n",
       "    }\n",
       "</style>\n",
       "<table border=\"1\" class=\"dataframe\">\n",
       "  <thead>\n",
       "    <tr style=\"text-align: right;\">\n",
       "      <th></th>\n",
       "      <th>name</th>\n",
       "      <th>department</th>\n",
       "      <th>url</th>\n",
       "      <th>text</th>\n",
       "    </tr>\n",
       "  </thead>\n",
       "  <tbody>\n",
       "    <tr>\n",
       "      <th>0</th>\n",
       "      <td>Andrew Allen, badge #37</td>\n",
       "      <td>Minneapolis Police Department</td>\n",
       "      <td>https://d3n8a8pro7vhmx.cloudfront.net/cuapb/pa...</td>\n",
       "      <td>Home Legislative File 2021-01132 RCA Legal s...</td>\n",
       "    </tr>\n",
       "    <tr>\n",
       "      <th>1</th>\n",
       "      <td>Guled Abdullahi, badge #706</td>\n",
       "      <td>Hennepin County Sheriff's Department</td>\n",
       "      <td>https://assets.nationbuilder.com/cuapb/pages/1...</td>\n",
       "      <td>Hennepin County  300 South Sixth Street, Minne...</td>\n",
       "    </tr>\n",
       "    <tr>\n",
       "      <th>2</th>\n",
       "      <td>Dean V. Albers, badge #None</td>\n",
       "      <td>Goodhue County Sheriff's Department</td>\n",
       "      <td>https://d3n8a8pro7vhmx.cloudfront.net/cuapb/pa...</td>\n",
       "      <td>2/22/2021 Jenson v. Craft, Civil No. 01-1488(D...</td>\n",
       "    </tr>\n",
       "    <tr>\n",
       "      <th>3</th>\n",
       "      <td>Scott Aikins, badge #22</td>\n",
       "      <td>Minneapolis Police Department</td>\n",
       "      <td>https://d3n8a8pro7vhmx.cloudfront.net/cuapb/pa...</td>\n",
       "      <td>2/22/2021 United States v. Diriye, Case No. 14...</td>\n",
       "    </tr>\n",
       "    <tr>\n",
       "      <th>4</th>\n",
       "      <td>Matthew Aish, badge #None</td>\n",
       "      <td>Columbia Heights Police Department</td>\n",
       "      <td>https://d3n8a8pro7vhmx.cloudfront.net/cuapb/pa...</td>\n",
       "      <td>Too_Long1    Arbitration   LELS (Mathew Aish)/...</td>\n",
       "    </tr>\n",
       "  </tbody>\n",
       "</table>\n",
       "</div>"
      ],
      "text/plain": [
       "                          name                            department  \\\n",
       "0      Andrew Allen, badge #37         Minneapolis Police Department   \n",
       "1  Guled Abdullahi, badge #706  Hennepin County Sheriff's Department   \n",
       "2  Dean V. Albers, badge #None   Goodhue County Sheriff's Department   \n",
       "3      Scott Aikins, badge #22         Minneapolis Police Department   \n",
       "4    Matthew Aish, badge #None    Columbia Heights Police Department   \n",
       "\n",
       "                                                 url  \\\n",
       "0  https://d3n8a8pro7vhmx.cloudfront.net/cuapb/pa...   \n",
       "1  https://assets.nationbuilder.com/cuapb/pages/1...   \n",
       "2  https://d3n8a8pro7vhmx.cloudfront.net/cuapb/pa...   \n",
       "3  https://d3n8a8pro7vhmx.cloudfront.net/cuapb/pa...   \n",
       "4  https://d3n8a8pro7vhmx.cloudfront.net/cuapb/pa...   \n",
       "\n",
       "                                                text  \n",
       "0  Home Legislative File 2021-01132 RCA Legal s...  \n",
       "1  Hennepin County  300 South Sixth Street, Minne...  \n",
       "2  2/22/2021 Jenson v. Craft, Civil No. 01-1488(D...  \n",
       "3  2/22/2021 United States v. Diriye, Case No. 14...  \n",
       "4  Too_Long1    Arbitration   LELS (Mathew Aish)/...  "
      ]
     },
     "execution_count": 8,
     "metadata": {},
     "output_type": "execute_result"
    }
   ],
   "source": [
    "# Read the full dataframe where the data was partially cleaned\n",
    "df = pd.read_csv(\"cleaned_police_reports.csv\")\n",
    "df.head()"
   ]
  },
  {
   "cell_type": "code",
   "execution_count": 9,
   "id": "a29de9e4",
   "metadata": {},
   "outputs": [
    {
     "data": {
      "text/html": [
       "<div>\n",
       "<style scoped>\n",
       "    .dataframe tbody tr th:only-of-type {\n",
       "        vertical-align: middle;\n",
       "    }\n",
       "\n",
       "    .dataframe tbody tr th {\n",
       "        vertical-align: top;\n",
       "    }\n",
       "\n",
       "    .dataframe thead th {\n",
       "        text-align: right;\n",
       "    }\n",
       "</style>\n",
       "<table border=\"1\" class=\"dataframe\">\n",
       "  <thead>\n",
       "    <tr style=\"text-align: right;\">\n",
       "      <th></th>\n",
       "      <th>name</th>\n",
       "      <th>department</th>\n",
       "      <th>url</th>\n",
       "      <th>text</th>\n",
       "    </tr>\n",
       "  </thead>\n",
       "  <tbody>\n",
       "    <tr>\n",
       "      <th>0</th>\n",
       "      <td>Jeffrey Pennaz, badge #5551</td>\n",
       "      <td>Department:Minneapolis Police Department</td>\n",
       "      <td>https://assets.nationbuilder.com/cuapb/pages/1...</td>\n",
       "      <td>Witnesses say the stop happened around 8:30 p....</td>\n",
       "    </tr>\n",
       "    <tr>\n",
       "      <th>1</th>\n",
       "      <td>Kurt Radke, badge #5882</td>\n",
       "      <td>Department:Minneapolis Police Department</td>\n",
       "      <td>https://assets.nationbuilder.com/cuapb/pages/1...</td>\n",
       "      <td>Home Legislative File 2022-00241 RCA Legal S...</td>\n",
       "    </tr>\n",
       "    <tr>\n",
       "      <th>2</th>\n",
       "      <td>Craig A. Taylor, badge #7139</td>\n",
       "      <td>Department:Minneapolis Police Department</td>\n",
       "      <td>https://assets.nationbuilder.com/cuapb/pages/1...</td>\n",
       "      <td>Home Legislative File 2022-00233 RCA Legal S...</td>\n",
       "    </tr>\n",
       "    <tr>\n",
       "      <th>3</th>\n",
       "      <td>Cory Taylor, badge #7141</td>\n",
       "      <td>Department:Minneapolis Police Department</td>\n",
       "      <td>https://assets.nationbuilder.com/cuapb/pages/1...</td>\n",
       "      <td>Home Legislative File 2022-00240 RCA Legal S...</td>\n",
       "    </tr>\n",
       "    <tr>\n",
       "      <th>4</th>\n",
       "      <td>Joseph Will, badge #7749</td>\n",
       "      <td>Department:Minneapolis Police Department</td>\n",
       "      <td>https://assets.nationbuilder.com/cuapb/pages/1...</td>\n",
       "      <td>Home Legislative File 2022-00230 RCA Legal S...</td>\n",
       "    </tr>\n",
       "  </tbody>\n",
       "</table>\n",
       "</div>"
      ],
      "text/plain": [
       "                           name                                department  \\\n",
       "0   Jeffrey Pennaz, badge #5551  Department:Minneapolis Police Department   \n",
       "1       Kurt Radke, badge #5882  Department:Minneapolis Police Department   \n",
       "2  Craig A. Taylor, badge #7139  Department:Minneapolis Police Department   \n",
       "3      Cory Taylor, badge #7141  Department:Minneapolis Police Department   \n",
       "4      Joseph Will, badge #7749  Department:Minneapolis Police Department   \n",
       "\n",
       "                                                 url  \\\n",
       "0  https://assets.nationbuilder.com/cuapb/pages/1...   \n",
       "1  https://assets.nationbuilder.com/cuapb/pages/1...   \n",
       "2  https://assets.nationbuilder.com/cuapb/pages/1...   \n",
       "3  https://assets.nationbuilder.com/cuapb/pages/1...   \n",
       "4  https://assets.nationbuilder.com/cuapb/pages/1...   \n",
       "\n",
       "                                                text  \n",
       "0  Witnesses say the stop happened around 8:30 p....  \n",
       "1  Home Legislative File 2022-00241 RCA Legal S...  \n",
       "2  Home Legislative File 2022-00233 RCA Legal S...  \n",
       "3  Home Legislative File 2022-00240 RCA Legal S...  \n",
       "4  Home Legislative File 2022-00230 RCA Legal S...  "
      ]
     },
     "execution_count": 9,
     "metadata": {},
     "output_type": "execute_result"
    }
   ],
   "source": [
    "# Read the small dataframe of manually cleaned articles\n",
    "small_df = pd.read_csv(\"manually_cleaned_police_reports_small.csv\")\n",
    "small_df.head()"
   ]
  },
  {
   "cell_type": "markdown",
   "id": "8a5a73da",
   "metadata": {},
   "source": [
    "## Test Flair model on simple sentences"
   ]
  },
  {
   "cell_type": "code",
   "execution_count": 3,
   "id": "c4a016b9",
   "metadata": {},
   "outputs": [
    {
     "name": "stderr",
     "output_type": "stream",
     "text": [
      "c:\\Users\\david\\AppData\\Local\\Programs\\Python\\Python312\\Lib\\site-packages\\huggingface_hub\\file_download.py:139: UserWarning: `huggingface_hub` cache-system uses symlinks by default to efficiently store duplicated files but your machine does not support them in C:\\Users\\david\\.flair\\models\\ner-english-large\\models--flair--ner-english-large. Caching files will still work but in a degraded version that might require more space on your disk. This warning can be disabled by setting the `HF_HUB_DISABLE_SYMLINKS_WARNING` environment variable. For more details, see https://huggingface.co/docs/huggingface_hub/how-to-cache#limitations.\n",
      "To support symlinks on Windows, you either need to activate Developer Mode or to run Python as an administrator. In order to activate developer mode, see this article: https://docs.microsoft.com/en-us/windows/apps/get-started/enable-your-device-for-development\n",
      "  warnings.warn(message)\n"
     ]
    },
    {
     "name": "stdout",
     "output_type": "stream",
     "text": [
      "2025-10-23 22:48:44,444 SequenceTagger predicts: Dictionary with 20 tags: <unk>, O, S-ORG, S-MISC, B-PER, E-PER, S-LOC, B-ORG, E-ORG, I-PER, S-PER, B-MISC, I-MISC, E-MISC, I-ORG, B-LOC, E-LOC, I-LOC, <START>, <STOP>\n",
      "Sentence[15]: \"Jane Smith lives on 123 Redmond Ave. NE, Redmond, WA, USA\" → [\"Jane Smith\"/PER, \"Redmond Ave\"/LOC, \"NE\"/LOC, \"Redmond\"/LOC, \"WA\"/LOC, \"USA\"/LOC]\n"
     ]
    }
   ],
   "source": [
    "text = \"Jane Smith lives on 123 Redmond Ave. NE, Redmond, WA, USA\"\n",
    "sentence = Sentence(text) # make a Sentence object from the text\n",
    "\n",
    "# load the NER tagger\n",
    "tagger = Classifier.load('ner-large')\n",
    "\n",
    "# run NER over sentence\n",
    "tagger.predict(sentence)\n",
    "\n",
    "# print the sentence with all annotations\n",
    "print(sentence)"
   ]
  },
  {
   "cell_type": "markdown",
   "id": "6bd9872f",
   "metadata": {},
   "source": [
    "Correct answer: \"123 Redmond Ave. NE, Redmond, WA, USA\" is a location."
   ]
  },
  {
   "cell_type": "code",
   "execution_count": 12,
   "id": "83769c36",
   "metadata": {},
   "outputs": [
    {
     "name": "stdout",
     "output_type": "stream",
     "text": [
      "2025-10-23 22:57:36,797 SequenceTagger predicts: Dictionary with 20 tags: <unk>, O, S-ORG, S-MISC, B-PER, E-PER, S-LOC, B-ORG, E-ORG, I-PER, S-PER, B-MISC, I-MISC, E-MISC, I-ORG, B-LOC, E-LOC, I-LOC, <START>, <STOP>\n",
      "Sentence[15]: \"Jane Smith lives on 123 Redmond Ave. NE, Redmond, WA, USA\" → [\"Jane Smith\"/PER, \"Redmond Ave\"/LOC, \"NE\"/LOC, \"Redmond\"/LOC, \"WA\"/LOC, \"USA\"/LOC]\n"
     ]
    }
   ],
   "source": [
    "sentence = Sentence(text)\n",
    "tagger_small = Classifier.load(\"ner\") # try small model\n",
    "\n",
    "# run NER over sentence\n",
    "tagger_small.predict(sentence)\n",
    "\n",
    "# print the sentence with all annotations\n",
    "print(sentence)"
   ]
  },
  {
   "cell_type": "code",
   "execution_count": 4,
   "id": "c40fe1f8",
   "metadata": {},
   "outputs": [
    {
     "name": "stdout",
     "output_type": "stream",
     "text": [
      "Token[0]: \"Jane\"\n",
      "Token[1]: \"Smith\"\n",
      "Token[2]: \"lives\"\n",
      "Token[3]: \"on\"\n",
      "Token[4]: \"123\"\n",
      "Token[5]: \"Redmond\"\n",
      "Token[6]: \"Ave\"\n",
      "Token[7]: \".\"\n",
      "Token[8]: \"NE\"\n",
      "Token[9]: \",\"\n",
      "Token[10]: \"Redmond\"\n",
      "Token[11]: \",\"\n",
      "Token[12]: \"WA\"\n",
      "Token[13]: \",\"\n",
      "Token[14]: \"USA\"\n"
     ]
    }
   ],
   "source": [
    "for token in sentence:\n",
    "    print(token)"
   ]
  },
  {
   "cell_type": "markdown",
   "id": "ebe3b786",
   "metadata": {},
   "source": [
    "This model performs better than the Spacy ones because it can detect street names as a location. The Spacy ones could only detect city, state, and country. However, the Flair models don't tag the address number as a location, and they detect all the address components as separate locations instead of one location."
   ]
  },
  {
   "cell_type": "markdown",
   "id": "21e45725",
   "metadata": {},
   "source": [
    "## Test Flair model on small dataframe"
   ]
  },
  {
   "cell_type": "code",
   "execution_count": 10,
   "id": "ba092e98",
   "metadata": {},
   "outputs": [
    {
     "name": "stdout",
     "output_type": "stream",
     "text": [
      "\n",
      "Witnesses say the stop happened around 8:30 p.m. outside 1515 Nicollet Ave, Minneapolis, MN. The complainant alleges the officer pulled them from the vehicle without cause and placed them in cuffs on the sidewalk.\"\n",
      "\n",
      "Home Legislative File 2022-00241 RCA Legal Se\u0001lement: Workers' Compensa\u0002on claim of Kurt Radke (RCA-2022-00194) ORIGINATING DEPARTMENT Finance & Property Services To Commi\u0001ee(s) # Commi\u0001ee Name Mee\u0002ng Date 1 Policy & Government Oversight Commi\u0001ee Mar 7, 2022 LEAD STAFF: Emily Ann Colby PRESENTED BY: Emily Ann Colby Ac\u0002on Item(s) # File Type Subcategory Item Descrip\u0002on 1 Ac\u0002on Se\u0001lement Approving the workers' compensa\u0002on claim of Kurt Radke by payment of $160,000 over three years to Kurt Radke and a\u0001orney, Meuser Law Firm, and authorizing the City A\u0001orney's Oﬃce to execute any documents necessary to eﬀectuate the se\u0001lement. Ward / Neighborhood / Address # Ward Neighborhood Address 1. Not Applicable Background Analysis City of Minneapolis employee sustained work-related injuries. The par\u0002es reached a tenta\u0002ve se\u0001lement by payment of $160,000 over three years from fun 06930-1450100-789401-145400. Risk Management believes this se\u0001lement is in the best interests of the City and recommends approval by the Commi\u0001ee and the City Council. FISCAL NOTE • Legal Se\u0001lement: Workers' Compensa\u0002on claim of Kurt Radke - Fiscal Note RCA-2022-00194 - Legal Settlement: Workers' Compensation claim o... https://lims.minneapolismn.gov/RCA/9321 1 of 1 3/18/2022, 10:01 PM\n",
      "\n",
      "Home Legislative File 2022-00233 RCA Legal Se\u0001lement: Workers' Compensa\u0002on claim of Craig Taylor (RCA-2022-00195) ORIGINATING DEPARTMENT Finance & Property Services To Commi\u0001ee(s) # Commi\u0001ee Name Mee\u0002ng Date 1 Policy & Government Oversight Commi\u0001ee Mar 7, 2022 LEAD STAFF: Emily Ann Colby PRESENTED BY: Emily Ann Colby Ac\u0002on Item(s) # File Type Subcategory Item Descrip\u0002on 1 Ac\u0002on Se\u0001lement Approving the workers' compensa\u0002on claim of Craig Taylor, by payment of $175,000 over three years to Craig Taylor and a\u0001orney, Meuser Law Firm, and authorizing the City A\u0001orney's Oﬃce to execute any documents necessary to eﬀectuate the se\u0001lement. Ward / Neighborhood / Address # Ward Neighborhood Address 1. Not Applicable Background Analysis City of Minneapolis employee sustained work-related injuries. The par\u0002es reached a tenta\u0002ve se\u0001lement by payment fo $175,000 over three years from fund 06930-1450100-789401-145400. Risk Management believes this se\u0001lement is in the best interests of the City and recommends approval by the Commi\u0001ee and the City Council. FISCAL NOTE • Legal Se\u0001lement: Workers' Compensa\u0002on claim of Craig Taylor - Fiscal Note RCA-2022-00195 - Legal Settlement: Workers' Compensation claim of... https://lims.minneapolismn.gov/RCA/9322 1 of 1 3/18/2022, 9:57 PM\n",
      "\n",
      "Home Legislative File 2022-00240 RCA Legal Se\u0001lement: Workers' Compensa\u0002on claim of Cory Taylor (RCA-2022-00196) ORIGINATING DEPARTMENT Finance & Property Services To Commi\u0001ee(s) # Commi\u0001ee Name Mee\u0002ng Date 1 Policy & Government Oversight Commi\u0001ee Mar 7, 2022 LEAD STAFF: Emily Ann Colby PRESENTED BY: Emily Ann Colby Ac\u0002on Item(s) # File Type Subcategory Item Descrip\u0002on 1 Ac\u0002on Se\u0001lement Approving the workers' compensa\u0002on claim of Cory Taylor by payment of $190,000 over four years to Cory Taylor and a\u0001orney, Meuser Law Firm, and authorizing the City A\u0001orney's Oﬃce to execute any documents necessary to eﬀectuate the se\u0001lement. Ward / Neighborhood / Address # Ward Neighborhood Address 1. Not Applicable Background Analysis City of Minneapolis employee sustained work-related injuries. The par\u0002es reached a tenta\u0002ve se\u0001lement by payment of $190,000 over four years from fund 06930-1450100-789401-145400. Risk Management believes this se\u0001lement is in the best interests of the City and recommends approval by the Commi\u0001ee and the City Council. FISCAL NOTE • Legal Se\u0001lement: Workers' Compensa\u0002on claim of Cory Taylor - Fiscal Note RCA-2022-00196 - Legal Settlement: Workers' Compensation claim o... https://lims.minneapolismn.gov/RCA/9323 1 of 1 3/18/2022, 10:01 PM\n",
      "\n",
      "Home Legislative File 2022-00230 RCA Legal Se\u0001lement: Workers' Compensa\u0002on claim of Joseph Will (RCA-2022-00197) ORIGINATING DEPARTMENT Finance & Property Services To Commi\u0001ee(s) # Commi\u0001ee Name Mee\u0002ng Date 1 Policy & Government Oversight Commi\u0001ee Mar 7, 2022 LEAD STAFF: Emily Ann Colby PRESENTED BY: Emily Ann Colby Ac\u0002on Item(s) # File Type Subcategory Item Descrip\u0002on 1 Ac\u0002on Se\u0001lement Approving the workers' compensa\u0002on claim of Joseph Will by payment of $160,000 over two years to Joseph Will and a\u0001orney, Meuser Law Firm and authorizing the City A\u0001orney's Oﬃce to execute any documents necessary to eﬀectuate the se\u0001lement. Ward / Neighborhood / Address # Ward Neighborhood Address 1. Not Applicable Background Analysis City of Minneapolis employee sustained work-related injuries. The par\u0002es reached a tenta\u0002ve se\u0001lement by payment of $160,000 over two years from fund 06930-1450100-789401-145400. Risk Management believes this se\u0001lement to be in the best interests of the City and recommends approval by the Commi\u0001ee and the City Council. FISCAL NOTE • Legal Se\u0001lement: Workers' Compensa\u0002on claim of Joseph Will - Fiscal Note RCA-2022-00197 - Legal Settlement: Workers' Compensation claim of... https://lims.minneapolismn.gov/RCA/9324 1 of 1 3/18/2022, 9:56 PM\n",
      "\n",
      "Home Legislative File 2022-00235 RCA Legal Se\u0001lement: Workers' Compensa\u0002on claim of Eric Shogren (RCA-2022-00198) ORIGINATING DEPARTMENT Finance & Property Services To Commi\u0001ee(s) # Commi\u0001ee Name Mee\u0002ng Date 1 Policy & Government Oversight Commi\u0001ee Mar 7, 2022 LEAD STAFF: Emily Ann Colby PRESENTED BY: Emily Ann Colby Ac\u0002on Item(s) # File Type Subcategory Item Descrip\u0002on 1 Ac\u0002on Se\u0001lement Approving the workers' compensa\u0002on claim of Eric Shogren by payment of $150,000 to Eric Shogren and a\u0001orney, Ashley Biermann, and authorizing the City A\u0001orney's Oﬃce to execute any documents necessary to eﬀectuate the se\u0001lement. Ward / Neighborhood / Address # Ward Neighborhood Address 1. Not Applicable Background Analysis City of Minneapolis employee sustained work-related injuries. The par\u0002es reached a tenta\u0002ve se\u0001lement by payment of $150,000 from fund 06930-1450100-789401-145400.  Risk Management believes this se\u0001lement to be in the best interests of the City and recommends approval by the Commi\u0001ee and the City Council. FISCAL NOTE • Legal Se\u0001lement: Workers' Compensa\u0002on claim of Eric Shogren - Fiscal Note RCA-2022-00198 - Legal Settlement: Workers' Compensation claim of... https://lims.minneapolismn.gov/RCA/9325 1 of 1 3/18/2022, 9:58 PM\n",
      "\n",
      "Home Legislative File 2022-00232 RCA Legal Se\u0001lement: Workers' Compensa\u0002on claim of John Delmonico (RCA-2022-00199) ORIGINATING DEPARTMENT Finance & Property Services To Commi\u0001ee(s) # Commi\u0001ee Name Mee\u0002ng Date 1 Policy & Government Oversight Commi\u0001ee Mar 7, 2022 LEAD STAFF: Emily Ann Colby PRESENTED BY: Emily Ann Colby Ac\u0002on Item(s) # File Type Subcategory Item Descrip\u0002on 1 Ac\u0002on Se\u0001lement Approving the workers' compensa\u0002on claim of John Delmonico by payment of $180,000 over four years to John Delmonico and a\u0001orney, Meuser Law Firm, and authorizing the City A\u0001orney's Oﬃce to execute any documents necessary to eﬀectuate the se\u0001lement. Ward / Neighborhood / Address # Ward Neighborhood Address 1. Not Applicable Background Analysis City of Minneapolis employee sustained work-related injuries. The par\u0002es reached a tenta\u0002ve se\u0001lement by payment of $180,000 over four years from fund 06930-1450100-789401-145400. Risk Management believes this setllement is in the best interests of the City and recommends approval by the Commi\u0001ee and the City Council. FISCAL NOTE • Legal Se\u0001lement: Workers' Compensa\u0002on claim of John Delmonico - Fiscal Note RCA-2022-00199 - Legal Settlement: Workers' Compensation claim of... https://lims.minneapolismn.gov/RCA/9327 1 of 1 3/18/2022, 9:57 PM\n",
      "\n",
      "Home Legislative File 2022-00229 RCA Legal Se\u0001lement: Workers' Compensa\u0002on claim of Clinton Letch (RCA-2022-00200) ORIGINATING DEPARTMENT Finance & Property Services To Commi\u0001ee(s) # Commi\u0001ee Name Mee\u0002ng Date 1 Policy & Government Oversight Commi\u0001ee Mar 7, 2022 LEAD STAFF: Emily Ann Colby PRESENTED BY: Emily Ann Colby Ac\u0002on Item(s) # File Type Subcategory Item Descrip\u0002on 1 Ac\u0002on Se\u0001lement Approving the workers' compensa\u0002on claim of Clinton Letch by payment of $185,000 over four years to Clinton Letch and a\u0001orney, Meuser Law Firm, and authorizing the City A\u0001orney's Oﬃce to execute any documents necessary to execute the se\u0001lement. Ward / Neighborhood / Address # Ward Neighborhood Address 1. Not Applicable Background Analysis City of Minnepaolis employee sustained a work-related injury. The par\u0002es reached a tenta\u0002ve se\u0001lement by payment of $185,000 over four years from fund 06930-1450100-789401-145400. Risk Management believes this se\u0001lement is in the best interests of the City and recommends approval by the Commi\u0001ee and the City Council. FISCAL NOTE • Legal Se\u0001lement: Workers' Compensa\u0002on claim of Clinton Letch - Fiscal Note RCA-2022-00200 - Legal Settlement: Workers' Compensation claim of... https://lims.minneapolismn.gov/RCA/9328 1 of 1 3/18/2022, 9:55 PM\n",
      "\n",
      "Home Legislative File 2022-00231 RCA Legal Se\u0001lement: Workers' Compensa\u0002on claim of John Ochs (RCA-2022-00205) ORIGINATING DEPARTMENT Finance & Property Services To Commi\u0001ee(s) # Commi\u0001ee Name Mee\u0002ng Date 1 Policy & Government Oversight Commi\u0001ee Mar 7, 2022 LEAD STAFF: Emily Ann Colby PRESENTED BY: Emily Ann Colby Ac\u0002on Item(s) # File Type Subcategory Item Descrip\u0002on 1 Ac\u0002on Se\u0001lement Approving the workers' compensa\u0002on claim of John Ochs by payment of $150,000 over three years to John Ochs and a\u0001orney, Meuser Law Firm, and authorizing the City A\u0001orney's Oﬃce to execute any documents necessary to eﬀectuate the se\u0001lement. Ward / Neighborhood / Address # Ward Neighborhood Address 1. Not Applicable Background Analysis City of Minneapolis employee sustained work-related injuries. The par\u0002es reached a tenta\u0002ve se\u0001lement by payment of $150,000 over three years from fund 06930-1450100-789401-145400. Risk Management believes this se\u0001lement to be in the best interests of the City and recommends approval by the Commi\u0001ee and the City Council. FISCAL NOTE • Legal Se\u0001lement: Workers' Compensa\u0002on claim of John Ochs - Fiscal Note RCA-2022-00205 - Legal Settlement: Workers' Compensation claim of... https://lims.minneapolismn.gov/RCA/9333 1 of 1 3/18/2022, 9:56 PM\n",
      "\n",
      "Home Legislative File 2022-00228 RCA Legal Se\u0001lement: Workers' Compensa\u0002on claim of Nicholas Pielert (RCA-2022-00209) ORIGINATING DEPARTMENT Finance & Property Services To Commi\u0001ee(s) # Commi\u0001ee Name Mee\u0002ng Date 1 Policy & Government Oversight Commi\u0001ee Mar 7, 2022 LEAD STAFF: Emily Ann Colby PRESENTED BY: Emily Ann Colby Ac\u0002on Item(s) # File Type Subcategory Item Descrip\u0002on 1 Ac\u0002on Se\u0001lement Approving the workers' compensa\u0002on claim of Nicholas Pielert by payment of $150,000 over three years to Nicholas Pielert and a\u0001orney, Meuser Law Firm, and authorizing the City A\u0001orney's Oﬃce to execute any documents necessary to eﬀectuate the se\u0001lement. Ward / Neighborhood / Address # Ward Neighborhood Address 1. Not Applicable Background Analysis City of Minneapolis employee sustained work-related injuries. The par\u0002es reached a tenta\u0002ve se\u0001lement by payment of $150,000 over three years from fund 06930-1450100-789401-145400. Risk Management believes this se\u0001lement to be in the best interests of the City and recommends approval by the Commi\u0001ee and the City Council. FISCAL NOTE • Legal Se\u0001lement: Workers' Compensa\u0002on claim of Nicholas Pielert - Fiscal Note RCA-2022-00209 - Legal Settlement: Workers' Compensation claim of... https://lims.minneapolismn.gov/RCA/9338 1 of 1 3/18/2022, 9:54 PM\n",
      "\n",
      "Home Legislative File 2022-00227 RCA Legal Se\u0001lement: Workers' Compensa\u0002on claim of Aaron Collins (RCA-2022-00236) ORIGINATING DEPARTMENT Finance & Property Services To Commi\u0001ee(s) # Commi\u0001ee Name Mee\u0002ng Date 1 Policy & Government Oversight Commi\u0001ee Mar 22, 2022 LEAD STAFF: Emily Ann Colby PRESENTED BY: Emily Ann Colby Ac\u0002on Item(s) # File Type Subcategory Item Descrip\u0002on 1 Ac\u0002on Se\u0001lement Approving the workers' compensa\u0002on claim of Aaron Collins by payment of $150,000 to Aaron Collins and a\u0001orney, Meuser Law Firm, and authorizing the City A\u0001orney's Oﬃce to execute any documents necessary to eﬀectuate the se\u0001lement. Ward / Neighborhood / Address # Ward Neighborhood Address 1. Not Applicable Background Analysis A City of Minneapolis employee sustained work-related injuries. The par\u0002es reached a tenta\u0002ve se\u0001lement by payment of $150,000 from fund 06930-1450100-789401-145400. Risk Management believes this se\u0001lement to be in the best interests of the City and recommends approval by the Commi\u0001ee and the City Council. FISCAL NOTE • Legal Se\u0001lement: Workers' Compensa\u0002on claim of Aaron Collins - Fiscal Note RCA-2022-00236 - Legal Settlement: Workers' Compensation claim o... https://lims.minneapolismn.gov/RCA/9363 1 of 1 3/18/2022, 9:32 PM\n",
      "\n",
      "Home Legislative File 2022-00093 RCA Legal se\u0001lement: Workers' Compensa\u0002on claim of Stot Dunphy (RCA-2022-00091) ORIGINATING DEPARTMENT Finance & Property Services To Commi\u0001ee(s) # Commi\u0001ee Name Mee\u0002ng Date 1 Policy & Government Oversight Commi\u0001ee Feb 7, 2022 LEAD STAFF: Emily Ann Colby PRESENTED BY: Emily Ann Colby Ac\u0002on Item(s) # File Type Subcategory Item Descrip\u0002on 1 Ac\u0002on Se\u0001lement Approving the workers' compensa\u0002on claim of Stot Dunphy by payment of $170,000 over three years to Stot Dunphy and a\u0001orneys, Meuser Law Firm, and authorizing the City A\u0001orney's Oﬃce to execute any documents necessary to eﬀectuate the se\u0001lement. Ward / Neighborhood / Address # Ward Neighborhood Address 1. Not Applicable Background Analysis City of Minneapolis Stot Dunphyemployee sustained work-related injuries. The par\u0002es reached a tenta\u0002ve se\u0001lement by payment of $170,000 over three years from fund 06930-1450100-789401-145400. Risk Management believes the se\u0001lement is in the best interests of the City and recomends approval by the Commi\u0001ee and the City Council. FISCAL NOTE • Legal se\u0001lement: Workers' Compensa\u0002on claim of Stot Dunphy - Fiscal Note RCA-2022-00091 - Legal settlement: Workers' Compensation claim of... https://lims.minneapolismn.gov/RCA/9181 1 of 1 3/18/2022, 9:40 PM\n",
      "\n",
      "According to the complaint, the incident began at the intersection of W 7th St & Kellogg Blvd, St. Paul, MN. Bystanders reported raised voices and a brief scuffle before the officer escorted the resident to a patrol car.\n"
     ]
    }
   ],
   "source": [
    "for t in small_df[\"text\"]:\n",
    "    print(f\"\\n{t}\")"
   ]
  },
  {
   "cell_type": "markdown",
   "id": "69f6b6b1",
   "metadata": {},
   "source": [
    "We will try the first and last texts in `small_df` again."
   ]
  },
  {
   "cell_type": "code",
   "execution_count": 13,
   "id": "aaa7dd47",
   "metadata": {},
   "outputs": [
    {
     "name": "stdout",
     "output_type": "stream",
     "text": [
      "Sentence[39]: \"Witnesses say the stop happened around 8:30 p.m. outside 1515 Nicollet Ave, Minneapolis, MN. The complainant alleges the officer pulled them from the vehicle without cause and placed them in cuffs on the sidewalk.\"\" → [\"Nicollet Ave\"/LOC, \"Minneapolis\"/LOC, \"MN\"/LOC]\n"
     ]
    }
   ],
   "source": [
    "# Use the small model to predict the first text\n",
    "text = small_df.loc[0, \"text\"] # first text\n",
    "sentence = Sentence(text)\n",
    "\n",
    "tagger_small.predict(sentence)\n",
    "print(sentence)"
   ]
  },
  {
   "cell_type": "code",
   "execution_count": 15,
   "id": "002de13c",
   "metadata": {},
   "outputs": [
    {
     "name": "stdout",
     "output_type": "stream",
     "text": [
      "Sentence[39]: \"Witnesses say the stop happened around 8:30 p.m. outside 1515 Nicollet Ave, Minneapolis, MN. The complainant alleges the officer pulled them from the vehicle without cause and placed them in cuffs on the sidewalk.\"\" → [\"Nicollet Ave\"/LOC, \"Minneapolis\"/LOC, \"MN\"/LOC]\n"
     ]
    }
   ],
   "source": [
    "# Use the transformer to predict the first text\n",
    "sentence = Sentence(text)\n",
    "tagger.predict(sentence)\n",
    "print(sentence)"
   ]
  },
  {
   "cell_type": "markdown",
   "id": "3e458af3",
   "metadata": {},
   "source": [
    "Same benefits and problems as before. Also, no other entities are detected besides location. Also, the transformer and the small model seem to be equally accurate."
   ]
  },
  {
   "cell_type": "code",
   "execution_count": 16,
   "id": "ee125679",
   "metadata": {},
   "outputs": [
    {
     "name": "stdout",
     "output_type": "stream",
     "text": [
      "Sentence[43]: \"According to the complaint, the incident began at the intersection of W 7th St & Kellogg Blvd, St. Paul, MN. Bystanders reported raised voices and a brief scuffle before the officer escorted the resident to a patrol car.\" → [\"W 7th St\"/LOC, \"Kellogg Blvd\"/LOC, \"St. Paul\"/LOC]\n"
     ]
    }
   ],
   "source": [
    "text = small_df.loc[len(small_df) - 1, \"text\"] # last text\n",
    "sentence = Sentence(text)\n",
    "tagger.predict(sentence)\n",
    "print(sentence)"
   ]
  },
  {
   "cell_type": "markdown",
   "id": "9e2ca5f2",
   "metadata": {},
   "source": [
    "Cannot identify an intersection as one location. Cannot identify \"MN\" as a location. "
   ]
  },
  {
   "cell_type": "code",
   "execution_count": 17,
   "id": "12232c70",
   "metadata": {},
   "outputs": [
    {
     "name": "stdout",
     "output_type": "stream",
     "text": [
      "Sentence[43]: \"According to the complaint, the incident began at the intersection of W 7th St & Kellogg Blvd, St. Paul, MN. Bystanders reported raised voices and a brief scuffle before the officer escorted the resident to a patrol car.\" → [\"Kellogg Blvd\"/LOC, \"St. Paul\"/LOC, \"MN\"/LOC]\n"
     ]
    }
   ],
   "source": [
    "tagger_small.predict(sentence)\n",
    "print(sentence)"
   ]
  },
  {
   "cell_type": "markdown",
   "id": "1f29725b",
   "metadata": {},
   "source": [
    "The small model DOES identify MN as a location, but not \"W 7th St\"."
   ]
  },
  {
   "cell_type": "code",
   "execution_count": 18,
   "id": "4c79efe7",
   "metadata": {},
   "outputs": [
    {
     "data": {
      "text/plain": [
       "\"Home \\uf105Legislative File 2022-00241 \\uf105RCA Legal Se\\x01lement: Workers' Compensa\\x02on claim of Kurt Radke (RCA-2022-00194) ORIGINATING DEPARTMENT Finance & Property Services To Commi\\x01ee(s) # Commi\\x01ee Name Mee\\x02ng Date 1 Policy & Government Oversight Commi\\x01ee Mar 7, 2022 LEAD STAFF: Emily Ann Colby PRESENTED BY: Emily Ann Colby Ac\\x02on Item(s) # File Type Subcategory Item Descrip\\x02on 1 Ac\\x02on Se\\x01lement Approving the workers' compensa\\x02on claim of Kurt Radke by payment of $160,000 over three years to Kurt Radke and a\\x01orney, Meuser Law Firm, and authorizing the City A\\x01orney's Oﬃce to execute any documents necessary to eﬀectuate the se\\x01lement. Ward / Neighborhood / Address # Ward Neighborhood Address 1. Not Applicable Background Analysis City of Minneapolis employee sustained work-related injuries. The par\\x02es reached a tenta\\x02ve se\\x01lement by payment of $160,000 over three years from fun 06930-1450100-789401-145400. Risk Management believes this se\\x01lement is in the best interests of the City and recommends approval by the Commi\\x01ee and the City Council. FISCAL NOTE • Legal Se\\x01lement: Workers' Compensa\\x02on claim of Kurt Radke - Fiscal Note RCA-2022-00194 - Legal Settlement: Workers' Compensation claim o... https://lims.minneapolismn.gov/RCA/9321 1 of 1 3/18/2022, 10:01 PM\""
      ]
     },
     "execution_count": 18,
     "metadata": {},
     "output_type": "execute_result"
    }
   ],
   "source": [
    "small_df.loc[1, \"text\"]"
   ]
  },
  {
   "cell_type": "code",
   "execution_count": 19,
   "id": "abf7424a",
   "metadata": {},
   "outputs": [
    {
     "name": "stdout",
     "output_type": "stream",
     "text": [
      "Sentence[265]: \"Home Legislative File 2022-00233 RCA Legal Se\u0001lement: Workers' Compensa\u0002on claim of Craig Taylor (RCA-2022-00195) ORIGINATING DEPARTMENT Finance & Property Services To Commi\u0001ee(s) # Commi\u0001ee Name Mee\u0002ng Date 1 Policy & Government Oversight Commi\u0001ee Mar 7, 2022 LEAD STAFF: Emily Ann Colby PRESENTED BY: Emily Ann Colby Ac\u0002on Item(s) # File Type Subcategory Item Descrip\u0002on 1 Ac\u0002on Se\u0001lement Approving the workers' compensa\u0002on claim of Craig Taylor, by payment of $175,000 over three years to Craig Taylor and a\u0001orney, Meuser Law Firm, and authorizing the City A\u0001orney's Oﬃce to execute any documents necessary to eﬀectuate the se\u0001lement. Ward / Neighborhood / Address # Ward Neighborhood Address 1. Not Applicable Background Analysis City of Minneapolis employee sustained work-related injuries. The par\u0002es reached a tenta\u0002ve se\u0001lement by payment fo $175,000 over three years from fund 06930-1450100-789401-145400. Risk Management believes this se\u0001lement is in the best interests of the City and recommends approval by the Commi\u0001ee and the City Council. FISCAL NOTE • Legal Se\u0001lement: Workers' Compensa\u0002on claim of Craig Taylor - Fiscal Note RCA-2022-00195 - Legal Settlement: Workers' Compensation claim of... https://lims.minneapolismn.gov/RCA/9322 1 of 1 3/18/2022, 9:57 PM\" → [\"Craig Taylor\"/PER, \"Finance & Property Services\"/ORG, \"Emily Ann Colby\"/PER, \"Emily Ann Colby\"/PER, \"Craig Taylor\"/PER, \"Craig Taylor\"/PER, \"Meuser Law Firm\"/ORG, \"City A\"/ORG, \"orney's Oﬃce\"/ORG, \"City of Minneapolis\"/LOC, \"Risk Management\"/ORG, \"City Council\"/ORG, \"Craig Taylor\"/PER]\n"
     ]
    }
   ],
   "source": [
    "# Try one of the workers' compensation claims. \n",
    "text = small_df.loc[2, \"text\"]\n",
    "sentence = Sentence(text)\n",
    "tagger.predict(sentence)\n",
    "print(sentence)"
   ]
  },
  {
   "cell_type": "code",
   "execution_count": 20,
   "id": "056234e1",
   "metadata": {},
   "outputs": [
    {
     "name": "stdout",
     "output_type": "stream",
     "text": [
      "Sentence[265]: \"Home Legislative File 2022-00233 RCA Legal Se\u0001lement: Workers' Compensa\u0002on claim of Craig Taylor (RCA-2022-00195) ORIGINATING DEPARTMENT Finance & Property Services To Commi\u0001ee(s) # Commi\u0001ee Name Mee\u0002ng Date 1 Policy & Government Oversight Commi\u0001ee Mar 7, 2022 LEAD STAFF: Emily Ann Colby PRESENTED BY: Emily Ann Colby Ac\u0002on Item(s) # File Type Subcategory Item Descrip\u0002on 1 Ac\u0002on Se\u0001lement Approving the workers' compensa\u0002on claim of Craig Taylor, by payment of $175,000 over three years to Craig Taylor and a\u0001orney, Meuser Law Firm, and authorizing the City A\u0001orney's Oﬃce to execute any documents necessary to eﬀectuate the se\u0001lement. Ward / Neighborhood / Address # Ward Neighborhood Address 1. Not Applicable Background Analysis City of Minneapolis employee sustained work-related injuries. The par\u0002es reached a tenta\u0002ve se\u0001lement by payment fo $175,000 over three years from fund 06930-1450100-789401-145400. Risk Management believes this se\u0001lement is in the best interests of the City and recommends approval by the Commi\u0001ee and the City Council. FISCAL NOTE • Legal Se\u0001lement: Workers' Compensa\u0002on claim of Craig Taylor - Fiscal Note RCA-2022-00195 - Legal Settlement: Workers' Compensation claim of... https://lims.minneapolismn.gov/RCA/9322 1 of 1 3/18/2022, 9:57 PM\" → [\"Craig Taylor\"/PER, \"Emily Ann Colby\"/PER, \"Emily Ann Colby\"/PER, \"Craig Taylor\"/PER, \"Craig Taylor\"/PER, \"Meuser Law Firm\"/ORG, \"Ward\"/LOC, \"Minneapolis\"/LOC, \"Commi\"/ORG, \"City Council\"/ORG]\n"
     ]
    }
   ],
   "source": [
    "tagger_small.predict(sentence)\n",
    "print(sentence)"
   ]
  },
  {
   "cell_type": "markdown",
   "id": "bd635645",
   "metadata": {},
   "source": [
    "These models handle the weird characters better than Spacy. For the last text I tried, the transformer performs better."
   ]
  },
  {
   "cell_type": "markdown",
   "id": "258ba8d1",
   "metadata": {},
   "source": [
    "## Try a HuggingFace model for detecting locations"
   ]
  },
  {
   "cell_type": "markdown",
   "id": "65dbdb31",
   "metadata": {},
   "source": [
    "This is a Flair model on the HuggingFace hub that was fine-tuned specifically for detecting locations. Link: https://huggingface.co/Saisam/Inquirer_ner_loc."
   ]
  },
  {
   "cell_type": "code",
   "execution_count": 1,
   "id": "a00c195a",
   "metadata": {},
   "outputs": [
    {
     "name": "stderr",
     "output_type": "stream",
     "text": [
      "c:\\Users\\david\\AppData\\Local\\Programs\\Python\\Python312\\Lib\\site-packages\\tqdm\\auto.py:21: TqdmWarning: IProgress not found. Please update jupyter and ipywidgets. See https://ipywidgets.readthedocs.io/en/stable/user_install.html\n",
      "  from .autonotebook import tqdm as notebook_tqdm\n"
     ]
    },
    {
     "name": "stdout",
     "output_type": "stream",
     "text": [
      "2025-10-28 16:03:00,952 SequenceTagger predicts: Dictionary with 20 tags: <unk>, O, S-ORG, S-MISC, B-PER, E-PER, S-LOC, B-ORG, E-ORG, I-PER, S-PER, B-MISC, I-MISC, E-MISC, I-ORG, B-LOC, E-LOC, I-LOC, <START>, <STOP>\n"
     ]
    }
   ],
   "source": [
    "from flair.models import SequenceTagger\n",
    "loc_tagger = SequenceTagger.load(\"Saisam/Inquirer_ner_loc\")"
   ]
  },
  {
   "cell_type": "markdown",
   "id": "664d2362",
   "metadata": {},
   "source": [
    "### Try simple sentences"
   ]
  },
  {
   "cell_type": "code",
   "execution_count": 4,
   "id": "83841f76",
   "metadata": {},
   "outputs": [
    {
     "name": "stdout",
     "output_type": "stream",
     "text": [
      "Sentence[15]: \"Jane Smith lives on 123 Redmond Ave. NE, Redmond, WA, USA\" → [\"123 Redmond Ave. NE, Redmond, WA, USA\"/nk>]\n"
     ]
    }
   ],
   "source": [
    "text = \"Jane Smith lives on 123 Redmond Ave. NE, Redmond, WA, USA\"\n",
    "sentence = Sentence(text) # make a Sentence object from the text\n",
    "\n",
    "loc_tagger.predict(sentence)\n",
    "print(sentence.to_tagged_string())"
   ]
  },
  {
   "cell_type": "code",
   "execution_count": 24,
   "id": "d6bbbf25",
   "metadata": {},
   "outputs": [
    {
     "name": "stdout",
     "output_type": "stream",
     "text": [
      "Span[4:15]: \"123 Redmond Ave. NE, Redmond, WA, USA\" → nk> (0.9706)\n"
     ]
    }
   ],
   "source": [
    "# iterate over predictions\n",
    "for label in sentence.get_labels():\n",
    "    print(label)"
   ]
  },
  {
   "cell_type": "code",
   "execution_count": 5,
   "id": "5a22b227",
   "metadata": {},
   "outputs": [
    {
     "data": {
      "text/plain": [
       "[Span[4:15]: \"123 Redmond Ave. NE, Redmond, WA, USA\" → nk> (0.9706)]"
      ]
     },
     "execution_count": 5,
     "metadata": {},
     "output_type": "execute_result"
    }
   ],
   "source": [
    "sentence.get_spans(\"ner\")"
   ]
  },
  {
   "cell_type": "code",
   "execution_count": null,
   "id": "6b477112",
   "metadata": {},
   "outputs": [
    {
     "name": "stdout",
     "output_type": "stream",
     "text": [
      "label.value is: \"nk>\"\n",
      "label.score is: \"0.9706432927738536\"\n",
      "the text of label.data_point is: \"123 Redmond Ave. NE, Redmond, WA, USA\"\n",
      "\n"
     ]
    }
   ],
   "source": [
    "# iterate over all labels in the sentence\n",
    "for label in sentence.get_labels():\n",
    "    print(f'label.value is: \"{label.value}\"')\n",
    "    print(f'label.score is: \"{label.score}\"')\n",
    "    print(f'the text of label.data_point is: \"{label.data_point.text}\"\\n')"
   ]
  },
  {
   "cell_type": "markdown",
   "id": "a5aa6c66",
   "metadata": {},
   "source": [
    "### Try small dataset"
   ]
  },
  {
   "cell_type": "code",
   "execution_count": 37,
   "id": "e57183d8",
   "metadata": {},
   "outputs": [
    {
     "name": "stdout",
     "output_type": "stream",
     "text": [
      "Sentence[39]: \"Witnesses say the stop happened around 8:30 p.m. outside 1515 Nicollet Ave, Minneapolis, MN. The complainant alleges the officer pulled them from the vehicle without cause and placed them in cuffs on the sidewalk.\"\" → [\"1515 Nicollet Ave, Minneapolis, MN.\"/nk>, \"sidewalk.\"/nk>]\n"
     ]
    }
   ],
   "source": [
    "# try the texts in the dataframe\n",
    "text = small_df.loc[0, \"text\"] # first text\n",
    "sentence = Sentence(text)\n",
    "loc_tagger.predict(sentence)\n",
    "print(sentence)"
   ]
  },
  {
   "cell_type": "markdown",
   "id": "d7d87951",
   "metadata": {},
   "source": [
    "Predicts the address perfectly, but has \"sidewalk\" as a location, which we don't want. So, try a regular Flair model and see how it predicts \"sidewalk\":"
   ]
  },
  {
   "cell_type": "code",
   "execution_count": 38,
   "id": "63761b02",
   "metadata": {},
   "outputs": [
    {
     "name": "stdout",
     "output_type": "stream",
     "text": [
      "Sentence[39]: \"Witnesses say the stop happened around 8:30 p.m. outside 1515 Nicollet Ave, Minneapolis, MN. The complainant alleges the officer pulled them from the vehicle without cause and placed them in cuffs on the sidewalk.\"\" → [\"Nicollet Ave\"/LOC, \"Minneapolis\"/LOC, \"MN\"/LOC]\n"
     ]
    }
   ],
   "source": [
    "tagger.predict(sentence)\n",
    "print(sentence)"
   ]
  },
  {
   "cell_type": "code",
   "execution_count": 39,
   "id": "15e7316f",
   "metadata": {},
   "outputs": [
    {
     "name": "stdout",
     "output_type": "stream",
     "text": [
      "Sentence[39]: \"Witnesses say the stop happened around 8:30 p.m. outside 1515 Nicollet Ave, Minneapolis, MN. The complainant alleges the officer pulled them from the vehicle without cause and placed them in cuffs on the sidewalk.\"\" → [\"Nicollet Ave\"/LOC, \"Minneapolis\"/LOC, \"MN\"/LOC]\n"
     ]
    }
   ],
   "source": [
    "tagger_small.predict(sentence)\n",
    "print(sentence)"
   ]
  },
  {
   "cell_type": "markdown",
   "id": "6c67c6b3",
   "metadata": {},
   "source": [
    "Neither of these predict \"sidewalk\" as an entity. So maybe we can cross-check the results from both the HuggingFace model and the regular Flair models."
   ]
  },
  {
   "cell_type": "code",
   "execution_count": 34,
   "id": "771d3bf8",
   "metadata": {},
   "outputs": [
    {
     "name": "stdout",
     "output_type": "stream",
     "text": [
      "Sentence[43]: \"According to the complaint, the incident began at the intersection of W 7th St & Kellogg Blvd, St. Paul, MN. Bystanders reported raised voices and a brief scuffle before the officer escorted the resident to a patrol car.\" → [\"W 7th St & Kellogg Blvd, St. Paul, MN.\"/nk>]\n"
     ]
    }
   ],
   "source": [
    "text = small_df.loc[len(small_df) - 1, \"text\"]\n",
    "sentence = Sentence(text)\n",
    "loc_tagger.predict(sentence)\n",
    "print(sentence)"
   ]
  },
  {
   "cell_type": "markdown",
   "id": "2f268a36",
   "metadata": {},
   "source": [
    "It can extract intersections too!"
   ]
  },
  {
   "cell_type": "code",
   "execution_count": 44,
   "id": "11193acd",
   "metadata": {},
   "outputs": [
    {
     "name": "stdout",
     "output_type": "stream",
     "text": [
      "Sentence[265]: \"Home Legislative File 2022-00233 RCA Legal Se\u0001lement: Workers' Compensa\u0002on claim of Craig Taylor (RCA-2022-00195) ORIGINATING DEPARTMENT Finance & Property Services To Commi\u0001ee(s) # Commi\u0001ee Name Mee\u0002ng Date 1 Policy & Government Oversight Commi\u0001ee Mar 7, 2022 LEAD STAFF: Emily Ann Colby PRESENTED BY: Emily Ann Colby Ac\u0002on Item(s) # File Type Subcategory Item Descrip\u0002on 1 Ac\u0002on Se\u0001lement Approving the workers' compensa\u0002on claim of Craig Taylor, by payment of $175,000 over three years to Craig Taylor and a\u0001orney, Meuser Law Firm, and authorizing the City A\u0001orney's Oﬃce to execute any documents necessary to eﬀectuate the se\u0001lement. Ward / Neighborhood / Address # Ward Neighborhood Address 1. Not Applicable Background Analysis City of Minneapolis employee sustained work-related injuries. The par\u0002es reached a tenta\u0002ve se\u0001lement by payment fo $175,000 over three years from fund 06930-1450100-789401-145400. Risk Management believes this se\u0001lement is in the best interests of the City and recommends approval by the Commi\u0001ee and the City Council. FISCAL NOTE • Legal Se\u0001lement: Workers' Compensa\u0002on claim of Craig Taylor - Fiscal Note RCA-2022-00195 - Legal Settlement: Workers' Compensation claim of... https://lims.minneapolismn.gov/RCA/9322 1 of 1 3/18/2022, 9:57 PM\" → [\"City A\"/nk>, \"orney's Oﬃce\"/nk>, \"Ward / Neighborhood /\"/nk>, \"# Ward Neighborhood Address 1.\"/nk>, \"City of Minneapolis\"/nk>]\n"
     ]
    }
   ],
   "source": [
    "text = small_df.loc[2, \"text\"]\n",
    "sentence = Sentence(text)\n",
    "loc_tagger.predict(sentence)\n",
    "print(sentence)"
   ]
  },
  {
   "cell_type": "code",
   "execution_count": 36,
   "id": "da06cd20",
   "metadata": {},
   "outputs": [
    {
     "name": "stdout",
     "output_type": "stream",
     "text": [
      "label.value is: \"nk>\"\n",
      "label.score is: \"0.9161780178546906\"\n",
      "the text of label.data_point is: \"City A\"\n",
      "\n",
      "label.value is: \"nk>\"\n",
      "label.score is: \"0.896032969156901\"\n",
      "the text of label.data_point is: \"orney's Oﬃce\"\n",
      "\n",
      "label.value is: \"nk>\"\n",
      "label.score is: \"0.7273060530424118\"\n",
      "the text of label.data_point is: \"Ward / Neighborhood /\"\n",
      "\n",
      "label.value is: \"nk>\"\n",
      "label.score is: \"0.8573320309321085\"\n",
      "the text of label.data_point is: \"# Ward Neighborhood Address 1.\"\n",
      "\n",
      "label.value is: \"nk>\"\n",
      "label.score is: \"0.9252222180366516\"\n",
      "the text of label.data_point is: \"City of Minneapolis\"\n",
      "\n"
     ]
    }
   ],
   "source": [
    "# iterate over all labels in the sentence\n",
    "for label in sentence.get_labels():\n",
    "    # print label value and score\n",
    "    print(f'label.value is: \"{label.value}\"')\n",
    "    print(f'label.score is: \"{label.score}\"')\n",
    "    # access the data point to which label attaches and print its text\n",
    "    print(f'the text of label.data_point is: \"{label.data_point.text}\"\\n')"
   ]
  },
  {
   "cell_type": "markdown",
   "id": "c6f8a75f",
   "metadata": {},
   "source": [
    "The weird characters are still a problem, because \"City Attorney's Office\" is split apart. Also, it predicts \"Ward / Neighborhood /\" and \"# Ward Neighborhood Address 1\" as locations, which is wrong."
   ]
  },
  {
   "cell_type": "markdown",
   "id": "8a161ec2",
   "metadata": {},
   "source": [
    "### Try full dataset"
   ]
  },
  {
   "cell_type": "code",
   "execution_count": 47,
   "id": "9ae5096e",
   "metadata": {},
   "outputs": [
    {
     "name": "stdout",
     "output_type": "stream",
     "text": [
      "0: Home Legislative File 2021-01132 RCA Legal se\u0001lement: Workers' Compensa\u0002on claim of Andrew Allen (RCA-2021-01206) ORIGINATING DEPARTMENT Finance & Property Services To Commi\u0001ee(s) # Commi\u0001ee Name Mee\u0002ng Date 1 Policy & Government Oversight Commi\u0001ee Oct 20, 2021 LEAD STAFF: Emily Ann Colby PRESENTED BY: Emily Ann Colby Ac\u0002on Item(s) # File Type Subcategory Item Descrip\u0002on 1 Ac\u0002on Se\u0001lement Approving the se\u0001lement of the Workers' Compensa\u0002on claim of Andrew Allen, by payment of $170,000 to Andrew Allen and a\u0001orney, Meuser Law Firm, and authorizing the City A\u0001orney's Oﬃce to execute any documents necessary to eﬀectuate the se\u0001lement. Previous Ac\u0002ons None RCA-2021-01206 - Legal settlement: Workers' Compensation claim of ... https://lims.minneapolismn.gov/RCA/8755 1 of 2 12/4/2021, 1:33 AM Ward / Neighborhood / Address # Ward Neighborhood Address 1. Not Applicable Background Analysis City of Minneapolis employee sustained work-related injuries. The par\u0002es reached a tenta\u0002ve se\u0001lement of $170,000 over three years from fund 06930-1450100-789401-145400. Risk Management believes this se\u0001lement is in the best interests of the City and recommends approval by the Commi\u0001ee and the City Council. FISCAL NOTE • Legal se\u0001lement: Workers' Compensa\u0002on claim of Andrew Allen - Fiscal Note RCA-2021-01206 - Legal settlement: Workers' Compensation claim of ... https://lims.minneapolismn.gov/RCA/8755 2 of 2 12/4/2021, 1:33 AM\n",
      "\n",
      "1: Hennepin County  300 South Sixth Street, Minneapolis, MN 55487    DATE:   December 21, 2021      TO:     Detention Deputy Guled Abdullahi      FROM:   Assistant County Administrator Mark Thompson      RE:     Written Reprimand         You are receiving a written reprimand for your failure to follow Hennepin  County’s COVID-19 Vaccination and Testing Policy.  Hennepin County has sent regular  and ongoing communication regarding the policy expectation of being fully vaccinated  or complying with weekly COVID testing.        During the week of October 11-16, 2021 you failed to provide proof:     •  Of your vaccination status, or   •  That you had taken a COVID test and provided your test results      Due to the seriousness of your failure to follow directives and abide by the county’s  vaccination and testing policy, you are being issued this written reprimand.        It is my hope that you will take advantage of this opportunity to correct your behavior so  that you may succeed in this position.  Please note that continued incidents of this  nature or a similar nature may result in additional, more serious disciplinary action up to  and including termination.       If you wish to appeal this action, your rights and the procedures are contained in the  Labor Agreement between Hennepin County and the Minnesota Public Employees  Association.             Cc:   Manager   HR Business Partner   Labor Relations Representative   Payroll Contact   Employee HR File\n",
      "\n",
      "2: 2/22/2021 Jenson v. Craft, Civil No. 01-1488(DSD/JMM) | Casetext Search + Citator https://casetext.com/case/jenson-v-craft 1/18 From Casetext: Smarter Legal Research Jenson v. Craft United States District Court, D. Minnesota Jun 18, 2002 Civil No. 01-1488(DSD/JMM) (D. Minn. Jun. 18, 2002) Copy Citation Download Treatment Civil No. 01-1488(DSD/JMM) June 18, 2002 Theodore D. Dooley, Esq. and Dooley Reichert, Minneapolis, MN, and Peter J. Nickitas, Esq., Nickitas Law O:ce, St. Paul, MN, for plainti9. Kenneth W. Sa9old, Esq., J. Sebastian Stewart, Esq. and Blackwell, Igbanugo, Engen Sa9old, Minneapolis, MN, for defendant Dan Craft. Jon K. Iverson, Esq., Jason J. Kuboushek, Esq. and Iverson and Reuvers, Bloomington, MN, for defendants Dean Albers, Randy Mickelson, Patrick Thompson, Bob Dissell, Scott McNurlin, Steven Betcher, Carol Lee and Goodhue County. Jon M. Hopeman, Esq., Eric Reinsche, Esq. and Felhaber, Larson, Fenlon Vogt, Minneapolis, MN, and Jon K. Iverson, Esq., Jason J. Kuboushek, Esq. and Iverson and Reuvers, Bloomington, MN, for defendant David Price. W. Karl Hansen, Assistant Minnesota Attorney General, St. Paul, MN, counsel for defendant Herm Dybevik. Search all cases and statutes... Help Sign In Sign Up Opinion Case details JX 2/22/2021 Jenson v. Craft, Civil No. 01-1488(DSD/JMM) | Casetext Search + Citator https://casetext.com/case/jenson-v-craft 2/18 DAVID S. DOTY, Judge Andrea G. White, Dakota County Attorney, Hastings, MN, for defendant Brad Wayne. Red flags, copy-with-cite, case summaries, annotated statutes and more. Learn more ORDER This matter is before the court on defendants' motions to dismiss pursuant to Federal Rule of Civil Procedure 12(b)(6), or in the alternative, for summary judgment pursuant to Federal Rule of Civil Procedure 56.  Based on a review of the 7le, record, and for the following reasons, the court grants defendants' motions and plainti9's claims are dismissed. 1 1 Defendant Brad Wayne was dismissed from this matter at the hearing unopposed by plainti9. (See also Pl.'s Mem. at 30.) BACKGROUND On June 27, 1995, three-year old Jessica Swanson was reported missing to law enforcement authorities from her home in Goodhue County, Minnesota. In the four years that followed the disappearance of Jessica Swanson, Minnesota law enforcement agencies conducted an extensive investigation into her disappearance and were unable to resolve the circumstances surrounding her disappearance. During the period of 1995 through 1999, law enforcement agencies identi7ed the main suspect as Dale Jenson, the live-in boyfriend of Jessica Swanson's mother and the last person to see her. During the summer of 1999, the Goodhue County Attorney's o:ce and Goodhue County law enforcement agencies concluded that probable cause existed to charge Dale Jenson with the kidnaping of Jessica Swanson as well 2/22/2021 Jenson v. Craft, Civil No. 01-1488(DSD/JMM) | Casetext Search + Citator https://casetext.com/case/jenson-v-craft 3/18 as with the deprivation of parental and custodial rights. The mother of Jessica Swanson, Michelle Swanson, was to be charged with assisting Jenson. At about the same time that the decision was made to charge Dale Jenson, the Goodhue County Sheri9, Dean Albers, informed county attorney Steven Betcher that the sheri9 would seek the assistance of the Federal Bureau of Investigation (\"FBI\") in an attempt to interview Dale Jenson. Dale Jenson had been interviewed in excess of 20 times between 1995 and 1999 by law enforcement o:cers from various agencies within the State of Minnesota. Sheri9 Albers indicated to the county attorney that FBI special agent Daniel Craft was highly experienced in interviewing subjects in similar cases. The Goodhue County Attorney's o:ce had no prior knowledge of, nor did they have any experience in working with Mr. Craft. On August 24, 1999, a meeting was held in the Goodhue County Law Enforcement Center to review with Agent Craft what had happened on the case to that point and the relevant Minnesota law pertaining to criminal suspect interviews.  During the meeting, Agent Craft asked what to do if Jenson requested an attorney. Craft was informed that in previous interviews Jenson had requested an attorney but then revoked the request. It was determined that should Jenson again request an attorney, Craft should ignore the request since it was likely that Jenson would revoke the request. 2 2 Present at this meeting were Goodhue County Sheri9 Dean Albers, Randy Mickelson, Patrick Thompson, Bob Dissell and Scott McNurlin, all of the Goodhue County Sheri9's Department, David Price of the Rochester o:ce of the FBI, Herm Dybezick of the Minnesota Bureau of Criminal Apprehension, and FBI Agent Daniel Craft. Goodhue County Attorney Steven Betcher and Assistant County Attorney Carol Lee also came to the meeting after it had commenced but where not present for all portions of the meeting. On August 25, 1999, Dale Jenson was asked to come to the Dakota County Law Enforcement Center in Hastings, Minnesota to meet with the law enforcement o:cers. Jenson was living in Hastings at that time and he complied with the request. FBI Agent Craft then conducted an interview with Dale Jenson that lasted approximately three hours and ten minutes. The interview was both videotaped and audiotaped. At the beginning of the 2/22/2021 Jenson v. Craft, Civil No. 01-1488(DSD/JMM) | Casetext Search + Citator https://casetext.com/case/jenson-v-craft 4/18 interview, Jenson was only told part of the Miranda warning. He was not informed that if he could not a9ord an attorney one would be appointed for him before any questioning and that at any time during the questioning he could exercise the protections provided by the Miranda warning. He was also not asked if he speci7cally waived his Miranda rights. During the interview, Dale Jenson talked about the need for an attorney and at one point said, \"I want an attorney.\" The interview continued without Jenson talking to a lawyer. Jenson subsequently confessed that he had accidentally killed Jessica and hid her body. That same day, he led law enforcement o:cers to where he had hidden her body. On August 26, 1999, Dale Jenson was arraigned on a felony complaint. Mary D. Wing7eld, Assistant District Public Defender, was appointed to represent Jenson. The state provided Jenson and his counsel complete copies of the interview tapes along with other discovery materials. On September 17, 1999, at a pretrial hearing before the Honorable Richard C. Perkins, Ms. Wing7eld, counsel for Jenson, informed the court that Jenson wished to waive the omnibus hearing and intended to plead guilty to manslaughter in the second degree. At the plea and sentencing hearing on September 24, 1999, before the Honorable Richard C. Perkins, the Goodhue County Attorney Steven Betcher and First Assistant County Attorney Carol Lee appeared on behalf of the state and Mary Wing7eld and Anthony Ho, another assistant district public defender, appeared on behalf of Jenson. Scott Swanson from the state public defender's o:ce also appeared. Jenson entered a plea of guilty to one count of manslaughter in the second degree with the charges of kidnaping and deprivation of parental rights being dismissed as a condition of the entry of guilt on the manslaughter charge. When directly questioned by the court, the defendant admitted that he understood the charge and entered a plea of guilty to manslaughter in the second degree. Upon further questioning by the court and by Ms. Wing7eld, the factual basis for the manslaughter guilty plea was placed on the record. Jenson further stated that his attorney had adequately represented his interests and that he had no further questions regarding the proceeding. 2/22/2021 Jenson v. Craft, Civil No. 01-1488(DSD/JMM) | Casetext Search + Citator https://casetext.com/case/jenson-v-craft 5/18 Subsequent questioning placed a knowing waiver of defendant's right to an omnibus hearing on the record, at which time the issue of probable cause and the confession could be raised. The record clearly re8ects that both the defendant and his attorney knew of the constitutional issues that could have been raised at an evidentiary hearing and that a hearing might have determined that the FBI agent had violated Jenson's Fifth and Sixth Amendment rights in light of the way that the interview was conducted. Jenson expressly waived his right to contest these constitutional issues. Jenson did not appeal his guilty plea to the Minnesota Court of Appeals or the Minnesota Supreme Court. Jenson has now 7led suit pursuant to 42 U.S.C. § 1983 and Bivens v. Six Unnamed Agents, 403 U.S. 388 (1971), alleging that all of the named defendants, in their individual and o:cial capacities, violated: (1) plainti9's constitutional rights under the Fifth, Sixth and Fourteenth Amendments to the United States Constitution ; (2) plainti9's rights under Article I, Section 6, 7 and 8 of the Minnesota Constitution; and (3) plainti9's rights pursuant to State v. Scales, 518 N.W.2d 587 (Minn. 1994) and Minn. Stat. § 481.10 (1998). 3 3 Plainti9 brings these claims under 42 U.S.C. § 1983. While plainti9 asserts in his complaint a cause of action for conspiracy under 42 U.S.C. § 1985, he later acknowledges in his memorandum that this was an error and any conspiracy claim should be considered under § 1983. (See Pl.'s Mem. at 28-29 (\"The court should take heed of these paragraphs [pleading conspiracy], and view the conspiracies pleaded at Claims IV and V as conspiracies under sec. 1983, not sec. 1985(3) as mistakenly pleaded.\").) DISCUSSION I. Standard of Review Defendants bring a motion to dismiss the complaint or, in the alternative, for summary judgment. In considering a motion to dismiss under Rule 12(b) (6), the court must accept as true, in a hypothetical sense, all of the factual allegations in a light most favorable to the non-moving party. See Riley v. St. Louis County, Mo., 153 F.3d 627, 630 (8th Cir. 1998). A motion to dismiss for failing to state a claim should be granted if it is beyond doubt that no relief can be granted under any set of facts when the allegations are construed in a light most favorable to the pleader. County of St. Charles v. Missouri Family 2/22/2021 Jenson v. Craft, Civil No. 01-1488(DSD/JMM) | Casetext Search + Citator https://casetext.com/case/jenson-v-craft 6/18 Health Council, 107 F.3d 682, 684 (8th Cir. 1997). Rule 12(b)(6) requires a court to treat a motion to dismiss as a motion for summary judgment under Rule 56 when the parties present matters outside the pleadings that the court does not exclude. Fed.R.Civ.P. 12(b)(6); see also Gibb v. Scott, 958 F.2d 814, 816 (8th Cir. 1992). The parties have submitted a substantial number of documents outside the pleadings for consideration in this matter. While the court determines that defendants are entitled to a Rule 12 dismissal since plainti9 fails to state a viable claim on the pleadings as is discussed in part II of this order, the court also 7nds, alternatively, that when the court considered matters outside of the pleadings in parts III and IV of this order, defendants are also entitled to summary judgment.4 4 In particular, the court reviewed the transcripts of the August 25, 1999, interview and the September 24, 1999 plea and sentencing hearing in state court. Summary judgment is appropriate where there is no genuine issue as to any material fact and the moving party is entitled to judgment as a matter of law. Fed.R.Civ.P. 56(c). The moving party bears the burden of demonstrating to the court that no genuine issue of material fact exists. See Celotex Corp. v. Catrett, 477 U.S. 317, 322-23 (1986). A fact is material only when its resolution a9ects the outcome of the case. See Anderson v. Liberty Lobby, Inc., 477 U.S. 242, 248 (1986). A factual dispute is genuine if the evidence is such that it could cause a reasonable jury to return a verdict for either party. See id. at 250. On a motion for summary judgment, all evidence and inferences are to be viewed in a light most favorable to the nonmoving party. See id. at 255. The nonmoving party, however, may not rest upon mere denials or allegations in the pleadings, but must set forth speci7c facts su:cient to raise a genuine issue for trial. See Celotex, 477 U.S. at 324. Moreover, if a plainti9 cannot support each essential element of its claim, summary judgment must be granted because a complete failure of proof regarding an essential element necessarily renders all other facts immaterial. See id. at 322-23. With these standards at hand, the court considers the defendants' motions. 2/22/2021 Jenson v. Craft, Civil No. 01-1488(DSD/JMM) | Casetext Search + Citator https://casetext.com/case/jenson-v-craft 7/18 II. Plainti9 Presents No Viable Constitutional Law Claims A. No Cause Of Action Under Miranda The essence of plainti9's assertion of a violation of his constitutional rights is his allegation that defendants conspired to violate his Miranda rights during the interrogation on August 25, 1999. Plainti9 speci7cally asserts that defendant Daniel Craft repeatedly ignored his requests for an attorney and continued to question him after he indicated to Craft that he wanted an attorney.5 5 The Miranda rule only applies to statements made during custodial interrogations. Here, defendants assert that plainti9 was not in custody for purposes of Miranda since he voluntarily came to the police station, was interviewed in an unlocked room, was free to leave at any point during his interview, and at one point, even left the interview room unaccompanied to use the restroom. Although the court tends to agree with defendants' assertion since it is not entirely convinced that the facts demonstrate that plainti9 was in custody for purposes of Miranda at the time that he confessed, the court concludes that it need not directly resolve this issue given its 7nding that plainti9's case fails on the other legal bases discussed. Plainti9's § 1983 claim on the basis of this alleged constitutional violation, however, is foreclosed by the controlling law in this circuit. In Warren v. City of Lincoln, 864 F.2d 1436, 1442 (8th Cir. 1989), the Eighth Circuit held that no cause of action arises under § 1983 for a failure to a9ord a detainee his rights under Miranda. Instead, the only remedy for a Miranda violation is the exclusion from evidence of any compelled testimony arising therefrom. See id. Since defendant has no cause of action under the controlling law of this circuit, defendants' motions to dismiss must be granted.6 6 The court also concludes that plainti9 cannot sidestep well-settled Eighth Circuit precedent by restyling this matter as a \"non-Miranda violation case\" under the substantive due process clause of the Fourteenth Amendment. (See Pl.'s Mem at 35, n. 8.) Plainti9's reliance on Ninth Circuit caselaw is misplaced in light of this Circuit's clear ruling in Warren that a plainti9 cannot maintain an action for questioning \"outside\" Miranda. See Warren, 864 F.2d at 1442. Moreover, the undisputed circumstances of this case are factually inapposite to the substantive due process cases that plainti9 2/22/2021 Jenson v. Craft, Civil No. 01-1488(DSD/JMM) | Casetext Search + Citator https://casetext.com/case/jenson-v-craft 8/18 Plainti9 has also brought a claim under the Sixth Amendment right to counsel. The Sixth Amendment right to counsel \"requires the existence of both `criminal prosecution' and an `accused.'\" United States v. Gouveia, 467 U.S. 180, 188 (1984). attempts to rely on. See, e.g., Brown v. Mississippi, 297 U.S. 278 (1936) (confession extracted by beating defendants); Gray v. Spillman, 925 F.2d 90 (4th Cir. 1990) (defendant beaten by police); Wilkins v. May, 872 F.2d 190 (7th Cir. 1989) (confession extracted after police handcu9ed defendant and held gun to his head); Ware v. Reed, 709 F.2d 345 (5th Cir. 1983) (beating during interrogation); Duncan v. Nelson, 466 F.2d 939 (7th Cir. 1972) (suspect kept in solitary con7nement for 18 day before being handcu9ed to chair for 4 hours before confessing). B. No Cause Of Action Under the Sixth Amendment The right \"does not attach until after the initiation of formal charges.\" Moran v. Burbine, 475 U.S. 412, 431 (1986). Thus, a Sixth Amendment right only attaches \"at or after the initiation of adversary judicial criminal proceedings — whether by way of formal charge, preliminary hearing, indictment, information, or arraignment.\" Kirby v. Illinois, 406 U.S. 682, 689 (1972). The mere fact that plainti9 was the focus of a criminal investigation does not cause the right to attach. See United States v. Ingle, 157 F.3d 1147, 1151 (8th Cir. 1998); Warren, 864 F.2d at 1442. Moreover, \"the 7ling of a criminal complaint and the issuance of an arrest warrant do not constitute the initiation of an adverse judicial proceeding for purposes of [the Sixth Amendment right to counsel]\". Von Kahl v. United States, 242 F.3d 783, 789 (8th Cir. 2001) (citation omitted). Here, plainti9 has not pleaded facts, nor can he plead facts, that fall within the ambit of the Sixth Amendment right to counsel. It is undisputed that Jenson voluntarily came to the sheri9's o:ce and that no formal criminal proceeding had been implemented at the time of the interview. The court thus concludes that plainti9's Sixth Amendment right to counsel was not triggered. Accordingly, the court concludes that plainti9's Sixth Amendment claim fails and must be dismissed.7 2/22/2021 Jenson v. Craft, Civil No. 01-1488(DSD/JMM) | Casetext Search + Citator https://casetext.com/case/jenson-v-craft 9/18 Defendants also argue that plainti9 has no cause of action under Bivens v. Six Unnamed Agents, 403 U.S. 388 (1971). Bivens allows federal causes of action for injuries arising from the unconstitutional conduct of law enforcement agents. Bivens, 403 U.S. at 397. Here, plainti9's Bivens claim is predicated upon the alleged violation of his Fifth and Sixth Amendment rights. 7 The court notes that plainti9 appears to concede that his Sixth Amendment claim fails as a matter of law since he acknowledges in his memorandum that he \"does not rest [his opposition to defendants's motions] upon the Sixth Amendment.\" (See Pl.'s Mem. at 28.) Instead, \"Mr. Jenson rests his opposition . . . on the substantive due process clauses of the Fifth and Fourteenth Amendments to the United States Constitution.\" (Id.) C. No Cause Of Action Under Bivens However, since the court 7nds that no violation occurred under either amendment, plainti9's Bivens claim fails. Furthermore, a Bivens cause of action for an alleged constitutional violation will not lie in one of two instances: (1) when the defendant demonstrates \"special factors counseling hesitation in the absence of a:rmative action by Congress;\" and (2) when the defendant shows that \"Congress has provided an alternative remedy which it explicitly declared to be a substitute for recovery directly under the Constitution and viewed as equally e9ective.\" Carlson v. Green, 446 U.S. 14, 18-19 (1980). Defendants assert that since there already exists a remedy to protect those persons allegedly denied their Fifth Amendment Miranda rights, namely, the exclusionary-rule that dictates that any evidence obtained in violation of Miranda will be excluded at trial, there exists no separate Bivens cause of action for the same alleged violation. The court agrees, especially when considering the unambiguous precedent of this Circuit. See Warren, 864 F.2d at 1422 (holding that no constitutional tort action lies for a Miranda violation, rather, exclusionary rule constitutes aggrieved party's remedy). Accordingly, the court concludes that any claim plainti9 asserts under Bivens must be dismissed as a matter of law. 2/22/2021 Jenson v. Craft, Civil No. 01-1488(DSD/JMM) | Casetext Search + Citator https://casetext.com/case/jenson-v-craft 10/18 III. Plainti9's Previous Guilty Plea Precludes Him From Re-litigating the Constitutionality of His Interrogation Notwithstanding the foregoing grounds for dismissal under Rule 12, there is an additional basis for granting defendants summary judgment since plainti9 pleaded guilty to second degree manslaughter in Minnesota state court. Plainti9 did not appeal or challenge that plea. In fact, plainti9 expressly acknowledged and waived the same constitutional claims that he now tries to assert in the present action. During his plea and sentencing hearing on September 24, 1999, plainti9, under oath, engaged in the following allocation with his counsel: Plainti9's Counsel: There are some things that have come up as well, and that is with regard to the taking of your statement, and that's a constitutional issue that would have been heard at a later evidentiary hearing. The issue would have been whether the o:cer violated your Fifth and Sixth Amendment Rights in doing so, I am speaking of the special agent involved from the F.B.I; do you understand that? Jenson: Yes. Plainti9's Counsel: If you were to be successful in that regard, that doesn't mean that your case would be dismissed but, it does mean the evidence they obtained, if the Judge would so rule, would not be used against you, not in the State's case-in-chief, anyway; you understand that? Jenson: Yes. Plainti9's Counsel: Again, by pleading guilty here this afternoon, you will not be able to visit that issue either later or should you subsequently change your mind that you want to have a hearing on that, you are giving up that right? Jensen: Yes. 2/22/2021 Jenson v. Craft, Civil No. 01-1488(DSD/JMM) | Casetext Search + Citator https://casetext.com/case/jenson-v-craft 11/18 (See Transcript of Plea and Sentencing Hearing, Betcher A9., Ex. D at 8-9.) Plainti9 does not deny that he waived these constitutional issues in that hearing. In fact, he speci7cally acknowledges in his complaint that: Subsequent to questioning placed a knowing waiver to defendant's right to an Omnibus hearing on the record, at which time the issue of probable cause and confession could be raised. It is clear from the record that both the defendant and his attorney knew of the constitutional issues that could have been raised at an evidentiary hearing and that an evidentiary hearing might determine that the FBI agent had violated this [sic] 5th and 6th Amendment rights in conducting the interview in the manner it was conducted. (Compl. at 4.) Plainti9's guilty plea in state court must result in a waiver of the claims that he now attempts to raise. See Williams v. Scharo, 93 F.3d 527, 528 (8th Cir. 1996) (guilty plea forecloses subsequent § 1983 action). Under Minnesota law, and the law of the Eighth Circuit, a guilty plea entered by defendant represented by counsel \"operates as a waiver to all non-jurisdictional claims\" including constitutional claims. State of Minnesota v. Lothenbach, 296 N.W.2d 854, 857 (Minn. 1980); United States of America v. Vong, 171 F.3d 648, 654 (8th Cir. 1999). Minnesota's Supreme Court used the United States Supreme Court's words to describe the waiver e9ect of a guilty plea: A guilty plea represents a break in the chain of events which has preceded it in the criminal process. When a criminal defendant had solemnly admitted in open court that he is in fact guilty of the o9ense with which he is charged, he may not therefore raise independent claims relating to the deprivation of constitutional rights that occurred prior to the entry of the guilty plea. Lothenbach, 296 N.W.2d at 857 (quoting Tollet v. Henderson, 411 U.S. 258, 267 (1973)). Moreover, long standing Minnesota law holds that all of plainti9's constitutional law claims fail because he waived them as part of his guilty plea. See State of Minnesota v. Murphy, 545 N.W.2d 909, 918 2/22/2021 Jenson v. Craft, Civil No. 01-1488(DSD/JMM) | Casetext Search + Citator https://casetext.com/case/jenson-v-craft 12/18 (Minn. 1996); State ex rel. Boswell v. Tahash, 278 Minn. 408, 415, 154 N.W.2d 813, 817 (1967). There is no dispute that the interview occurred before Jenson pleaded guilty in court. Plainti9 also acknowledges that when he entered that plea, he knowingly waived his right to challenge the alleged events of which he now complains. (See Compl. at 4.) On this basis, Jenson has waived any challenge to the underlying constitutionality of his interview with Agent Craft, and the court believes that defendants are entitled to summary judgment. IV. Other Bases Preclude Re-Litigation of Claim Arising From Interview Defendants also assert that Jenson is precluded from re-litigating the constitutionality of the August 25, 1999, interview on several other bases: (1) under the Rooker-Feldman Doctrine this court may not review a state court's proceeding that would e9ectively reverse the state court decision; (2) under the doctrine of collateral estoppel plainti9 is barred from re- litigating this matter; and (3) when considering the Supreme Court's decision in Heck v. Humphrey, 512 U.S. 477 (1994), plainti9 is precluded from bringing this type of claim under § 1983. The court agrees with defendants that all of these bases provide further reason why plainti9's case fails. A. Rooker-Feldman Defendants correctly assert that plainti9's claim is barred by Rooker- Feldman. Under the Rooker-Feldman doctrine, federal district courts do not have jurisdiction to review challenges to state court decisions. District of Columbia Court of Appeals v. Feldman, 460 U.S. 462 (1983); Rooker v. Fidelity Trust Co., 263 U.S. 413 (1923). A federal action is precluded \"if the relief requested in the federal action would e9ectively reverse the state court decision or void its rulings.\" Charchenko v. City of Stillwater, 47 F.3d 981, 983 (8th Cir. 1995) (noting that \"the only court with jurisdiction to review decisions of state courts is the United States Supreme Court\"). In applying the Rooker-Feldman doctrine, a court must determine: 2/22/2021 Jenson v. Craft, Civil No. 01-1488(DSD/JMM) | Casetext Search + Citator https://casetext.com/case/jenson-v-craft 13/18 [E]xactly what the state court held and whether the relief requested by [plainti9] in his federal action require determining the state court's decision is wrong or would void its ruling. If the relief requested in the federal action requires determining that the state court decision is wrong or would void the state court's ruling, then the issues are inextricably intertwined and the district court has no subject matter jurisdiction to hear the suit. Id. The Eighth Circuit has further explained: [T]he federal claim is inextricably intertwined with the state court judgment if the federal claim succeeds only to the extent that the state court wrongly decided the issues before it. Where federal relief can only be predicated upon a conviction that the state court is wrong, it is di:cult to conceive the federal proceeding as, in the substance, anything other than a prohibited appeal of the state court judgment. Keene Corp. v. Cass, 908 F.2d 293, 296-297 (8th Cir. 1990) (citing Penzoil Co. v. Texaco, Inc., 481 U.S. 1, 25 (1987)). The issues raised here by Jenson are premised on the claim that he was subjected to a custodial interrogation without access to his legal counsel. Jenson, however, entered into a plea agreement in state court and the court relied upon Jenson's waiver as a part of accepting his guilty plea, the plea agreement and when entering judgment against him. Clearly, plainti9's present federal claims are inextricably intertwined with the state court conviction. In order for Jenson to succeed in the present lawsuit, this court would have to 7nd that plainti9's constitutional rights were violated and that he did not waive in state court his right to challenge the confession arising out of the August 25, 1999, interview. The e9ect of such a 7nding would be to void or invalidate his guilty plea. In other words, in order for this case to proceed, this court would have to reverse the state court and set aside plainti9's plea. This is an action that is prohibited under the Rooker-Feldman doctrine. As a result, the court concludes that plainti9's claims are precluded by the Rooker-Feldman doctrine. 2/22/2021 Jenson v. Craft, Civil No. 01-1488(DSD/JMM) | Casetext Search + Citator https://casetext.com/case/jenson-v-craft 14/18 B. Collateral Estoppel Defendants also correctly assert that plainti9 is barred by collateral estoppel. It is well settled that issues decided in state criminal proceedings may estop subsequent litigation for violations of civil rights under § 1983. See Allen v. McCurry, 449 U.S. 90, 104 (1980); Simmons v. O'Brien, 77 F.3d 1093, 1096 (8th Cir. 1996). Under the full faith and credit statute, 28 U.S.C. § 1738, a federal court generally must a9ord a state court's determination the same preclusive a9ect that it would receive in the state's own courts. Marrese v. Am. Academy of Orthopaedic Surgeons, 470 U.S. 373, 380 (1985); Teleconnect Co. v. Ensrud, 55 F.3d 357, 361 (8th Cir. 1995). Federal courts look 7rst to the law of the state to \"promote comity between state and federal courts that has been recognized as a bulwark of the federal system.\" Allen, 449 U.S. at 96. Because state law applies, the court must examine Minnesota law and determine what preclusive e9ect its courts would give to plainti9's guilty plea and knowing waiver of any constitutional challenges to the August 25, 1999, interview. The standards for invoking collateral estoppel in Minnesota are set forth in Kaiser v. Northern States Power Co., 353 N.W.2d 899, 902 (Minn. 1984): 1. The issue is identical to one in a prior adjudication; 2. There was a 7nal judgment on the merits; 3. The estopped party was a party in privity with a party to the prior adjudication; and 4. The estopped party was given a full and fair opportunity to be heard on the adjudicated issue. After careful review, the court has considered all four factors required for collateral estoppel and determines that all four factors are satis7ed here. Accordingly, plainti9 is barred from relitigating the constitutionality of the interview and his subsequent guilty plea. First, the Miranda issue was addressed in the state criminal proceeding. (See Transcript of Plea Hearing at 8-9.) Clearly, the claims that Jenson now asserts are identical to the ones that he could have raised in state court had 2/22/2021 Jenson v. Craft, Civil No. 01-1488(DSD/JMM) | Casetext Search + Citator https://casetext.com/case/jenson-v-craft 15/18 he not entered a guilty plea. Plainti9 and his attorneys had a full opportunity to challenge the constitutionality of his confession in state court but voluntarily chose to waive such challenge. Second, there was a 7nal judgment on the merits. The state court accepted plainti9's voluntary and counseled guilty plea. Plainti9 was sentenced. Plainti9 did not appeal. Third, the plainti9 was a party to, and the defendants are in privity with, the state court criminal proceeding. Fourth, plainti9 had a full and fair opportunity to challenge the constitutionality of his confession in the criminal proceeding. However, plainti9 chose not to challenge the constitutionality of his interrogation and confession in the state court proceeding, nor did he choose to appeal his voluntary and counseled guilty plea. Therefore, all four elements of collateral estoppel have been satis7ed, and plainti9 should not be allowed to re-litigate the constitutionality of his arrest and interrogation. Defendants are entitled to summary judgment on this basis. C. Heck Doctrine Defendants also correctly assert that plainti9's claims under § 1983 are precluded by the Supreme Court's holding in Heck v. Humphrey, 512 U.S. 477 (1994). In Heck, the Supreme Court held that to recover damages for an unconstitutional conviction or sentence, \"a section 1983 plainti9 must prove that the conviction or sentence has been reversed on appeal, expunged by executive order, [or] declared invalid by a state court or in a federal habeas corpus proceeding.\" Until the conviction or sentence has been overturned, the claim is not cognizable under § 1983. See id. Here, for plainti9 to prevail he would need to negate the confession arising from the FBI interrogation and his subsequent guilty plea. Plainti9 fails to make such a showing. He never directly challenged his guilty plea and the court is not aware of any attempt to obtain habeas relief. As a consequence, the court concludes that Heck provides another basis for precluding plainti9's claims under § 1983 and granting defendants' motions.8 8 The court also notes that while defendants make persuasive arguments regarding the issue of immunity, the court will not address the immunity 2/22/2021 Jenson v. Craft, Civil No. 01-1488(DSD/JMM) | Casetext Search + Citator https://casetext.com/case/jenson-v-craft 16/18 Plainti9 also alleges that defendants violated provisions of the Minnesota State Constitution and various state statutes. Since this court is dismissing all of the federal claims, it concludes that it no longer has jurisdiction over the state law claims and these claims will be dismissed without prejudice. See 28 U.C. §§ 1367(a) and (c)(3); United Mine Workers v. Gibbs, 383 U.S. 715, 726 (1966); Richmond v. Board of Regents of the Univ. of Minnesota, 957 F.2d 595, 598-99 (8th Cir. 1992). For the foregoing reasons, IT IS HEREBY ORDERED that: issue given its determination to dismiss this case on the several bases already discussed. V. Minnesota State Law Claims 9 CONCLUSION 1. Defendants' motions to dismiss, or in the alternative for summary judgment [Docket Nos. 18, 21, 24, 28, 44 and 48], are granted; 2. Plainti9's Claims I, II, III, IV, V, VI of his complaint are dismissed with prejudice; and 3. Plainti9's Claims VII, VIII, IX, X, XI, XII, and XIII of his complaint are dismissed without prejudice. LET JUDGMENT BE ENTERED ACCORDINGLY. Make your practice more effective and efcient with Casetext’s legal research suite. Get a Demo 2/22/2021 Jenson v. Craft, Civil No. 01-1488(DSD/JMM) | Casetext Search + Citator https://casetext.com/case/jenson-v-craft 17/18 Pricing Switch Big rm Coverage SmartCite Public records search Partnerships and Resources Law school access Bar associations About us Jobs Blog Podcast News Twitter Facebook LinkedIn Instagram Help articles Customer support Contact sales Privacy 2/22/2021 Jenson v. Craft, Civil No. 01-1488(DSD/JMM) | Casetext Search + Citator https://casetext.com/case/jenson-v-craft 18/18 Terms © 2020 Casetext Inc. Casetext, Inc. and Casetext are not a law rm and do not provide legal advice.\n",
      "\n",
      "3: 2/22/2021 United States v. Diriye, Case No. 14-cr-236(1) (JNE/TNL) | Casetext Search + Citator https://casetext.com/case/united-states-v-diriye 1/12 From Casetext: Smarter Legal Research United States v. Diriye UNITED STATES DISTRICT COURT DISTRICT OF MINNESOTA Oct 28, 2014 Case No. 14-cr-236(1) (JNE/TNL) (D. Minn. Oct. 28, 2014) Copy Citation Download Treatment Case No. 14-cr-236(1) (JNE/TNL) 10-28-2014 United States of America, Plainti9, v. Fahad Abdihakim Diriye, Defendant. Tony N. Leung United States Magistrate Judge for the District of Minnesota Je9rey S. Paulsen, Assistant United States Attorney, United States Attorney's O:ce, 300 South Fourth Street, Suite 600, Minneapolis, MN 55415 (for the Government); and Frederick J. Goetz, Goetz & Eckland PA, 43 Main Street Southeast, Suite 505, Minneapolis, MN 55414 (for Defendant). Red flags, copy-with-cite, case summaries, annotated statutes and more. Compare with Westlaw Search all cases and statutes... Help Sign In Sign Up Opinion Case details JX 2/22/2021 United States v. Diriye, Case No. 14-cr-236(1) (JNE/TNL) | Casetext Search + Citator https://casetext.com/case/united-states-v-diriye 2/12 REPORT & RECOMMENDATION Je9rey S. Paulsen, Assistant United States Attorney, United States Attorney's O:ce, 300 South Fourth Street, Suite 600, Minneapolis, MN 55415 (for the Government); and Frederick J. Goetz, Goetz & Eckland PA, 43 Main Street Southeast, Suite 505, Minneapolis, MN 55414 (for Defendant). This matter is before the Court, United States Magistrate Judge Tony N. Leung, on Defendant's Motion to Suppress Statements (ECF No. 20) and Motion to Suppress Evidence Obtained as a Result of Search and Seizure (ECF No. 25). These motions have been referred to the undersigned for a report and recommendation to the district court, the Honorable Joan N. Ericksen, District Judge of the United States District Court for the District of Minnesota, under 28 U.S.C. § 636 and D. Minn. LR 72.1(a)(3). A hearing was held on September 16, 2014. Assistant United States Attorney Je9rey S. Paulsen appeared on behalf of the United States of America (the Government). Attorney Frederick J. Goetz appeared on behalf of Defendant Fahad Abdihakim Diriye. The Court heard testimony from O:cer Scott Aikins of the Minneapolis Police Department. The Court received the following exhibits: Defendant's Exhibit 1, a *2  supplement report of Minneapolis Police O:cer John Staufenberg, and Defendant's Exhibit 2, a supplement report of Minneapolis Police O:cer Hien Dinh. 2 Post-hearing brie7ng is now complete and these motions are ripe for a determination by the Court. I. Based upon the 7le and documents contained therein, along with the testimony presented and exhibits received, the undersigned Magistrate Judge makes the following: FINDINGS On the evening of June 25, 2014, O:cer Aikins responded to a report of a suspicious vehicle in a parking lot at Thomas Beach near Lake Calhoun. The car was thought to be involved in an armed robbery  that occurred in 1 2/22/2021 United States v. Diriye, Case No. 14-cr-236(1) (JNE/TNL) | Casetext Search + Citator https://casetext.com/case/united-states-v-diriye 3/12 downtown Minneapolis a few days earlier. The robbery had taken place on June 22 and, on June 24, suspects in the robbery had been observed in the car. At the time, no suspects were in custody. The dispatch also indicated that a gun was possibly involved in the robbery. (Def. Ex. 1.) 1 At times, this incident is referred to as a robbery and, at other times, it is referred to as a burglary. For purposes of these motions, the precise crime is irrelevant. Three squads, including O:cer Aikins, arrived at the scene and parked approximately one to two squad-lengths away from the car. According to O:cer Aikins, law enforcement \"basically swarmed over the car.\" A man and a woman were ordered out of the car, handcu9ed, and placed in the responding squads. Approximately, 15 minutes later, while law enforcement was determining what to do with the car, another male, later identi7ed as Defendant, walked up to the car, opened the driver's door, and *3  began to get inside. (Id.) O:cers ran over to the car and ordered Defendant out. At the time, the car had not yet been searched or secured. 3 Defendant exited the vehicle with his hands up and was handcu9ed by O:cer Aikins. While Defendant and O:cer Aikins were standing next to the car, Defendant appeared to be continuously turning away from O:cer Aikins, trying to turn his right side away from O:cer Aikins. Defendant was told to settle down, but did not comply. O:cer Aikins was concerned that Defendant might be trying to grab a weapon and began patting him down. O:cer Aikins immediately felt a hard, L-shaped object in Defendant's pocket, which he recognized as a handgun. O:cer Aikins reached into Defendant's pocket and removed a loaded handgun. At the hearing, O:cer Aikins acknowledged that Defendant was not named in the dispatch, he did not observe Defendant commit any crime, he had no speci7c information linking Defendant to the car, he did not observe Defendant take anything out or put anything in the car, and Defendant did not try to 8ee. II. Based upon the foregoing Findings, the undersigned makes the following: 2/22/2021 United States v. Diriye, Case No. 14-cr-236(1) (JNE/TNL) | Casetext Search + Citator https://casetext.com/case/united-states-v-diriye 4/12 CONCLUSIONS OF LAW Defendant asserts that law enforcement lacked reasonable suspicion that he was involved in criminal activity and moves for suppression of all evidence obtained as the result of his seizure and the statements he made to law enforcement during an interview *4  the day following.  Defendant argues that the dispatch on which law enforcement relied \"did not contain any individual suspect description []or any other information speci7c to [him] that connected him with the robbery,\" only the car. (Def.'s Mem. in Supp. at 7, ECF No. 32.) Defendant also argues that law enforcement did not have reasonable suspicion that the car was involved in the earlier robbery. In addition, Defendant argues that, even if law enforcement had reasonable suspicion to stop the car, it was not \"reasonable under the Fourth Amendment to seize anybody who might walk up to the vehicle and open a door some three days after the crime occurred.\" (Id. at 8.) 4 2 2 In Defendant's motion to suppress statements, Defendant identi7es both statements made on June 25 and during the interview on June 26. (Def.'s Mot. to Suppress Statements ¶ 1.) At the hearing, however, Defendant clari7ed that he was just challenging the June 26 statement.   -------- A. Investigatory Stop \"A police o:cer may conduct a brief, investigatory stop of an individual if the o:cer reasonably suspects that the individual is involved in criminal activity.\" United States v. Lawhorn, 735 F.3d 817, 820 (8th Cir. 2013) (citing Terry v. Ohio, 392 U.S. 1, 30 (1968)). \"Reasonable suspicion must be based on speci7c, articulable facts. In determining whether an o:cer had reasonable suspicion based on speci7c, articulable facts, [courts] look at the totality of the circumstances, allowing o:cers to draw on their experience and training.\" Id. (quotation and citation omitted). \"Reasonable suspicion does not require 'absolute[] certain[ty];' rather an o:cer must observe 'unusual conduct which leads him reasonably to conclude in light of his experience that criminal activity may be afoot.'\" Id. at 821 (alteration in original) (quoting Terry, 392 U.S. at 27, 30). \"While reasonable suspicion must be more than an inchoate hunch, the Fourth *5  Amendment only requires that police articulate some minimal, objective justi7cation for an investigatory 5 2/22/2021 United States v. Diriye, Case No. 14-cr-236(1) (JNE/TNL) | Casetext Search + Citator https://casetext.com/case/united-states-v-diriye 5/12 stop.\" United States v. Walker, 555 F.3d 716, 719 (8th Cir. 2009) (quotation omitted). \"In deciding whether to conduct a Terry stop, an o:cer may rely on information provided by other o:cers as well as any information known to the team of o:cers conducting the investigation.\" United States v. Allen, 705 F.3d 367, 370 (8th Cir. 2013) (quotation omitted). Similarly, \"[t]he Fourth Amendment permits an investigatory stop of a vehicle if o:cers have a reasonable suspicion that the vehicle or its occupants are involved in criminal activity. In such a case, o:cers may brie8y stop an individual and make reasonable inquiries aimed at con7rming or dispelling the suspicion.\" United States v. Smith, 648 F.3d 654, 658 (8th Cir. 2011) (quotations and citation omitted). At the time law enforcement approached the car, they knew that the car matched the description of a vehicle involved in a robbery occurring just a few days before for which no one was in custody. This information provided a reasonable basis to stop the car and its occupants to investigate possible associations with the robbery and con7rm or dispel suspicions regarding the car's involvement. Id.; see Lawhorn, 735 F.3d at 821 (reasonable suspicion existed to stop vehicle where \"upon arriving at the lot[,] the o:cers found a car matching the caller's description, shined a spotlight at the car, and observed the car's occupant to look back at them wide-eyed and reach quickly into the back seat\"); Allen, 705 F.3d at 370 (law enforcement had reasonable suspicion to stop SUV to investigate SUV's possible association with minivan where vehicles appeared to be travelling in tandem and large quantity of marijuana was found in minivan); see also *6  United States v. Marxen, 410 F.3d 326, 332 (6th Cir. 2005) (\"[W]e conclude that police are permitted to conduct a Terry stop to investigate completed felonies if they have reasonable suspicion to believe that the vehicle stopped was involved in criminal activity and the stop may produce evidence of a crime even if o:cers do not have reasonable suspicion to believe that the owner and/or driver of the vehicle was directly involved in the criminal activity.\"). 6 Defendant argues that, even if there was reasonable suspicion to stop the car, there was no reasonable suspicion \"that [he] was involved in or wanted in connection with the robbery.\" (Def.'s Mem. in Supp. at 8.) The Government essentially concedes that law enforcement \"had no pre-existing 2/22/2021 United States v. Diriye, Case No. 14-cr-236(1) (JNE/TNL) | Casetext Search + Citator https://casetext.com/case/united-states-v-diriye 6/12 information tying [Defendant] to the armed robbery or the suspect vehicle.\" (Gov't's Mem. in Opp'n at 4, ECF No. 33.) The Government contends, however, that \"[D]efendant's own actions in entering the vehicle provided all the reasonable suspicion that was needed.\" (Id.) The Government contends that law enforcement could reasonably assume Defendant had \"some connection to the suspect vehicle or he would not have entered it. And, if [Defendant] was connected to the vehicle, there also was reasonable suspicion to believe he was connected to the robbery.\" (Id.) The Government also contends that because law enforcement \"had reason to believe there was a gun in the suspect vehicle\" and \"[t]hey had not searched the vehicle yet or secured it in any way,\" law enforcement had \"reasonable suspicion to believe [Defendant] was either trying to conceal or make o9 with evidence, or worse, attempting to access a weapon to use against the police.\" (Id. at 3.) *7 7 Defendant appears to be suggesting that his behavior was wholly innocent and that it is not \"reasonable under the Fourth Amendment to seize anybody who might walk up to . . . [a] vehicle and open a door some three days after the crime occurred.\" (Def.'s Mem. in Supp. at 8.) But \"[t]he behavior on which reasonable suspicion is grounded . . . need not establish that the suspect is probably guilty of a crime or eliminate innocent interpretations of the circumstances.\" United States v. Carpenter, 462 F.3d 891, 986 (8th Cir. 2006). Defendant walked up to a car believed to be involved in a recent armed robbery—a car which was essentially 8anked by squad cars—opened the driver's door, and began to seat himself in the vehicle. Based on Defendant's actions, it is not unreasonable to infer that he owned or had control over the car. It was reasonable for law enforcement to conclude that Defendant was associated with the car (and therefore potentially the robbery) and conduct a brief investigatory stop of Defendant to con7rm or dispel their suspicions. While there may be wholly innocent explanations for such conduct, it was not unreasonable under the circumstances for law enforcement to stop Defendant and investigate his connection to the car. Further, it was not unreasonable for law enforcement to handcu9 Defendant during the investigatory stop given the suspected use of a gun in the robbery they were investigating and the fact that law enforcement had not yet been able to clear the car (including removing any weapons present) after taking 2/22/2021 United States v. Diriye, Case No. 14-cr-236(1) (JNE/TNL) | Casetext Search + Citator https://casetext.com/case/united-states-v-diriye 7/12 the other two individuals into custody. See id. at 659 (\"As part of a lawful Terry stop, o:cers may take any measures that are reasonably necessary to protect their personal safety and to maintain the status quo during the course of the stop.\" (quotations omitted)); El-Ghazzawy v. Berthiaume, *8  363 F.3d 452, 457 (8th Cir. 2011) (\"'[F]or the use of handcu9s during a Terry stop, the Fourth Amendment requires some reasonable belief that the suspect is armed and dangerous or that the restraints are necessary for some other legitimate purpose, evaluated on the facts of each case.'\" (quoting Bennett v. City of Eastpointe, 410 F.3d 810, 836 (6th Cir. 2005)). 8 Defendant likens this case to United States v. Hudson, 405 F.3d 425 (6th Cir. 2005). In Hudson, an armed robbery occurred at a convenience store in 2000. 405 F.3d at 428. Hudson, a black male, was identi7ed \"from a series of suspect photographs and a warrant was issued for [his] arrest.\" Id. at 428, 429, 433-34. Law enforcement was unable to locate Hudson. Id. at 428. Approximately one year later, the investigator received an anonymous tip from a colleague that a woman the investigator suspected was Hudson's girlfriend was working at another convenience store in the same town. Id. The tip stated that on a certain date, Hudson's girlfriend would arrive at the convenience store around 3:00 p.m. and be accompanied by Hudson. Id. In an e9ort to corroborate the tip, the investigator con7rmed the girlfriend's employment at the convenience store through the manager and learned that the girlfriend usually arrived ten minutes before her shift began. Id. at 428- 29. It was disputed whether the manager also con7rmed the type of car—a Ford Taurus—that Hudson's girlfriend drove. Id. at 429. In addition, based on his years as a police o:cer in the community, the investigator testi7ed that he knew that Hudson and his girlfriend were romantically involved and had a child. Id. Law enforcement set up at the convenience store to wait for Hudson's girlfriend to arrive. Id. Around 3:00 p.m., Hudson's girlfriend pulled into the parking lot in a Ford *9  Taurus. Id. She was accompanied by two black males and an infant. Id. Law enforcement \"approached the car with their 7rearms drawn in a so-called 'felony approach'\" because \"they suspected that Hudson might be armed since he had allegedly used a 7rearm to commit the robbery.\" Id. Only after the three individuals were searched and handcu9ed, 9 2/22/2021 United States v. Diriye, Case No. 14-cr-236(1) (JNE/TNL) | Casetext Search + Citator https://casetext.com/case/united-states-v-diriye 8/12 and crack cocaine discovered on Hudson's person, did law enforcement con7rm their identities. Hudson moved to suppress the crack cocaine. See id. at 439. The Sixth Circuit concluded that the district court erred in denying Hudson's motion because the investigative stop was not supported by reasonable suspicion. Id. The Sixth Circuit noted that \"the tipster's most critical assertion—that Hudson would be in the car\"—had been discredited because, \"[w]hile [the investigator] testi7ed that the tip had included this prediction, [the investigator's] report, which he composed soon after receipt of the tip, makes no reference to it.\" Id. at 433. The Sixth Circuit concluded that law enforcement \"had no more than a hunch that Hudson would be accompanying [his girlfriend] to work on the day in question and no more than a hunch that one of the passengers in [her] car was Hudson.\" Id. at 434. Such a \"hunch\" lacked the speci7c and articulable facts needed to form reasonable suspicion under the Fourth Amendment. Id.; see also id. at 438 (\" [T]he tip upon which the government relies did not mention Hudson and consequently o9ers no support for the government's contention that o:cers reasonably suspected that Hudson was in the car.\"). The Sixth Circuit reasoned that, *10 10 [a]t most, [the investigator's] previous knowledge of Hudson and [his girlfriend] furnished the o:cers with reasonable suspicion that the two were a couple and shared a child. It is a signi7cant, and unreasonable, leap to deduce from this that the two were traveling together to the [convenience store] on [a certain date]. The leap is not made any less unreasonable by the fact that the two men accompanying [Hudson's girlfriend] were black, as the investigators knew Hudson to be. Of course, had the o:cers positively, or at least reasonably, identi7ed Hudson as a passenger before approaching [his girlfriend's] car with their guns drawn—for example, by reference to a photograph of Hudson, or a composite drawing— they would have had reasonable suspicion to seize the car and its occupants. But, lacking reasonable suspicion, the o:cers elected to seize 7rst and identify second.  2/22/2021 United States v. Diriye, Case No. 14-cr-236(1) (JNE/TNL) | Casetext Search + Citator https://casetext.com/case/united-states-v-diriye 9/12 Id. at 433-34 (footnoted omitted); see also id. at 438 (\"[T]he facts that Hudson is black and once had a relationship with [the girlfriend] do not provide a particularized basis for suspecting he was in the car.\"). The Sixth Circuit was also \"mindful that . . . [law enforcement] w[as] not attempting to solve a recently committed crime, or an ongoing one, but rather to arrest a person suspected of having committed a felony over a year earlier.\" Id. at 436-37. The Sixth Circuit observed that \"resolution of the question whether reasonable suspicion existed in the 7rst instance must be sensitive to whether the Terry stop was made to investigate a crime committed beyond the recent past.\" Id. at 437. Hudson is distinguishable in several respects. First, whereas over a year had passed between the armed robbery and the investigatory stop in Hudson, only a few days had passed between the armed robbery in this case and the investigatory stop of Defendant. Second, law enforcement had no reasonable suspicion for stopping the car in *11  Hudson. Before stopping the car, they did not con7rm that Hudson was in fact one of the passengers; they did not observe any violation of a tra:c law; and there was no indication that the car was connected to the crime under investigation. In this case, the car was the connection to the armed robbery. Third, Hudson engaged in no unusual conduct—he was merely a passenger in a vehicle. Here, Defendant walked up to a car that was 8anked by police o:cers, opened the driver's door, and began seating himself in the vehicle. Under the circumstances, Defendant's behavior was highly suspicious. Moreover, there is a question of o:cer safety in the present case. 11 Based on the totality of the circumstances, Defendant's conduct provided law enforcement with reasonable suspicion to stop Defendant and investigate his connection to the car. B. Statements \"If . . . [law enforcement] o:cers conduct an illegal search or detention, physical evidence from the search as well as verbal evidence obtained from the detention must be excluded as the 'fruits' of the o:cers' unlawful action.\" United States v. Cotter, 701 F.3d 544, 547 (8th Cir. 2012) (citing Wong Sun v. United States, 371 U.S. 471, 484-85 (1963)); accord United States v. Yousif, 2/22/2021 United States v. Diriye, Case No. 14-cr-236(1) (JNE/TNL) | Casetext Search + Citator https://casetext.com/case/united-states-v-diriye 10/12 Date: October 28, 2014 308 F.3d 820, 832 (8th Cir. 2002) (\"Verbal statements obtained as a result of a Fourth Amendment violation are as much subject to the exclusionary rule as are items of physical evidence discovered during an illegal search.\"). Defendant's only argument for the suppression of his statements is that they were fruits of the illegal investigatory stop. (Def.'s Mem. in Supp. at 10-11.) Because the *12  Court concludes that the investigatory stop was proper under the Fourth Amendment, there is no basis upon which to suppress the statements. 12 III. Based upon the foregoing Findings and Conclusions, the undersigned Magistrate Judge makes the following: RECOMMENDATION For the reasons set forth herein, IT IS HEREBY RECOMMENDED that: 1. Defendant's Motion to Suppress Statements (ECF No. 20) be DENIED.   2. Defendant's Motion to Suppress Evidence Obtained as a Result of Search and Seizure (ECF No. 25) be DENIED.   s/ Tony N. Leung  Tony N. Leung  United States Magistrate Judge  for the District of Minnesota  United States v. Diriye   File No. 14-cr-236(1) (JNE/TNL)  2/22/2021 United States v. Diriye, Case No. 14-cr-236(1) (JNE/TNL) | Casetext Search + Citator https://casetext.com/case/united-states-v-diriye 11/12 Pursuant to Local Rule 72.2(b), any party may object to this Report and Recommendation by 7ling with the Clerk of Court, and by serving upon all parties, written objections which speci7cally identify the portions of the Report to which objections are made and the bases for each objection. This Report and Recommendation does not constitute an order or judgment from the District Court and it is therefore not directly appealable to the Circuit Court of Appeals. Written objections must be 7led with the Court before November 12, 2014. Make your practice more effective and efcient with Casetext’s legal research suite. Get a Demo Pricing Switch Big rm Coverage SmartCite Public records search Partnerships and Resources Law school access Bar associations 2/22/2021 United States v. Diriye, Case No. 14-cr-236(1) (JNE/TNL) | Casetext Search + Citator https://casetext.com/case/united-states-v-diriye 12/12 About us Jobs Blog Podcast News Twitter Facebook LinkedIn Instagram Help articles Customer support Contact sales Privacy Terms © 2020 Casetext Inc. Casetext, Inc. and Casetext are not a law rm and do not provide legal advice.\n",
      "\n",
      "4: Too_Long1    Arbitration   LELS (Mathew Aish)/Columbia Heights Police Department    Grievance Arbitration Between:        BMS Case No.: 20 PA-1575    Columbia Heights Police Dept. (Employer)   and   Law Enforcement Labor Services Inc. (LELS)  Mathew Aish (Grievant)     REPRESENTATION  Representing Columbia Heights Police Department  Joan Quade, Attorney   BARNA, GUZY & STEFFEN, LTD.    Representing Mathew Aish:  Renee Zachman, Attorney  Mark Schneider, Attorney  Law Enforcement Labor Services  ISSUE  Did the employer have Just Cause to Terminate Mathew Aish?  If not, what is the appropriate Remedy?    INTRODUCTION  Mathew Aish was a police officer in Columbia Heights hired in 1999 and terminated on January 15, 2020.  Law  Enforcement Labor Services responded to the termination by filing a step one grievance on January 27, 2020.  The termination stems primarily from an incident that occurred on October 27, 2019 in which the grievant,  Mathew Aish, responded to a dispatch call regarding a driver operating a vehicle recklessly on city streets in  2    Columbia Heights and Fridley. The description relayed by dispatch was that of a white Taurus driving at speeds  up to 80 miles per hour and traveling north in south bound lanes of traffic.   The concerns raised by the City leading to their decision to terminate revolve around the follow up reporting of  this incident by Mathew Aish including concerns of truthfulness, accuracy and complying with a direct order to  activate body worn camera at all times when engaging with non-departmental personnel. This direct order came  about as a result of a 2006 incident in which Mr. Aish had falsely represented the sobriety test of another police  officer from a neighboring jurisdiction.  Due to the dishonesty involved in that event Mr. Aish was determined,  by the Anoka County Attorney’s Office, to be Brady impaired. As result of this designation the City is  compelled to reveal the issues of Aish’s dishonesty to defense council when Mr. Aish is involved in the  prosecution of a crime.  As a result of the 2006 incident the City imposed a requirement that Mr. Aish activate  his body worn camera whenever interacting with non-departmental personnel in an effort to diminish credibility  questions that would likely arise at subsequent criminal proceedings that involved Mr. Aish testifying on behalf  of the City and to create a process that would enable the City to keep Mr. Aish employed.    An Arbitration hearing was held at the Columbia Heights Police Department offices on August 17 to 19, 2020.    FACTS  Mathew Aish was terminated on January 15, 2020 after 20 plus years of services as a police officer for the city  of Columbia Heights. The incident that is largely the basis for this termination occurred at approximately 2:30  PM that afternoon in which a Columbia Heights Dispatcher announced that there was a driver proceeding  recklessly on the streets of Columbia Heights. Two Columbia Heights police officers, Officer Joseph Pikala and  Officer Mathew Aish, responded separately to the radio call. Due to the positioning of their squads it was Aish  who was able first to get eyes on the reckless driver and position his squad behind the driver.  Aish provided the  radio contact after beginning to trail the reckless driver.  He explained that he was traveling north on Main street  crossing highway 694.  This triggered the movement and positioning of two Fridley squads, one driven by  3    Officer Elasky and the other driven by an officer in training, Officer Bulman accompanied in his squad by  Officer Fetrow. Both Fridley squads were positioned on Main Street facing south and waited as Aish following  the suspect drove by them northbound. Once the reckless driver reached the two Fridley squads the Fridley  officers turned on sirens, pulled a U turn and got in behind Aish. Almost immediately after the Fridley Squads  completed their U turns the reckless driver ran a stop sign and Aish followed right behind through that stop  sign.  Aish announced that the driver was speeding up and said “This is going to be a pursuit and I am getting  out.”  At that time Aish pulled over to the curb and the Two Fridley officers fell in behind the reckless driver.   Video footage from the rear of Officer Elasky’s car showed that once the Fridley squads passed Aish he pulled  back out into traffic and began to follow behind the Fridley squads.  It was clear in the rear camera video that  once back in the traffic Aish turned his light back on and began to follow.  GPS systems installed on the Fridley  squads also recorded the speed the cars were traveling indicating that they were moving as fast as 58 mph.  The  front view camera on Bulman’s car also clearly shows the reckless driver turning left and running an additional  stop sign and then turning right onto a residential street.  It was at this time Fridley officers talked about  conducting a PIT maneuver on the reckless driver.  Bulman who was first behind the reckless driver was unable  to do the PIT as Bulman was a trainee and not qualified to initiate a PIT. Elasky said he would PIT and  proceeded to pass Bulman and performed the PIT disabling the White Taurus. Immediately behind Elasky were  Bulman and Fetrow in a Fridley squad and right behind them, just seconds behind Elasky was Aish. All the  officers, including Aish, ran up to the disabled car with guns drawn.  Fetrow can be heard clearly screaming get  your hands up. The driver was immediately pulled from his car and apprehended.    Once the driver was cuffed he was immediately was put in a Fridley squad car. At this point body cameras  caught the debriefing that occurred amongst the officers.  It is clear that shortly after the offender is place in the  Fridley squad Aish turns off his body camera.  Elasky continues to run his body camera and it is clear on his  camera that Aish asks in a quiet tone, “Are you on?” referring to body camera.  Elasky say “yes” and apologizes  and explains that he has to stay on.   4    A few hours later Aish submits an incident report of the event referring the action as “Reckless driver  complaint/ assist to Fridley PD”. The report does not refer to the action as a pursuit and thus not prompting the  required state documentation of a pursuit. The city takes issue with charactorizing this as an assist to another  department and concludes that under Columbia Heights policy as well as State law this should have been filed  as a Pursuit report and a state report submitted.  Statements within the report that the City takes issue with are as  follows:  1) As the Suspect passed one Fridley squad pulled over at the Home Depot the suspect began to  accelerate again. He had been failing to pull over for my emergency lights and sirens for several  blocks now, I had been directly behind him. At this point I advised dispatch I was not going to  continue and pulled over and let the Fridley squads take over. I observed as the driver continued to  accelerate northbound on Main Street as he approached the stop sign at 57th Ave. I observed the  suspect blow through the stop sign and intersection without making any attempt to slow or stop  (Emphasis added)  2) I continued to follow Fridley squads as they continued to try and get on the suspect to pull over and  stop. I followed at the posted speed limit (Emphasis Added).  3)  I turned northbound on Starlight and observed the Fridley Officers PIT the Suspect vehicle.  The  Fridley officers were successful with the PIT and stopped the suspect at Starlight and Trinity. I  activated my emergency lights and assisted taking the suspect into custody (Emphasis added).  The City claims each of the above identified statements in the report are false and intentionally written that way  to minimize Aish’s involvement in the event and thus making the event not appear as though it was a pursuit. If  not a determined to be a pursuit then less reporting required and therefore no issue for failure to properly  document. The video footage from Fridley squads confirms the inaccuracies in Aish’s report.  Fridley squad  footage and corresponding sound recording clearly shows Aish following suspect blowing through the stop sign  at 57th Ave and stating suspect is accelerating and then stating he is pulling out.  Secondly, the reports states he  was following at the posted speed. The Fridley squad GPS computers record the vehicle speed. The computer  5    vehicle recorded speeds are contemporaneous with the video and show speeds of as much as 58 mph as the  Fridley squads pursued and at the same time also showed Aish following right behind.  In addition, the video  also shows Aish arriving within just a few seconds of the completed PIT once again indicating he would have  had to be moving as fast as the speeds of the recorded for the Fridley squads. Finally Aish reported that he did  not turn on his emergency lights until he was on Starlight Street and after the PIT was completed.  The rear  camera view from Office Elasky’s car shows he actually turned on his emergency lights shortly after the Fridley  squads passed him on Main Street and kept them on while following the Fridley squads.  In addition to vehicle video footage body camera footage was also presented at the hearing.  The body camera  footage from Officer Aish was turned on as Aish arrived at the scene where the suspect was apprehended.   Aish’s body camera remained on until the suspect was placed in the Fridley squad at which point he turned off  his camera.  Body camera video of Elasky remained on after Aish had turned his off.  It is clear in Elasky’s  video that Aish walks up to him and asks in a low voice if Elasky is “on” understood to mean is your body  camera on to which Elasky apologizes and says yes and indicates he is required to have it on. Elasky body  camera reveals that Aish did continue to have conversations with two Fridley officers about the events leading  to the PIT that this discussion was not recorded on Aish’s body-worn camera.  Evidence was also presented that  Aish had a follow up phone conversation with Officer Fetrow before the end of his shift that night, which was  not recorded.  The testimony of Aish indicated that he apologized about “dumping” the situation back to Fridley  but explained that he was feeling like there was a target on his back and he was not comfortable with his not  knowing the Fridley streets like the Fridley officers did.   Within an hour and a half of this incident the previously referenced report was written and submitted. The  report indicated it was an assist of another department never referring to the situation as a pursuit. This report  was later reviewed and approved by Columbia Heights Sargent Fischer in which he did not identify any issues  or concerns with the report.   The first identified concern regarding this incident came about by coincidence when Columbia Heights police  captain, Lenny Austin, ran into Sergeant Kevin Titus, of the Fridley police, who was at the Columbia Heights  6    police department looking for body camera footage of Aish as a follow up the to the report he was writing  regarding the pursuit on the 27th of October.  Austin was not aware of a pursuit that involved his department as  Aish’s report characterized the event as an assist to another police Department.  This sent up a red flag for  Austin and set the investigation in motion. Austin’s initial review of Aish’s report identified a peculiar set of  facts, Fridley reported the event as pursuit but Aish’s report indicated that he was following the suspect at the  pasted speed, it was this incongruous fact that raised a red flag. The ensuing investigation identified the  previously mentioned inconsistency in Aish’s report and several other concerns.   Aish has had a history involving serious issues with honesty to the point where the Anoka County Attorney has  deemed him to be Brady impaired. Brady impairment is a label placed on police officers that have had an  incident of dishonesty in their work history as a police officer.  If a police officer is classified as Brady impaired  the prosecution is required to reveal to the defense the honesty issues associated with the police officer which  can impact that officer’s credibility and thus their effectiveness as a witness if criminal prosecution. The  incident leading to Aish’s Brady impairment designation dates back to 2006 yet the designation as Brady  impaired was not imposed until 2017.   The 2006 incident involved a Minneapolis police officer who had been arrested the night before and had his  service revolver confiscated by the Columbia Heights police.  He returned to the Columbia Heights police  department the following morning to get his gun returned. He was acquainted with Officer Aish through their  Minneapolis Police Academy training course years earlier.  When he arrived to get his gun returned Corporal  Bonesteel informed Aish not to give the Minneapolis officer his revolver if he did not register a 0.0 on the  portable breath test. Aish went outside to administer the portable breath test (BPT) on the officer and then  reported back to Bonesteel that the officer was Ok to drive and that he had blown a .04. A few minutes later he  reported to Captain Lenny Austin that the Minneapolis officer blew a .06.  Bonesteel asked Aish to return to  give him the (BPT). Bonesteel knowing that the device saves the most recent test took a look at the BPT and  discovered that the officer actually blew a.097 exceeding the legal limit to drive and not what Aish had reported  to both him and to the Captain.  The department took action based on this dishonesty and gave Aish a 13 day  7    suspension. However, no determination was made that Aish’s dishonesty warranted the designation of Brady  impaired.    The Brady impairment designation came about in 2017 when a Public Defender, responding to concerns  expressed by his client, regarding the treatment he received form Mr. Aish when he was arrested prompted the  Public Defender to request a look at Mr. Aish’s Disciplinary file. It was the Public Defender, upon discovering  the 2006 incident of dishonesty, sought to have a Brady impairment designation applied to Mr. Aish.  The  Anoka County Attorney reviewed the claim and determined that Aish was indeed Brady impaired as a result of  the 2006 infraction.    The city was at that point of trying to determine if Mr. Aish could still effectively continue with the Columbia  Heights police force or would this impairment make him effectively useless when testifying for the prosecution.  The City decided not to terminate Mr. Aish but rather imposed a specific order directing his performance going  forward. On May 31, 2017 the city imposed upon Mr. Aish the following order:  Until further notice, you will record all interactions with non- departmental personnel, regardless of how you come in contact with  them, with your department issued body-worn camera while on duty. You  will also record all phone conversations you have with witnesses,  suspects, citizens and non-departmental personnel.  Further instances involving untruthfulness or ethical violations; failure  to follow the order stated above or failure to follow departmental general  orders or directives could result in disciplinary action up to and  including termination.      It was this order, going forward, that would govern how Officer Aish would go about performing his  work as a Columbia Heights Police Officer and it was the Cities determination that Aish’s lack of  compliance with this order that led in large part  to the City’s decision to terminate Officer Aish.  As a result of the concerns raised by Aish’s reporting of this incident the department conducted an audit  of Aish’s reporting for the months leading up to this event and determined that there had been two  additional reporting inconsistencies by Aish in violation of Columbia Heights policies.  Both involved  8    domestic situations, one on September 5, 2019 and once on September 9, 2019, in which the city claims,  per policy, written reports were required for but Aish only documented the situations with notes entered  into the CAD.    On July 12, of 2017, less than 2 months from the date this order was imposed, the grievant received a  written warning, in part, for failing to comply with the May 31, 2017 written order relating to activating  body-worn camera.  This event involved a domestic dispute in which Mr. Aish either failed to activate the  camera when gathering information from a domestic abuse complainant or failed to properly label his  body-worn camera video evidence so it would be properly retained and could be used by the prosecution  at a later date. The written reprimand imposed also included a warning to Aish that “Further violations of  these or other policies could lead to more severe discipline including written reprimand, suspension or  termination.”    RELEVANT POLICIES  101:13 Knowledge Policies, Procedures, Statutes and Ordinances  Whether on duty or off duty, all employees shall establish and maintain a working knowledge of  departmental and divisional policies and procedures, and the relevant statutes and ordinances where  applicable. When required, all employees shall take appropriate action. In the event of improper action or  breach of discipline, it shall be presumed that the employee was familiar with the law, ordinance, rule,  policy, or order in question.   500:1-5 Reports   Employees shall complete and submit all necessary reports, consistent with divisional policy, before going  off duty, or at the discretion of the shift supervisor. Reports submitted by employees shall be truthful. No  employee shall knowingly enter or cause to be entered any inaccurate, false, or improper information.         9    500:3-5 Unsatisfactory Performance  Employees shall maintain sufficient competency to effectively and efficiently perform the duties and  responsibilities of their positions.   Incompetence and unsatisfactory performance may include, but not be limited to:     A lack of knowledge of the application of laws required to be enforced;     An unwillingness or inability to perform assigned tasks;     A failure to conform to work standards established for the employee’s rank, grade, or position;     Neglect of duty;     A failure to take appropriate action on the occasion of a crime, disorder, or other condition  deserving police attention;     Absence without leave; or     A written record of repeated infractions of rules, regulations, directives, or orders of the  Department, and repeated poor evaluations.     500:3-9 Truthfulness   Employees shall be truthful whether under oath or not, except when deception is used to accomplish a law  enforcement purpose. Employees shall not make false statements in conjunction with official duties or  investigations.   500:5-3 Requests for Assistance  When any person requests assistance or advice, or makes a complaint or report either by telephone or in  person, all pertinent information shall be obtained in an official and courteous manner. All such requests  shall be acted upon consistent with established Department procedures.     500:6-4 Insubordination  Employees shall not refuse or fail to obey a lawful order given by a supervisor. Ridiculing a supervisor, or  his/her orders, whether in or out of their presence, constitutes insubordination. Disrespectful, rebellious,  or abusive language or gestures toward a supervisor is insubordination.     603:01:01 Pursuit  The attempt to stop another vehicle by a police vehicle when the emergency lights and siren have been  activated and the subject vehicle fails to stop as required by law.     10      603:06 Reporting and Review   A.   At the conclusion of any pursuit initiated or participated in, the primary officer in the pursuit - or  if the primary officer is unable to complete the report, the supervisor or senior officer on duty - must  complete a report. This information may be incorporated into any other report prepared by the primary  officer the report shall minimally include:     1.    The reason for the pursuit, including specifically what information the officer knew at the  time the pursuit began.   2.  The route of the pursuit as best can be recalled     3.  Traffic conditions, presence and location of citizens.   4.  Any violations the driver of the fleeing vehicle committed during the pursuit.   5.   Other Columbia Heights squads involved and any other agencies.   6.  Damage to any vehicle, property, and/or injury to any person.   7.  Supervisor on duty at time of the pursuit.   8.   Road and weather conditions.   9.  Time pursuit began and ended.   10.  How, where, and why the pursuit concluded or was abandoned.   11.   Charges filed, if any.     B.  The primary officer must also complete the Minnesota Pursuit Reporting Form as required by  Statute §626.5531. If the primary officer is unable to complete this form, the form shall be filled out by the  supervisor or senior officer on duty.     C.   The Pursuit will be reviewed and critiqued by a Captain, and will include the supervisor, and  officers involved as soon after the incident as possible. The Captain will submit a summary of the critique  and applicable reports will be forwarded to the Chief of Police. The critique will be done and applicable  reports submitted for administrative uses, identification of training needs, and/or policy modification.     EMPLOYER’S ARGUMENT  11    The grievant has a history of deceptive and untruthful behavior that has clearly been documented in the  past and was clearly evident in the events leading to this termination.  The evidence identifying the  grievant’s untruthfulness in this case cannot be refuted as it was collected from unbiased officer worn- body cameras, Squad car videos, and computer generated data from squad on board computers. This  information is reinforced by direct testimony of witnesses and indisputable common sense. The grievant’s  past dishonesty requires no more evidence than the unequivocal fact that he was determined to be Brady  Impaired by the Anoka County Attorney’s office in 2017.  The designation of Brady Impairment is  applied when a police officer has been proven to have engaged in acts of dishonesty and thus their status  of Brady impaired must be identified to criminal defense attorneys  enabling an attack on the credibility  of that officers testimony.     Officer Aish was disciplined in 2006, receiving a 13 day suspension, for lying to both his supervisor and  to the Captain of the Columbia Heights Police Department regarding a breathalyzer test he performed on  a fellow officer from the Minneapolis Police Department. He was told not to return a confiscated service  revolver to that officer if the officer failed the breathalyzer test. Aish reported back to his supervisor that  the officer was .04 and reported to the Captain that he was .06 but in actuality the test results were a .097  which clearly would not warrant return of the revolver. The PBT (Portable Breathalyzer Test) stored the  most recent test conducted and it was from that that Aish was caught being untruthful to his superiors.    The Brady label was not applied in 2006 however, but rather came about serendipitously when a public  defender requested Aish’s disciplinary file in response to concerns that defense had regarding the way  Aish had treated their client. It was that inquiry that the brought Aish’s 2006 discipline into focus and  resulted in the Anoka County Attorney’s determination that Aish was Brady impaired.   The Columbia Heights Police Department at that point had to determine what the impact would be on the  department as a result of this Brady determination and could Aish continue to work for the department.   12    The City decided not to terminate Aish, but rather attempted to deal with the very serious credibility issue  Aish now presented by imposing the following order:   Until further notice, you will record all interactions with non- departmental personnel, regardless of how you come in contact with  them, with your department issued body-worn camera while on duty. You  will also record all phone conversations you have with witnesses,  suspects, citizens and non-departmental personnel.  Further instances involving untruthfulness or ethical violations; failure  to follow the order stated above or failure to follow departmental general  orders or directives could result in disciplinary action up to and  including termination.    The department viewed this order as critical for Aish’s continued employment and that this order was in  effect a “Last Chance Agreement” for Mr. Aish.     Aish’s clear violation of this order and his dishonesty was readily evidenced through an investigation that  included a review of Aish’s body-worn camera, Fridley officer’s body camera, Fridley squad cameras, on  board computers, and dispatch recordings. This data revealed that Mr. Aish, turned off his body camera  while continuing to discuss the pursuit with Fridley officers and in three different places in his subsequent  reporting of the event revealed that he intentionally misrepresented the facts of the pursuit in an effort to  diminish the severity of the event and his involvement. The reason he did this was to justify reporting it as  an “Assist to another police department” rather than properly reporting the events as a pursuit which it  certainly was under Columbia Heights policy and state law.  By minimizing the event and documenting it  as an “Assist to another Department” it would severely diminish the scrutiny the report would be subject  to by leadership in the Columbia Height Police Department.   Following are three excerpts taken from Aish’s report which are irrefutable misrepresentations of the  actual facts:   1) As the Suspect passed one Fridley squad pulled over at the Home Depot the suspect began to accelerate  again. He had been failing to pull over for my emergency lights and sirens for several blocks now, I had  been directly behind him. At this point I advised dispatch I was not going to continue and pulled over and  13    let the Fridley squads take over. I observed as the driver continued to accelerate northbound on Main  Street as he approached the stop sign at 57th Ave. I observed the suspect blow through the stop sign and  intersection without making any attempt to slow or stop (Emphasis added).    The camera squad video from Fridley officer Bulman’s car clearly shows that Aish did not pull over prior to the  suspect blowing through the stop sign at 57th Ave. rather the video is clear that Aish follows suspect right  through the stop sign and then verbalizes that suspect is picking up speed and then acknowledges that this is  going to be a pursuit and I am getting out.     The second misrepresentation in the report is his incorrect documenting of his speed. Stating:  2) “I continued to follow Fridley squads as they continued to try and get on the suspect to pull over  and stop. I followed at the posted speed limit.” (Emphasis added)    Once again this is not true.  The Fridley squad cars are equipped with a computer GPS system that tracks the  speed of the vehicle and is shown contemporaneously with the squad video which clearly reveals that Bulman’s  vehicle was reaching speeds of 58 miles per hour nearly two time the posted speed limit leading up to the PIT  maneuver.   At the same time the Elasky rear squad video also shows Aish trailing the two Fridley vehicles but  maintaining the same distance behind indicating that his vehicle would have to be traveling at the roughly the  same speed. Finally, the squad video at the scene of the PIT maneuver shows Aish arriving within just a couple  of seconds after Bulman’s car arrives confirming that Aish would have necessarily been traveling at up to 58  miles per hour in order to arrive immediately after the Fridley squads.    Aish does not contradict this undeniable video evidence rather concludes that he was mistaken.  He said he was  so focused on the work at hand that he did not look down to track his speed and it just felt like they were  moving at a slow pace. Frist, officers are trained to keep tract of this type of information and an officer of 20  years should certainly be able to track his speed in this situation.  In fact if, as he claimed, this was a very slow  following there was nothing that should have been that adrenalin producing that should have so effected his  ability to recognize or tract the speed at which he was traveling.  In addition, if he was not sure of his speed he  should not be claiming he was traveling at the posted speed limit he should have explained that he was not sure.  14    In addition Aish testified that he was not sure exactly what the speed limit was on the streets he was traveling.   Also, his claim defies common sense.  We all have driven automobiles and we all can tell when we are traveling  at a high rate of speed. Without tracking his speed he should certainly have known he was not moving at the  posted speed. His claim does not seem like a mistake rather an intentional misrepresentation.    The third misrepresentation in his report is that he stated:  3) I turned northbound on Starlight and observed the Fridley Officers PIT the Suspect vehicle.   The Fridley officers were successful with the PIT and stopped the suspect at Starlight and  Trinity. I activated my emergency lights and assisted taking the suspect into custody  (Emphasis added).    Once again the misrepresentation of the timing of Aish activating his emergency lights is also captured  on Fridley squad video.  While Aish claimed he did not activate his emergency lights until he arrived at  the scene, after the PIT was completed, the Fridley squad rear camera video irrefutably proves  otherwise.  Rear camera video from Elasky’s squad shows that after the Fridley squads passed Aish’s  squad which had been pulled over to the curb Aish then pulls away from the curb immediately after the  Fridley squads pass him.  The video also clearly shows that Aish activates his emergency lights shortly  after pulling out which was well before the PIT occurred as documented by Aish.    All three of these misrepresentations tend to downplay the seriousness of the event, the role in which  Aish played in this process and the likelihood his portrayal of the facts would lead anyone to believe  that he had been involved in a pursuit.  Aish does not document the event as a pursuit and rather drafts a  report labeling it as an “Assist” to another department to ensure the lower level of scrutiny by his  supervisors.  Originally, Aish’s plan would have worked for him and the report would have gone  unchallenged had it not been for the purely coincidental encounter between Chief Lenny Austin had  with Fridley Police Sargent Titus when the two bumped into each other at the Columbia Heights police  department in which Titus explained that he was seeking documentation of a pursuit. Austin found it  troubling to hear that there was a Pursuit involving his department and he had not been made aware of  15    the “Pursuit.”  It was only a result of this chance encounter that prompted the ensuing investigation of  Aish leading ultimately his termination.      The Columbia Heights policies very clearly defines “Pursuit”  Columbia Heights policy  603:01:01 Pursuit  The attempt to stop another vehicle by a police vehicle when the emergency lights and siren have been  activated and the subject vehicle fails to stop as required by law.   All of the elements of the policy have been met under the facts laid out. The Union however claimed that  these facts failed to establish a pursuit. The union argues first that this was merely a failure to stop not a  felony fleeing as the suspect never acknowledged or made any gesture indicating he was aware of Aish’s  presence. Without such awareness by the suspect the Union concludes that this was not fleeing thus there  was no violation of law as required by the policy. Neither under the policy nor under state law is there any  requirement that the suspect make some gesture to indicate they know they are being followed.   The state law defines fleeing as follows:   “To increase speed, extinguish motor vehicle headlights or taillights, refuse to stop the  vehicle, or use other means with intent to attempt to elude a peace officer following a  signal given by the peace officer to the driver of a motor vehicle.”    Contrary to the Union’s claim, each element of the State’s definition of “Pursuit” has been met as well as  meeting all the requirements the City’s Pursuit policy. While the objective evidence presented at the hearing  clearly shows that a pursuit occurred it is equally clear that Aish’s misrepresentations in his report  intentionally attempts to blur the fact that there was a fleeing.  An element of fleeing is that the driver  “Increases speed” thus Aish misrepresented that he was traveling at the speed limit.  Fleeing also requires  an evasive maneuver by the suspect thus Aish documents that he pulled out of the pursuit before the driver  ran through the stop sign at 57th Ave. thus before the evasive maneuver occurred and that also was not true.  In addition, he failed to document that he was traveling at nearly 2 times the speed limit which is also an  16    evasive maneuver.  Finally he said he did not turn on his emergency lights until he arrived at the scene of  the PIT once the suspect was apprehended. Also not true.  He turned on his lights and kept them on the  entire time he followed the Fridley officers pursuing suspect.  His failure to document accurately as to when  he activated his lights is another dishonest attempt to avoid any conclusion that Aish’s actions met the  Columbia Heights “Pursuit” policy which requires activating emergency lights.   While the Union claims the “Violation of the law” requirement in the Columbia Heights “Pursuit” policy  is a requirement to have a fleeing as defined by state law there is no such reference to a fleeing requirement  in the policy. The policy merely requires “Failure to stop as required by law” Minnesota law requires that  vehicles pull over and stop on the side of the road when approached by a police vehicle with its lights and  siren are activated. Minn. Stat. §§ 169.20, subd. 5; 169.011. The suspect did not do this thus his actions are  a pursuit under the Columbia Heights policy, regardless of whether there was a fleeing and thus should  have been reported as a pursuit.    The Pursuit reporting requirement of Columbia Heights policy 603:06 (See below) was also clearly violated  when Aish failed to document the Pursuit according to the policy.  Not only do his actions violate Columbia  Heights policy they also violate Minnesota Statute §626.5531 as all pursuits must be documented with the  state.    Columbia Heights Policy 603:06 Reporting and Review   At the conclusion of any pursuit initiated or participated in, the primary officer in the pursuit  - or if the primary officer is unable to complete the report, the supervisor or senior officer on  duty - must complete a report. This information may be incorporated into any other report  prepared by the primary officer the report shall minimally include: (Emphasis added)  1.    The reason for the pursuit, including specifically what information the officer knew at  the time the pursuit began.   2.  The route of the pursuit as best can be recalled   3.  Traffic conditions, presence and location of citizens.   17    4.  Any violations the driver of the fleeing vehicle committed during the pursuit.   5.   Other Columbia Heights squads involved and any other agencies.   6.  Damage to any vehicle, property, and/or injury to any person.   7.  Supervisor on duty at time of the pursuit.   8.   Road and weather conditions.   9.  Time pursuit began and ended.   10.  How, where, and why the pursuit concluded or was abandoned.   11.   Charges filed, if any.     B.  The primary officer must also complete the Minnesota Pursuit Reporting Form as  required by Statute §626.5531. If the primary officer is unable to complete this form, the form  shall be filled out by the supervisor or senior officer on duty.     C.   The Pursuit will be reviewed and critiqued by a Captain, and will include the  supervisor, and officers involved as soon after the incident as possible. The Captain will submit  a summary of the critique and applicable reports will be forwarded to the Chief of Police. The  critique will be done and applicable reports submitted for administrative uses, identification  of training needs, and/or policy modification.       Aish’s actions were clearly insubordination as he violated a direct order regarding body-worn camera  and phone call recordings. The order states:  Until further notice, you will record all interactions with non- departmental personnel, regardless of how you come in contact with  them, with your department issued body-worn camera while on duty. You  will also record all phone conversations you have with witnesses,  suspects, citizens and non-departmental personnel.  A clear violation of this direct order is easily seen when reviewing Aish’s body-worn camera which  shows Aish turning off his camera once the suspect is apprehended. Other officers at the scene clearly  continue to run their cameras and in fact Aish asks in a low voice to Officer Elasky “Are you on?”   Elasky says “Yes” and apologizes. Further he explains that he has to keep his on. Even with all this  Aish does not activate his camera while continuing to debrief about the event.  A second violation of  18    this order occurs a few hours later as Aish phones Fridley Officer Fetrow, without recording it, and  once again discusses the Pursuit and apologizes for his needing to get out of the pursuit.     In 2017 Aish believed he was going to be terminated as a result of his Brady impairment.  The  Department decided not to terminate but imposed this very clear and very strict order to record outside  interactions.  It was understood that this was a last chance for Aish to keep his job.  Failing to comply,  as indicted in the order, could cause his termination.  He understood that he could be fired for non- compliance but that did not stop him. Aish claims that former Chief Nadeau, prior to retiring, had soften  the adherence to the policy recognizing that under certain situations the recording was not required  when interacting with other departments.  The Union however chose not have Nadeau testify to such  modifications and no written modifications of the order were presented at the hearing.  Beyond that,  here was a situation in which there was a high speed pursuit of a reckless driver in a residential area.   Apprehension of the suspect followed a risky PIT maneuver which was followed by all officers at the  scene, including Aish, pulled out their guns and forcefully removed the suspect from his car.  Under no  circumstances would this have ever led anyone to the conclusion that any follow up debriefing between  the two police departments was the type of interaction that would not need to be captured by Aish under  his 2017 order.     UNION’S ARGUMENT  The employer fails all sense of objectivity when analyzing the facts of this case and only interprets  them only through a lens of a strong predisposition to view the grievant, Mathew Aish, as dishonest  causing the employer to view as a lie any honest explainable mistakes.  Clear evidence of the  employer’s effort to judge all the actions associated with this event in a light most unfavorable to Aish  the employer, without seeking any clarification or confirmation from Officer Elasky, jumped to the  conclusion that when Elasky touched his body-worn camera at the time Aish asked if he were “On” the  employer wrongly concluded that Elasky was book marking this point on his video as it was a  19    suspicious question to be asked. The truth of this action was revealed through Elasky’s testimony at the  hearing revealing that it was an innocent reflex action Elasky had developed regarding his body-worn  camera and in no way was evidence of his concern and his need to bookmark.  Quite the opposite was  the testimony of both Fetrow and Elasky in that they both explained that it is quite common for officers  to ask if another is “On” but not for nefarious reasons but rather to know so they can prevent expressing  themselves in a way they would rather not have captured on video.    Mathew Aish was a police officer in the Columbia Heights police department for over 20 years.  In  2006 he was disciplined for his dishonesty and has learned the hard way from his mistake. Since that  day Aish has never shied away from letting others, especially new officers, hear about his troubles in an  effort to help them learn from his mistake as he has.     This was not a pursuit under the Columbia Heights Pursuit Policy and there was no fleeing with  respect to Officer Aish under the state law.  The employer insists on an interpretation of “fleeing” and “pursuit” that defies logic. The employer  maintains a position as to what is a pursuit that runs completely contrary to the opinions of their  officers, Fridley officers, as well as the opinion of a recognized expert Peter Dahl.   Further, the employer fails to accept the logical interpretation of the facts surrounding the events on  October 27, 2019 and rather insists on labeling these as acts of dishonesty worthy of termination.  The  employer takes this unrelenting position even in light of the expert testimony of Peter Dahl who  provided a reasonable and logical explanation for Aish’s documentation of the events of October 27,  2019 that does not include any acts of dishonesty on Aish’s part. Mr. Dahl is currently an adjunct  instructor at Dakota County Technical College teaching Law Enforcement Customized Training,  including basic and advanced law enforcement including driving involving pursuit and related issues.    Columbia Heights pursuit policy reads as follows:   20    603:01:01 Pursuit  The attempt to stop another vehicle by a police vehicle when the emergency lights and siren have been  activated and the subject vehicle fails to stop as required by law.  Expert witness Dahl carefully reviewed all the evidence including squad video and provided an expert opinion  that within a reasonable degree of police certainty Aish had not participated in a pursuit. Under the policy there  are three required elements.  1) Attempt to stop the vehicle  2) Police squad lights and siren must be on   3) Vehicle fails to stop as required by law.  Dahl testified that the third element, fails to stop as required by law, was not met under these facts.  Dahl  testified that “Under the Law” is clearly a reference to the state law relating to fleeing, Fleeing therefore  requires an attempt by the suspect to “Elude a peace officer” and that was not present.  Aish speeding up to get  in position to follow the suspect is not a pursuit as was confirmed by the testimony of Fridley Officer Fetrow.   A pursuit requires an attempt to elude the officer and that did not occur.  The suspect never acknowledged the  officers presence as per the testimony of Aish who said the driver never looked in rear mirror or in any other  way gave any indication that he knew he was being followed.  He was never focused on the police car behind  him.  Fridley Officers Fetrow and Elasky confirmed this saying they could see the driver’s face as he passed  them on Main Street and testified that he had a “Fixed 1000-yard stare” indicating he in no way was aware of  the police car behind him. Consequently, from the time Aish got behind the suspect there were no eluding  maneuvers or even increased speed to suggest the driver was aware of the police officer much less trying to  elude the peace officer.  Once it appeared as though the suspect became aware of Aish. Officer Aish bowed out  of the process acknowledging the situation stating to dispatch “This is going to be a pursuit, I am getting out.”  Up until this point there was no fleeing therefore no “Violation of the law” thus the elements of Columbia  Heights pursuit policy had not been met according to the expert testimony of Peter Dahl. Dahl continues by  refuting the interpretation provided by the City in which the City claims that it is a violation of the law if a  driver does not pull over for an emergency vehicle.  Dahl explains that the law referenced by the employer was\n",
      "\n",
      "5: 3/13/2021 Prosecutors: St. Paul cops justified in killing man in August | MPR News https://www.mprnews.org/story/2018/10/05/stpaul-cops-justified-killing-billy-hughes 1/2 Prosecutors: St. Paul cops justi¦ed in killing man in August MPR News Staff St. Paul October 5, 2018 4:58 p.m. Family of William \"Billy\" Hughes stand outside the fence to the home where William was shot and killed by police on Aug. 5, 2018. Chris Juhn for MPR News Updated: 3:25 p.m. | Posted: Noon St. Paul police officers were justified in shooting and killing William \"Billy\" Hughes on the front porch of his home last August as they responded to a report of a man firing shots in the house, the Ramsey County Attorney's Office said Friday. The use of deadly force by officers Vincent Adams and Matthew Jones was \"objectively reasonable given all of the circumstances that they knew, heard and saw before firing their weapons,\" Ramsey County Attorney John Choi wrote in a memo describing his decision not to seek charges. \"The body camera footage that captured the death of William Hughes is traumatic and difficult to watch,\" he added. \"This tragedy is something all of us wish had never happened.\" Hughes, 43, was killed early Sunday morning, Aug. 5. A 911 caller reported at about 2:30 a.m. that someone had fired multiple shots on the second floor of house on the 900 block of St. Anthony Avenue in the city's Summit-University neighborhood. The 911 caller then hung up without providing additional information. When the officers arrived, they found Hughes with a gun. The officers shot 21 rounds, and he was pronounced dead at the scene. St. Paul police later released officer body cam video from the shooting amid protests from Native American and other activists who demanded charges against the officers. The body cam videos showed the officers walking up to the first floor of the two-story home, with their guns drawn and flashlights shining into the porch. On Adams' body cam video, he can be heard knocking on the door. The officers don't identify themselves or say police at that point. A voice inside can be heard saying: \"I will kill you ...\" on the video. Hughes opens the interior door and the officers say \"Police, hands up.\" Hughes steps onto the porch and turns and faces the officers. Both officers can be heard yelling: \"Put your hands up, Put your hands up.\" A gun can be seen in Hughes' right hand. He then can be seen raising his right hand. According to an accompanying memo released Friday by the Ramsey County Attorney's Office: 3/13/2021 Prosecutors: St. Paul cops justified in killing man in August | MPR News https://www.mprnews.org/story/2018/10/05/stpaul-cops-justified-killing-billy-hughes 2/2 The memo also said the BCA traced the source of the 911 call to a man who was a friend of Hughes who'd been sharing the second floor room in the house for several months and told investigators that minutes before he called 911, Hughes had fired two shots into the wall without warning and then put the gun barrel to his friend's head asking, \"How many rounds do you think are left in this gun?\" Choi said his decision not to charge the officers came after reviewing evidence collected by the Minnesota Bureau of Criminal Apprehension and from the opinions of two outside experts asked to review the case. \"The officers' actions preceding and during the fatal encounter,\" he added, \"are consistent with commonly- accepted police practices and training. One of the outside experts, Mike Quinn, a former police officer who has testified for the prosecution in use-of-force cases, said the officers did \"what they had to do. \"They backed up when they knew the guy was coming from that porch and tried to create some distance which would have given them a little bit bigger safety factor,\" Quinn said. \"And certainly, they could have shot sooner.\" St. Paul Mayor Melvin Carter issued a statement Friday saying he supports Choi's decision after a \"thorough, transparent and timely investigation.\" Carter called the shooting a tragedy that \"has touched our entire city,\" but said \"officers must make split- second decisions without the benefits of rewind or instant replay. No training nor de-escalation technique could have guaranteed a peaceful resolution to the terrifying scene portrayed on body cam footage.\" Your support matters. You make MPR News possible. Individual donations are behind the clarity in coverage from our reporters across the state, stories that connect us, and conversations that provide perspectives. Help ensure MPR remains a resource that brings Minnesotans together. Donate today. A gift of $17 makes a difference. Support MPR News  Video from the officers' BWCs shows that Mr. Hughes also did not comply with the officers' orders to put his gun down. Instead, the video shows Mr. Hughes raise his right hand while still holding the gun. Mr. Hughes does not raise his left arm and hand. Both officers can be heard on the audio from their BWC continuing to loudly order Mr. Hughes to \"put it down.\" Mr. Hughes raised his right hand while holding the gun in a sweeping trajectory that momentarily was pointed at the officers. Believing that Mr. Hughes is about to fire at them, both officers fired a total of 21 rounds at Mr. Hughes. Both officers estimated they were standing approximately 7-10 feet away from Mr. Hughes at the time of the shooting. Mr. Hughes fell to the ground near where he stood and his .45 caliber HlPoint semi- automatic handgun fell into a nearby cardboard box. “ ” © 2021 Minnesota Public Radio. All rights reserved.\n",
      "\n",
      "6: 4/11/2021 KREKELBERG v. Anoka County, 439 F. Supp. 3d 1143 - Dist. Court, Minnesota 2020 - Google Scholar https://scholar.google.com/scholar_case?case=7438648191156000884&hl=en&as_sdt=6&as_vis=1&oi=scholarr 1/14 439 F.Supp.3d 1143 (2020) Amy Elizabeth KREKELBERG, Plaintiff,  v.  ANOKA COUNTY, et al., Defendants. Civil No. 13-3562 (DWF/TNL). Signed February 13, 2020. United States District Court, D. Minnesota. *1152 Jonathan A. Strauss, Esq., Lorenz F. Fett, Jr., Esq., and Sonia Miller-Van Oort, Esq., Sapientia Law Group PLLC; and Susan M. Holden, Esq., Jeffrey M. Montpetit, Esq., and Marcia K. Miller, Sieben-Carey, PA; counsel for Plaintiff. 1152 Erik Nillson, Interim City Attorney, and Brian S. Carter, Esq., Sharda Enslin, Esq., and Ivan Ludmer, Assistant City Attorneys, counsel for Defendants City of Minneapolis and Heather Young. Joseph E. Flynn, Esq., and Tal A. Bakke, Esq., Jardine Logan & O'Brien PLLP, counsel for Defendant Matthew Olson. MEMORANDUM OPINION AND ORDER DONOVAN W. FRANK, United States District Judge. INTRODUCTION This matter is before the Court on Plaintiff Amy Elizabeth Krekelberg's (\"Krekelberg\") Motion and Amended Motion for Attorneys' Fees and Costs (Doc. Nos. 715, 746); Defendants the City of Minneapolis (\"Minneapolis\") and Heather Young's (\"Young\") Motion for Judgment as a Matter of Law, Motion for New Trial, Motion to Alter/Amend/Correct Judgment, and Motion to Stay (Doc. No. 720); Defendant Matthew Olson's (\"Olson\") (together, \"Defendants\") Motion for Judgment as a Matter of Law, Motion for New Trial, Motion to Alter/Amend/Correct Judgment, and Motion to Stay (Doc. No. 721); Krekelberg's Motion to Alter/Amend/Correct Judgment (Doc. No. 722); and Krekelberg's Motion for Relief from Judgment Pursuant to Rule 60 (Doc. No. 767). For the reasons set forth below, the Court grants Krekelberg's Motions for Attorneys' Fees and Costs in part; denies Defendants' Motions for Judgment as a Matter of Law, New Trial, and to Alter/Amend/Correct Judgment; grants Defendants' Motions to Stay; and grants Krekelberg's Motion for Relief from Judgment in part. BACKGROUND This case commenced in 2013 with Krekelberg's complaint asserting claims under the Driver's Privacy Protection Act, 18 U.S.C. § 2721, et seq. (\"DPPA\") for alleged violations by numerous government entities and their individual employees. (Doc. No. 1.) Previous orders in this matter include detailed summaries of the factual and procedural background in this case and are incorporated by reference. (See, e.g., Doc. No. 118.) The specific procedural and factual background relevant to each of the pending motions is detailed below, with all facts construed in favor of the verdict. Washington v. Denney, 900 F.3d 549, 555 (8th Cir. 2018). As far back as 2017, Magistrate Judge Leung observed that \"the litigation of this case has been a textbook antithesis of Rule 1 [of the Federal Rules of Procedure's] admonition\" that parties should construe the Rules \"to secure the just, speedy, and inexpensive determination of every proceeding.\" (Doc. No. 430 at 1 (citing Fed. R. Civ. P. 1).) In his Order, Magistrate Judge Leung noted that while the \"facts and law underpinning the complaint are decidedly manageable,\" this litigation had by that point already developed a \"rancorous history\" that devolved into a process marked *1153 by mutual distrust and a lack of reasonable compromise, and called for bringing the long-running litigation to a \"merciful close.\" (Id. at 2, 42.) 1153 4/11/2021 KREKELBERG v. Anoka County, 439 F. Supp. 3d 1143 - Dist. Court, Minnesota 2020 - Google Scholar https://scholar.google.com/scholar_case?case=7438648191156000884&hl=en&as_sdt=6&as_vis=1&oi=scholarr 2/14 Lamentably, it was not until almost two years and hundreds of docket entries later that this matter went to trial on the remaining claims. In an Order issued on July 30, 2018, the Court denied a motion by Minneapolis for summary judgment on the grounds that the earlier dismissal of numerous claims against individual defendants for being untimely meant that corresponding vicarious liability claims against Minneapolis should also be dismissed. (Doc. No. 535 at 3-4 (\"Redacted July 30, 2018 Order\") (unredacted version at Doc. No. 527).) The Court ruled that \"a dismissal based on the statute of limitations should not operate to preclude vicarious liability,\" reasoning that there was a meaningful distinction between dismissal of a claim on the merits of an agent's liability and dismissal for a procedural reason, that the issue was not controlled by the principles of either res judicata or collateral estoppel, and that under the circumstance of this case, Fed. R. Civ. P. 41(b) did not mandate dismissal. (Redacted July 30, 2018 Order at 8, 10-11.) In the July 30, 2018 Order, the Court also declined to adopt part of Magistrate Judge Leung's August 9, 2017 Order barring the parties from seeking attorneys' fees and expenses related to the motions addressed at that time but noted that it will \"take the Magistrate Judge's [] Order into appropriate consideration\" if Krekelberg were to subsequently move for attorneys' fees in this matter. (Id. at 37.) Minneapolis again moved for summary judgment, which was again denied in January of 2019. (Doc. No. 574 (\"January 30, 2019 Order\").) By that point, Krekelberg's only surviving claims against Minneapolis were for vicarious liability based on allegations of 74 obtainments of her personal information made by Minneapolis police officers in violation of the DPPA. (January 30, 2019 Order at 4.) Minneapolis reasserted its arguments as to why these vicarious liability claims should be dismissed, which the Court rejected, finding that reasonable jurors could conclude that each of the officers accessed Krekelberg's information for an impermissible purpose, \"and in doing so, violated a clearly established right protected under the DPPA.\" (Id. at 4, 11.) The Court made several rulings on the parties' motions in limine following a pretrial conference on May 22, 2019. (Doc. Nos. 665, 666 (\"May 24, 2019 Order\").) Specifically, the Court ruled that Krekelberg's expert witness would be permitted to testify as to when Minneapolis Police Department (\"MPD\") officers reasonably knew accessing the Minnesota Department of Public Safety's Driver and Vehicle Services database of records for drivers licensed and vehicles registered in the state (\"DVS Database\") for a non-law enforcement purpose violated federal law and as to the culture, structure, and practices of law enforcement agencies, including the MPD. (May 24, 2019 Order ¶ 1.) The Court denied Defendants' motion to exclude evidence of untimely or unrelated accesses, finding that, subject to a proper cautionary instruction to the jury, such evidence was sufficiently intrinsic and presumptively admissible under Fed. R. Evid. 403 and 404. (Id. ¶ 2.) Further, this evidence would be relevant to the state of mind, intent, knowledge, and lack of mistake or accident on the part of each officer and would not constitute impermissible propensity evidence. (Id.) In the same Order, the Court denied Defendants' motions for a ruling that vicarious liability did not apply, citing to its previous findings on the issue. (Id. ¶ 5.) The Court also denied Defendants' motions to limit Krekelberg to \"garden *1154 variety\" emotional damages and exclude evidence related to her allegations of retaliation, discrimination, and harassment, ruling that Krekelberg would be permitted to testify as to the feelings she experienced and that it was for the jury to decide the relationship between any conditions created by the environment and context in which events took place and how such conditions may relate to proximate cause and emotional damages. (Id. ¶¶ 6-7.) 1154 The Court granted Defendants' motion to exclude any reference to liquidated damages during the trial, clarifying that the Court will view sequential accesses close in time as one obtainment consistent with its previous ruling in an order issued June 21, 2018. (Id. ¶ 8 (citing Doc. No. 527 at 15 n. 4).) The Court deferred ruling on Defendants' motion to exclude a 2013 Minnesota Legislative Auditor's Report on law enforcement use of state databases, later ruling that Krekelberg's proposed redacted version was admissible as a trial exhibit. (Id. ¶ 9; Doc. No. 670.) Defendants' motion to exclude evidence of Internal Affairs (\"IA\") investigations was granted in part and denied in part, with the Court ruling that evidence of accesses of Krekelberg's information was presumptively admissible as to damages. (May 24, 2019 Order ¶ 11.) Also relevant here, the Court granted Krekelberg's motion to exclude evidence concerning the current Minnesota Department of Vehicle Services (\"DVS\") system and changes made to the system after August 23, 2012, finding that such evidence would be presumptively inadmissible but stating that the Court would entertain a motion to introduce such evidence should it become appropriate based on testimony received at trial. (Id. ¶ 16.) Krekelberg's remaining claims for DPPA violations were tried to a jury beginning June 10, 2019 and after the parties presented 19 witnesses and 88 exhibits for the jury's consideration, the trial concluded with a verdict on June 19, 2019. 4/11/2021 KREKELBERG v. Anoka County, 439 F. Supp. 3d 1143 - Dist. Court, Minnesota 2020 - Google Scholar https://scholar.google.com/scholar_case?case=7438648191156000884&hl=en&as_sdt=6&as_vis=1&oi=scholarr 3/14 (Doc. Nos. 671, 687, 691-92.) Before presenting their defense, Defendants Minneapolis and Young moved for a directed verdict in their favor as to the vicarious liability claims against Minneapolis and the direct liability claim against Young. (Doc. No. 708 (\"Trial Tr. Vol. 6\") at 1099.) Among other arguments, when asked by the Court if it was the position of the MPD that their employees violate department policies and state law every day, but that is not tantamount to a violation of federal law, counsel for Minneapolis and Young answered affirmatively, stating that such violations would not constitute a violation of the DPPA.[1] (Trial Tr. Vol. 6 at 1110-11.) Counsel for Olson joined in the defense motion and arguments as to the claim for direct liability against Olson. (Id. at 1117.) The Court denied the motion, finding that, based on the evidence admitted up to that point, a jury could conclude that Defendants made a large number of impermissible accesses and that Krekelberg met her burden of proof with respect to liability and compensatory and punitive damages. (Id. at 1144-45.) The Court made determinations with respect to several issues in the charge conference, among them that aside from the question of whether an obtainment of Krekelberg's information was permissible under the DPPA, what constitutes an access is a matter of law rather than fact. (Doc. No. 712 (\"Trial Tr. Vol. 7\") at 1456.) Minneapolis objected to the inclusion of a jury instruction providing that \"[t]he Court has also determined that as a matter *1155 of law, any access of DVS records that violates applicable City of Minneapolis Police Department policy, state law, or regulation cannot be carrying out a function of that agency.\"[2] (Id. at 1461.) Defendants further objected to an instruction reading \"[b]efore the trial began, [the Court] made a legal ruling that [Minneapolis] is responsible for any damages that you may assess to Olson or Young or to the additional accesses at issue.\" (Id. at 1463, 1468.) The Court rejected these arguments, explaining that a Minneapolis police officer necessarily could not claim that an action made in violation of MPD policy was a function of the department; a law enforcement officer cannot say \"it doesn't really matter if I'm violating policies. I'm still carrying out a function.\" (Id. at 1465, 1467.) 1155 At the close of trial, the Court read the final jury instructions, a copy of which was also provided to each juror. (Trial Tr. Vol. 8 at 1598; Jury Instr.) Relevant here, these included the instruction detailed above. (Id. at 1610.) They also included the instruction that, as a matter of law, sequential accesses occurring close in time, meaning within a several-minute time span, must be viewed as a single access. (Id. at 1611.) For each access found, the jury was instructed to determine whether there was a legally permissible purpose for obtaining Krekelberg's information, and that each obtainment made without a permissible purpose was a violation of the DPPA. (Id.) The Court instructed the jury that Krekelberg, herself an MPD officer, claimed her fellow officers accessed her personal information without permission or authority in violation of the DPPA, which permits law enforcement officers to access personal information from state databases if done to carry out law enforcement functions and official business. (Id. at 1611-12.) Additionally, the Court instructed that before the trial began, it \"made a legal ruling that [Minneapolis] is responsible for any damages that you may assess to Olson or to Young or to the additional accesses at issue in this case.\" (Id. at 1613.) The jury was further instructed to determine the amount of money, if any, that will fairly compensate Krekelberg for any damages she sustained as a direct result of unlawful obtainments of her records. (Id.) As for punitive damages, the jury was instructed that these should only be awarded if the defendants' culpability, after having paid compensatory damages, \"is so reprehensible as to warrant the imposition of further sanctions to achieve punishment or deterrence.\" (Id. at 1614-15.) The jury asked only one question during the course of its deliberations, requesting a copy of Plaintiff's Exhibit 234, which was a color-coded chart showing the names of officers who were the subject of IA reports as well as the names of the investigators who prepared each report. (Doc. No. 686.) In chambers, neither party objected, and the answer proposed by the Court was accepted with minor edits. (Id.; Trial Tr. Vol. 8 at 1630-32.) The jury returned a verdict in favor of Krekelberg and, after determining that *1156 Minneapolis' agents or employees impermissibly accessed Krekelberg's personal information 74 times on or after December 17, 2009, awarded her $285,000 as compensation for Defendants' improper conduct. (Doc. No. 687 (\"Special Verdict Form\") at 1.) The jury also found that Olson and Young willfully or with reckless disregard violated the DPPA, on one date each, and for each individual defendant, the jury awarded Krekelberg $150,000 in order to punish and deter them from similar violations in the future. (Special Verdict Form at 1-2.) Judgment in favor of the plaintiff was entered on June 25, 2019. (Doc. No. 693 (\"Judgment\").) 1156 Defendants now move for relief from the verdict and judgment, renewing their motion for judgment as a matter of law or in the alternative, a new trial, that the judgment be amended, and that the judgment be stayed without a supersedeas bond. 4/11/2021 KREKELBERG v. Anoka County, 439 F. Supp. 3d 1143 - Dist. Court, Minnesota 2020 - Google Scholar https://scholar.google.com/scholar_case?case=7438648191156000884&hl=en&as_sdt=6&as_vis=1&oi=scholarr 4/14 The plaintiff moves for attorneys' fees and costs, and that the judgment be amended to include equitable relief and both pre- and post-judgment interest at the rate mandated under Minnesota state law. DISCUSSION I. Defendants' Motions for Judgment as a Matter of Law, New Trial, or Amended Verdict A. Judgment as a matter of law Defendants argue that the verdict in favor of the plaintiff should be vacated, with judgment entered in favor of Defendants and Krekelberg's complaint dismissed with prejudice. (Doc. Nos. 720, 721.) Rule 50 of the Federal Rules of Civil Procedure authorizes a court to allow judgment on the verdict, if the jury returned a verdict; order a new trial; or direct the entry of judgment as a matter of law. Fed. R. Civ. P. 50(b)(1-3). There is a high standard placed on overturning a jury verdict because of the \"danger that the jury's rightful province will be invaded when judgment as a matter of law is misused,\" and the analysis for considering such a motion requires that the district court must: (1) consider the evidence in the light most favorable to the prevailing party, (2) assume that all conflicts in the evidence were resolved in favor of the prevailing party, (3) assume as proved all facts that the prevailing party's evidence tended to prove, and (4) give the prevailing party the benefit of all favorable inferences that may reasonably be drawn from the facts proved. That done, the court must then deny the motion if reasonable persons could differ as to the conclusions to be drawn from the evidence. Washington, 900 F.3d at 558-59 (quoting Haynes v. Bee-Line Trucking Co., 80 F.3d 1235, 1238 (8th Cir. 1996)). In considering a motion for judgment as a matter of law, a trial court must draw all reasonable inferences in favor of the nonmoving party and may not make credibility determinations or weigh the evidence. Kinserlow v. CMI Corp, 217 F.3d 1021, 1025 (8th Cir. 2000). \"Credibility determinations, the weighing of evidence, and the drawing of inferences from the facts are jury functions, not those of a judge.\" Id. (quoting Anderson v. Liberty Lobby, Inc., 477 U.S. 242, 255, 106 S.Ct. 2505, 91 L.Ed.2d 202 (1986) as cited in Reeves v. Sanderson Plumbing Prods., Inc., 530 U.S. 133, 151, 120 S.Ct. 2097, 147 L.Ed.2d 105 (2000)). The court should review the records as a whole, but disregard all evidence favorable to the moving party that the jury is not required to believe, meaning that the court should give credence to the evidence favoring the non-movant and only evidence supporting the moving party that is uncontradicted, unimpeached, *1157 and comes from disinterested witnesses. Id. at 1025. 1157 To prove direct liability, Krekelberg had to show that Olson and Young knowingly obtained, disclosed, or used her personal information from a motor vehicle record for an impermissible purpose. 18 U.S.C. § 2724. Permissible uses include an exception for use by a law enforcement agency \"in carrying out its functions.\" 18 U.S.C. § 2721(b)(1). A person who violates § 2724 is liable to the individual whose information was obtained, and the court may award actual damages, but not less than liquidated damages in the amount of $2,500; attorneys' fees and costs; and punitive damages upon proof of willful or reckless disregard of the law. McDonough v. Anoka Cty., 799 F.3d 931, 938 (8th Cir. 2015) (citing 18 U.S.C. § 2724). Any individual law enforcement officer who knowingly obtains, discloses, or uses protected information for an impermissible purpose may liable under the DPPA. See, e.g., Kiminski v. Hunt, Civ. No. 13-185, 2013 WL 6872425, at *9 (D. Minn. Sept. 20, 2013). While courts have interpreted the law enforcement exception broadly, permitting, for example, actions officers take for their safety or to follow up on encounters with citizens (Metcalfe v. Priebe, Civ. No. 13-1692, 2014 WL 5106851, at *4-5 (D. Minn. Oct. 10, 2014)), \"numerous courts have held that the DPPA's prohibition against accessing private driver's license information without a permissible purpose was clearly established since shortly after the statute's enactment in 1994\" and since that time, \"any reasonable officer\" would understand that it is unlawful to access such information without a permissible purpose (Rollins v. City of Albert Lea, Civ. No. 14-299, 2016 WL 6818940, at *10 (D. Minn. Nov. 17, 2016)). As the Court explained in its November 7, 2014 Order, law enforcement officers are not entitled to qualified immunity when they violate a clearly established statutory right. (Doc. No. 118 at 17 (citing Mallak v. Aitkin Cty., 9 F. Supp. 3d 1046, 1063 (D. Minn. 2014)). A right is clearly established if, at the time of the conduct and in the context of the case, every reasonable 4/11/2021 KREKELBERG v. Anoka County, 439 F. Supp. 3d 1143 - Dist. Court, Minnesota 2020 - Google Scholar https://scholar.google.com/scholar_case?case=7438648191156000884&hl=en&as_sdt=6&as_vis=1&oi=scholarr 5/14 official would understand that the challenged conduct violates that right. Wallace v. City of Alexander, 843 F.3d 763, 769 (8th Cir. 2016).[3] What matters is whether a reasonable officer could have believed the action to be lawful, not the subjective belief of an individual officer, and \"[t]he contours of the right must be sufficiently clear that a reasonable official would understand that what he is doing violates that right.\" Anderson v. Creighton, 483 U.S. 635, 640-41, 107 S.Ct. 3034, 97 L.Ed.2d 523 (1987). Clearly established law should not be defined at a \"high level of generality\" but it is not necessary that \"the very action in question\" be previously held unlawful. Thompson v. Monticello, 894 F.3d 993, 999 (8th Cir. 2018). By 2003, if not sooner, it was established that it is improper for officers to access an individual's DVS record outside the course of \"typical law enforcement functions,\" such as *1158 when the person targeted is not an interested party in any law enforcement matter. Kampschroer v. Anoka Cty., 57 F. Supp. 3d 1124, 1140-41 (D. Minn. 2014), aff'd, 840 F.3d 961 (8th Cir. 2016); see also McDonough, 799 F.3d at 944 n.6 (\"The words of the DPPA alone are specific enough to establish clearly the law applicable to particular conduct and circumstances and to overcome qualified immunity.\" (quoting Collier v. Dickinson, 477 F.3d 1306, 1312 (11th Cir. 2007) (internal quotation marks and citations omitted)). 1158 While counsel for Minneapolis and Young tried to cast using state databases to look up fellow officers by name as an action necessary for officer safety, these arguments were strained and borderline absurd. For example, in closing arguments, counsel stated that an officer who responded to an emergency call and saw other officers in the area who were also responding (meaning that this hypothetical officer already recognized the other officers as members of law enforcement) would additionally need to access information from the DVS database containing photographs, medical conditions, and home addresses (and somehow search for these unfamiliar officers by name) to \"know who is on their team\" and \"figure out who the other employees out in the field are because that's important for their safety.\" (Trial Tr. Vol. 8 at 1530.) The plaintiff spent days at trial presenting evidence that contradicted this reasoning, providing explanations for defendant officers' actions that were inappropriate and prurient. (See, e.g., Doc. No. 705 (\"Trial Tr. Vol. 2\") at 303 (Krekelberg's direct testimony that she never needed to look up fellow officers in the DVS database to write a report); Doc. No. 706 (\"Trial Tr. Vol. 3\") at 580, 582, 595, 600, 602-03, 606 (Sgt. Matthew McLean's testimony explaining that in his role as an MPD internal affairs investigator, he investigated four officers accused of improperly accessing Krekelberg's data including Olson and Young, and concluded that they should have known using DVS databases for the reasons they did was impermissible).) To prove vicarious liability, Krekelberg had to show that agents of Minneapolis committed violations of the DPPA by impermissibly accessing her personal information within the statute of limitations, and that Minneapolis aided its agents in violating the DPPA by facilitating their access to the DVS databases. As the Court noted in its June 21, 2018 Order, and as determined by the Court in a previous case, under the DPPA vicarious liability may be properly imposed against an entity where its agents are aided in accomplishing violations by the existence of an agency relationship.[4] (Doc. No. 527 at 10-12, 29 (citing Mallak v. City of Brainerd, Civ. No. 13-2219, 2017 WL 440249, at *15-17 (D. Minn. Feb. 1, 2017)).) As the jury was instructed, \"[t]he DPPA prohibits individuals, organizations, and entities, including law enforcement officers and government agencies, from knowingly obtaining, using, or disclosing personal information contained in a driver's motor vehicle record unless it is accessed for a permissible purpose. Viewing or accessing another individual's personal information from the State's motor-vehicle records is the same as obtaining the information. Under the statute, it is permissible for a government agency, including any law enforcement agency, to access personal information from state databases if it is done to carry out its law-enforcement functions *1159 and official business.\" (Jury Instr. at 10-11.) Further, the jury was instructed that Krekelberg \"asserts that the accesses at issue were made for purely personal interests and curiosity having nothing to do with law-enforcement functions,\" while Defendants \"deny these allegations and liability under the DPPA\" and \"assert that some of the accesses were for legitimate government or law-enforcement purposes\" and \"deny that any of the accesses caused [Krekelberg] any damages.\" (Id. at 11.) 1159 The jury is presumed to have followed instructions as given. Muhammad v. McCarrell, 536 F.3d 934 (8th Cir. 2008). Rule 50 motions should only be granted when there is a \"complete absence of probative facts to support the verdict and when the record contains \"no proof beyond speculation\" to support the verdict. Heaton v. The Weitz Co., 534 F.3d 882, 889 (8th Cir. 2008) (internal citations and quotations omitted). Here, from the evidence at trial, a reasonable jury could find Krekelberg's witnesses more credible and her documentation more persuasive in showing that Olson and Young, as well as the remaining 56 MPD officers, accessed Krekelberg's personal information without a permissible purpose, and in so doing, caused her harm. Accordingly, Defendants' motion for judgment as a matter of law is denied. B. New trial 4/11/2021 KREKELBERG v. Anoka County, 439 F. Supp. 3d 1143 - Dist. Court, Minnesota 2020 - Google Scholar https://scholar.google.com/scholar_case?case=7438648191156000884&hl=en&as_sdt=6&as_vis=1&oi=scholarr 6/14 Defendants contend that a new trial is warranted because the Court wrongly instructed the jury as to the applicable law and admitted evidence of time-barred accesses of Krekelberg's personal information. Under Rule 59 of the Federal Rules of Civil Procedure, the Court may grant a motion for a new trial to all or any of the parties on all issues or on particular issues. Fed. R. Civ. P. 59(a). District courts \"enjoy broad discretion\" in deciding whether to grant a new trial. Pulla v. Amoco Oil Co., 72 F.3d 648, 656 (8th Cir. 1995). A court can weigh the evidence, disbelieve witnesses, and grant a new trial even where there is substantial evidence to sustain the jury's verdict. White v. Pence, 961 F.2d 776, 780 (8th Cir. 1992). However, inaccuracies or errors are not a basis for setting aside a verdict unless prejudicial error is shown, Buchholz v. Rockwell Intern. Corp., 120 F.3d 146, 148 (8th Cir. 1997), and a trial court is not free to set aside a jury verdict and grant a new trial \"merely because it believes the jury could have drawn different inferences or that another result would be more reasonable,\" Washburn v. Kansas City Life Ins. Co., 831 F.2d 1404, 1409 (8th Cir. 1987) or \"simply because the trial court would have found a verdict different from the one the jury found,\" Butler v. French, 83 F.3d 942, 944 (8th Cir. 1996). The trial court should only reject a jury's verdict where a full review of all the evidence, giving \"full respect\" to the jury's verdict, leaves the court with a \"definite and firm conviction that the jury has erred.\" Ryan by Ryan v. McDonough Power Equip., Inc., 734 F.2d 385, 387 (8th Cir. 1984). In other words, the trial court may only grant a new trial where the verdict was \"so contrary to the evidence as to amount to a miscarriage of justice.\" Butler, 83 F.3d at 944. The Court's instructions to the jury were clear statements of established law, instead of leaving jurors to rely on assessments or conclusions from any other source. Defendants argue that it cannot be assumed that showing a violation of state law also shows a violation of federal law, ignoring the particulars of this case where no such assumption was required in light of the statutory language of the DPPA and the substantial amount of evidence in the form of testimony and documentation supporting the conclusion that MPD officers *1160 knowingly accessed Krekelberg's information without a permissible purpose. As Defendants note, determining whether a violation of a clearly established right has occurred is a case-specific inquiry rather than a broad general proposition. 1160 Trial courts have broad discretion in formulating jury instructions, and they do not need to be \"technically perfect\" or \"a model of clarity.\" B & B Hardware, Inc. v. Hargis Indus., Inc., 252 F.3d 1010, 1012 (8th Cir. 2001) (quoting Cross v. Cleaver, 142 F.3d 1059, 1067 (8th Cir. 1998)). What matters is whether taken as a whole and viewed in light of the evidence and applicable law, the instructions \"fairly and adequately submitted the issues in the case to the jury.\" B & B Hardware, 252 F.3d at 1012. Here, the Court correctly interpreted the law at issue in its instructions to the jury. \"If a court, employing traditional tools of statutory construction, ascertains that Congress had an intention on the precise question at issue, that intention is the law and must be given effect.\" Chevron, U.S.A., Inc. v. Nat. Res. Def. Council, Inc., 467 U.S. 837, 843, 104 S.Ct. 2778, 81 L.Ed.2d 694 (1984). In any question of statutory interpretation, a court's analysis begins with the plain language of the statute, and if that language is unambiguous, it is conclusive absent clear legislative intent to the contrary. Petersen v. Astrue, 633 F.3d 633, 637-38 (8th Cir. 2011) (internal citations and quotations omitted). If the intent of Congress can be clearly discerned from the statute's language, that ends the judicial inquiry. Petersen, 633 F.3d at 638 (internal citation omitted). As other courts have previously held, conduct on the part of law enforcement officers such as looking up friends or out of curiosity about people who are not interested parties in legal matters \"clearly contravenes the plain language of the statute.\" Kennedy v. City of Braham, 67 F. Supp. 3d 1020, 1042, 1044 (D. Minn. 2014). The DPPA is a \"crime-fighting, privacy-protecting measure\" enacted with public safety in mind, designed to prevent stalkers and criminals from utilizing motor vehicles records to obtain information about their victims. Potocnik v. Carlson, Civ. No. 13- 2093, 2016 WL 3919950, at *12 (D. Minn. July 15, 2016). The DPPA's exceptions permit disclosure in a \"range of circumstances,\" but unless \"commanded by the text,\" these exceptions \"ought not operate to the furthest reach of their linguistic possibilities if that result would contravene the statutory design.\" Maracich v. Spears, 570 U.S. 48, 60, 133 S.Ct. 2191, 186 L.Ed.2d 275 (2013). The Court crafted an instruction to clarify the question before the jury. It is well-established that law enforcement officers violate the DPPA when they access personal information contained within drivers' records for impermissible purposes, regardless of the personal justifications they offer. In this district, Judge Nelson stated this clearly in her 2016 Rollins opinion, finding that the law-enforcement exception provided in § 2721(b)(1) does not contain any \"grievous ambiguity or uncertainty\" even though it does not explicitly state what constitutes a \"government function\" and that \"[b]y definition ... an officer's access of a driver's information based on curiosity or other personal reasons cannot be in furtherance of a government function.\" Rollins, 2016 WL 6818940, at *15. The Rollins opinion rejected the argument that it was not clearly established that police officer defendants who \"view[ed] records for the purpose of investigating tips [] or aiding with welfare concerns was not a law enforcement function.\" Id. at *10 (internal punctuation omitted). The Rollins 4/11/2021 KREKELBERG v. Anoka County, 439 F. Supp. 3d 1143 - Dist. Court, Minnesota 2020 - Google Scholar https://scholar.google.com/scholar_case?case=7438648191156000884&hl=en&as_sdt=6&as_vis=1&oi=scholarr 7/14 opinion also noted that \"numerous courts have held that the DPPA's prohibition against *1161 accessing private driver's license information without a permissible purpose was clearly established since shortly after the statute's enactment in 1994.\" Id. (collecting cases). Judge Nelson also found that while looking up individuals associated with a drug investigation \"would undoubtedly be in furtherance of a government function,\" the lack of evidence to show that such an investigation existed put the purpose behind some accesses into question. Id. 1161 Defendants' arguments miss the point of the instruction. Rather than having jurors muddle through layers of different laws and policies issued by different authorities at different times, the Court directed the jury to focus on what officers were permitted to do in the course of performing their jobs. It is no great leap in logic to interpret the DPPA as forbidding law enforcement officers from abusing their access for personal reasons. Likewise, it is common sense that those who are employed by an agency that prohibits certain conduct cannot substitute their judgment for agency policy, regardless of its source, and redefine their positions and duties in order to claim that prohibited actions are functions of the agency. Quite clearly, the opposite is true, as courts have consistently held throughout years of litigation related to DPPA claims. Similarly, with respect to the Court's instruction to the jury about Minneapolis' responsibility, there is nothing about the jury's sole question to suggest that they were confused by the instructions. In fact, there is every indication that the jury properly received this instruction as an explanation for why Minneapolis is defending, rather than condemning, misconduct on the part of MPD officers. A district court enjoys wide discretion in admitting and excluding evidence and even where an abuse of discretion is shown it will not be reversed unless the ruling is shown to have had a substantial influence on the jury's verdict. Harris v. Chand, 506 F.3d 1135, 1139 (8th Cir. 2007) (internal citations omitted). Defendants point to the Eighth Circuit's recent Orduno opinion to support their contention that evidence of time-barred accesses should not have been admitted and constituted veiled propensity evidence barred under Federal Rule of Evidence 404(b). However, this case is easily distinguished. Before trial in the Orduno matter, the number of violations was established and the defendant had admitted liability, leaving the jury only to determine damages from flowing from the unlawful obtainments. Orduno, 932 F.3d at 719. The Eighth Circuit held that in that case, it was not an abuse of discretion under Federal Rule of Evidence 403 to exclude evidence of other obtainments. Id. There was no error here in admitting the evidence for the purpose permitted —showing the state of mind, intent, knowledge, and lack of mistake or accident by each officer. (May 24, 2019 Order ¶ 2.) This evidence was intrinsic to the conduct in controversy and provided important context to the circumstances under which it occurred and was relevant to the issue of actual damages. (Id.) C. Amended, altered, or corrected verdict Defendants argue that the jury's verdict reflects its misunderstanding of the law and the issues to be decided based on erroneous instructions by the Court, and requests that the judgment be changed so that Krekelberg is awarded damages in an amount consistent with the evidence and constitutional limits on punitive damages. *1162 Rule 59(e) motions serve a limited function of correcting \"manifest errors of law or fact or to present newly discovered evidence\" and cannot be used to introduce new evidence, tender new legal theories, or raise arguments that could have been raised prior to entry of judgment. United States v. Metro. St. Louis Sewer Dist., 440 F.3d 930, 933 (8th Cir. 2006) (internal quotations omitted). Relief under Rule 59(e) is granted only in \"extraordinary\" circumstances. See United States v. Young, 806 F.2d 805, 806 (8th Cir. 1986). 1162 At closing, counsel for Minneapolis and Young essentially questioned the purpose of the DPPA's damages provisions, minimizing the need to protect personal information from unauthorized accesses and the value of privacy as well as the need for reform within the MPD. For example, counsel conceded that Krekelberg \"testified that there was some emotional distress around the time she found out about these accesses,\" but asked \"someone looked at her driver's license photo for a second or two. Where is the stress coming from?\" (Trial Tr. Vol. 8 at 1533-34.) Counsel also told the jury that many of the accesses at issue were not of a type that was amenable to the internal affairs process and instead \"were going to have to get sorted out in civil lawsuits.\" (Id. at 1519.) To the contrary, Krekelberg's attorney suggested that if the jury found in her favor, \"$300,000 would be fair and reasonable.\" (Id. at 1584.) 4/11/2021 KREKELBERG v. Anoka County, 439 F. Supp. 3d 1143 - Dist. Court, Minnesota 2020 - Google Scholar https://scholar.google.com/scholar_case?case=7438648191156000884&hl=en&as_sdt=6&as_vis=1&oi=scholarr 8/14 Remittitur is only appropriate \"when the verdict is so grossly excessive as to shock the conscience of the court. A verdict is not considered excessive unless there is plain injustice or a monstrous or shocking result.\" Eich v. Bd. of Regents for Cent. Mo. State Univ., 350 F.3d 752, 763 (8th Cir. 2003) (internal citations and quotations omitted). Because the amount Krekelberg requested is close to both the compensatory damages awarded by the jury and equal to the total punitive damages awarded, the Court finds that rather than indicating that the jury made any improper calculations in their verdict, it is almost certain that the jury found Krekelberg persuasive and decided to award her damages in an amount close to what she requested. (Special Verdict Form.) The jury could have reasonably concluded that such damages were needed to properly compensate Krekelberg for the harm she suffered and to send a strong message to Defendants of disapproval for their past conduct and warning going forward. For these reasons, Defendants' motions for a new trial or remittitur are denied. D. Stay of judgment without bond Minneapolis asks that the Court impose no bond or security requirement pending the final resolution of all proceedings and contends that its ability to satisfy the cost of judgment is \"beyond doubt\" and that \"requiring a bond would be a waste of taxpayer money.\" (Doc. No. 734 at 46.) If the Court is not inclined to grant a stay, Defendants request that the Court identify the bond or security it would require to stay execution of the judgment and reserve their right to appeal an adverse determination. (Id. at 51.) Under Federal Rule of Civil Procedure 62, a party may obtain a stay by providing a bond or other security. Fed. R. Civ. P. 62(b).[5] The Court has the discretion to waive the bond requirement and stay the enforcement of the judgment without bond pending appeal. In re Levaquin *1163 Prod. Liab. Litig., Civ. No. 07-3960, 2012 WL 2393780, at *1 (D. Minn. June 25, 2012). Factors to consider in determining whether a supersedeas bond may be waived include: (1) the complexity of the collection process, (2) the amount of time required to obtain a judgment on appeal, (3) the degree of confidence that the district court has in the availability of funds to pay the judgment, (4) whether the defendant's ability to pay the judgment is so plain that the cost of a bond would be a waste of money, and (5) whether the defendant is in such a precarious financial situation that the requirement to post a bond would place the other creditors of the defendant in an insecure position. Glob. Traffic Techs., LLC v. Morgan, Civ. No. 10-4110, 2014 WL 3513149, at *1 (D. Minn. July 16, 2014). The burden is on the appellant to convince the district court to depart from the usual requirement of a supersedeas bond. Id. 1163 The Court finds that Krekelberg is adequately secured during the pendency of appeal by Defendants' tendered documentation and assurances.[6] While it notes with Minneapolis' expressed concern for taxpayers with some irony given the history of this litigation, the Court is persuaded that Minneapolis will be able to pay and agrees that it is in the best interest of Minneapolis citizens without posing intolerable risk to Krekelberg's interest for the Court to waive the bond requirement. II. Krekelberg's Motion for Attorney's Fees and Costs A. Fees Krekelberg seeks attorneys' fees totaling $1,309,730.75 and costs totaling $47,086.36. (Doc. No. 761 at 12.) In support of this motion, Defendants contest Krekelberg's calculations of the reasonable fees and costs, arguing that the submitted invoices are full of non-compensable tasks, block billing, vague descriptions, and \"bloated\" time entries. (Doc. No. 759 at 1.) Defendants submitted a detailed analysis of the invoices in question in support of their objections to the requested amounts and contends that a reasonable award of fees and costs in this case would total $315,256. (Doc. Nos. 759 at 26, 760-1, 760-2.) Krekelberg submitted several documents in support of her request, including an amended petition and a subsequent letter to correct the request and affidavits from other attorneys who practice in comparable areas of law and are familiar with the rates in this legal community. (Doc. Nos. 715, 746-52, 754, 761-65.) Krekelberg requests an award of attorneys' fees in the amount of $1,289,198.25 for approximately 2,500 hours of work performed by five attorneys plus staff—from the Sieben Carey firm, Mr. Montpetit at a rate of $550 per hour, Ms. Miller at a rate of $400 per hour, and Mr. Miklesh at a rate of $75 per hour (Doc. Nos. 749 ¶¶ 5, 9, 11; 765 ¶ 3); and from Sapientia Law Group, Mr. Fett at a rate of $475 per hour, Ms. Miller-Van Oort and Mr. Strauss at a rate of $450 per hour, Ms. Wolpert 4/11/2021 KREKELBERG v. Anoka County, 439 F. Supp. 3d 1143 - Dist. Court, Minnesota 2020 - Google Scholar https://scholar.google.com/scholar_case?case=7438648191156000884&hl=en&as_sdt=6&as_vis=1&oi=scholarr 9/14 at a rate of $425 per hour, Ms. Gernon at a rate of $400 per hour, Mr. Fukuda and Mr. Wille at a rate of $225 per hour, and paralegals (some unnamed) at a rate of $110 per hour (Doc. No. 751 ¶ 37). Together, these attorneys spent 2,533 hours on this case over the course of six years.[7] (Doc. No. 752 at 7.) *1164 Under § 2724(b)(3) of the DPPA, a court may award \"reasonable attorneys' fees and other litigation costs reasonably incurred.\" \"Just what is a reasonable attorneys' fee is a matter peculiarly within the district court's discretion,\" as the district court has extensive contact with the parties and is thoroughly familiar with the issues involved and work required in a case. Greater Kansas City Laborers Pension Fund v. Thummel, 738 F.2d 926, 931 (8th Cir. 1984). The Supreme Court provided the framework for determining reasonable fees in its Hensley opinion, which set forth the factors a district court should use in awarding fees to prevailing parties in litigation under the Civil Rights Attorney's Fees Awards Act of 1976, 42 U.S.C. § 1988. Hensley v. Eckerhart, 461 U.S. 424, 103 S.Ct. 1933, 76 L.Ed.2d 40 (1983). The Hensley criteria have since been applied in other decisions concerning federal fee-shifting statutes. Perdue v. Kenny A. ex rel. Winn, 559 U.S. 542, 552, 130 S.Ct. 1662, 176 L.Ed.2d 494 (2010). Factors courts should consider include: 1164 (1) the time and labor required; (2) the novelty and difficulty of the questions; (3) the skill requisite to perform the legal service properly; (4) the preclusion of employment by the attorney due to acceptance of the case; (5) the customary fee; (6) whether the fee is fixed or contingent; (7) time limitations imposed by the client or the circumstances; (8) the amount involved and the results obtained; (9) the experience, reputation, and ability of the attorneys; (10) the \"undesirability\" of the case; (11) the nature and length of the professional relationship with the client; and (12) awards in similar cases. Hensley at 430, n. 3, 103 S.Ct. 1933. Many of these factors usually are subsumed within the initial calculation of the lodestar. Id., n. 9. The lodestar, calculated by multiplying the number of hours reasonably expended by the reasonable hourly rate, is the starting point in determining attorneys' fees. Fish v. St. Cloud State Univ., 295 F.3d 849, 851 (8th Cir. 2002). \"A reasonable rate is usually the ordinary rate for similar work in the community where the case has been litigated.\" Id. However, the \"most important factor in determining what is a reasonable fee is the magnitude of the plaintiff's success in the case as a whole.\" Wal-Mart Stores, Inc. v. Barton, 223 F.3d 770, 773 (8th Cir. 2000) (citing Jenkins by Jenkins v. Missouri, 127 F.3d 709, 716 (8th Cir. 1997)). Where a plaintiff achieves only partial or limited success, the lodestar amount may be excessive. Farrar v. Hobby, 506 U.S. 103, 114, 113 S.Ct. 566, 121 L.Ed.2d 494 (1992). The burden is on the fee applicant to document the appropriate hours expended and hourly rates. Fish v. St. Cloud State Univ., 295 F.3d at 851. The district court is in the best position to assess the work performed by counsel and may use its familiarity with the case to decide a reasonable hourly rate for each attorney. Id. at 852. Courts should exclude hours that were not reasonably expended —for example, hours that were excessive, redundant, or otherwise unnecessary to a degree that a lawyer in private practice would be ethically obligated to exclude them from a fee submission to a client. Hensley, 461 U.S. at 434, 103 S.Ct. 1933. Courts may reduce the fee award for reasons related to the quality of work performed or the documentation provided in the fee application. Philipp v. ANR Freight Sys., Inc., 61 F.3d 669, 675 (8th Cir. 1995) (award reduced for clerical errors, *1165 duplicative and inflated efforts, and request for hours spent on clerical duties); H.J. Inc. v. Flygt Corp., 925 F.2d 257, 260 (8th Cir. 1991) (court reduced award based on the quality of counsel's legal briefing and analysis). In determining reasonable hourly rates, district courts may rely on their own experience and knowledge of prevailing rates. Hanig v. Lee, 415 F.3d 822, 825 (8th Cir. 2005). 1165 Krekelberg is the prevailing party, having succeeded on the claims \"at the heart of her case.\" Barton, 223 F.3d at 773; See Jenkins by Jenkins v. State of Mo., 127 F.3d 709, 714 (8th Cir. 1997). Krekelberg obtained a significant award, distinguishing this case from the outcome in Orduno, exposed concerning and egregious misconduct, and potentially deterred future misconduct. See Orduno v. Pietrzak, 2017 WL 4354686 at *14 (D.Minn. Sept. 29, 2017). Krekelberg's attorneys' requested rates are reasonable in consideration of the expertise and experience of these attorneys and fall within the typical range for attorneys who litigate DPPA matters in this region.[8] The Court will use the requested rates in calculating the lodestar. Importantly, Krekelberg is unquestionably the prevailing party, having won a favorable verdict on all her claims and significant damages. While work on unsuccessful claims cannot be deemed to have been expended in pursuit of the ultimate result achieved, a lawsuit involving a \"common core of facts\" and related legal theories cannot be viewed as a series of discrete claims, and the district court should focus on the significance of the overall relief obtained. Hensley, 461 U.S. at 435, 103 S.Ct. 1933. 4/11/2021 KREKELBERG v. Anoka County, 439 F. Supp. 3d 1143 - Dist. Court, Minnesota 2020 - Google Scholar https://scholar.google.com/scholar_case?case=7438648191156000884&hl=en&as_sdt=6&as_vis=1&oi=scholarr 10/14 Defendants object to Krekelberg's use of block billing, a term for \"lumping together of daily time entries consisting of two or more task descriptions.\" King v. Turner, Civ. No. 05-388, 2007 WL 1219308, at *3 (D. Minn. Apr. 24, 2007). Other circuits have warned against the practice of block billing, but the Eighth Circuit has no requirement that attorneys refrain from its use. Id. Krekelberg has indeed used block billing in her request, and some entries are glaringly vague, but the Court finds that its time sheet entries generally contain enough specific information for the Court to tell what was done by whom and how it contributed to the work on this case. Consequently, the Court does not weigh the factor of vagueness of entries heavily in discounting the lodestar. As for the detailed items in dispute, as an initial matter, the Court will not award fees and costs for Krekelberg's response to Defendants' objections to the fee petitions. Defendants raised and thoroughly described several arguably valid disputes with Krekelberg's petition. (See generally, Doc. No. 759.) The burden is on the applicant to establish reasonable fees and expenses, yet Defendants found several errors and inaccuracies in addition to what they contend are unacceptably vague entries or excessive hours billed. Krekelberg's attorneys later conceded at least a few errors occurred. (Doc. Nos. 754, 761, 762 ¶ 12, 765 ¶ 2.) The Court emphasizes that this litigation was exceptionally long and complicated—overly so, as Magistrate Judge Leung eloquently described—but the length and complexity of this case cannot be blamed on Krekelberg and her counsel alone. Defendants fought this case vigorously, as was their absolute right, and the Court declines to penalize the plaintiff for responding with equal vigor. See, e.g., Ewald v. Royal Norwegian Embassy, Civ. No. 11-2116, 2015 WL 1746375, at *15 (D. *1166 Minn. Apr. 13, 2015) (\"a heavily-litigated case is not typically a one-sided affair\"). However, Krekelberg's numerous revisions and errors were not caused by Defendants, and Defendants carried more than their share of the burden in clarifying billing issues. See, e.g., Orduno, 2017 WL 4354686, at *14 n. 10. The Court deducts $20,532.50 from the starting fee amount for the time spent on its (final) reply brief and supporting documents, bringing the amount down to $1,289,198.25. (Doc. No. 761 at 11.) Additionally, rather than parse out which items in Krekelberg's fee petition relate to which overstaffed or poorly described entry the Court finds that a 25 percent reduction of the lodestar is appropriate, reducing the fee amount to $966,898.69. 1166 The Court agrees with Defendants that the petition contains indications of inefficiencies throughout, but rather than adopt Defendants' approach, finds that an across-the-board reduction is warranted. See, e.g., Werb v. ReliaStar Life Ins. Co., Civ. No. 13-669, 2014 WL 5431585, at *3 (D. Minn. Oct. 27, 2014) (finding that even in a case with an \"especially large\" record, one reason more experienced counsel can command higher pay is because they should be better able to efficiently litigate a case). Issues litigated in this case, such as the method for counting close-in-time accesses and the imposition of direct or vicarious liability on municipalities \"are recurring themes throughout the dozens of DPPA cases filed in this District.\" Orduno, 2017 WL 4354686, at *13. Moreover, the course of these proceedings would have been far different had counsel placed a greater premium on Magistrate Judge Leung and this Court's time. The Court observes that Krekelberg's lawyers often allocated tasks in the most expensive way possible, with more expensive counsel spending significant amounts of time drafting pleadings and researching now-familiar and frequently occurring issues and with attorneys performing administrative and clerical tasks such as proofreading.[9] For these reasons, the Court reduces the lodestar by an additional 25 percent, meaning that the lodestar is reduced from its starting point by 50 percent overall for a total fee award of $644,599.13. This approach sufficiently addresses the Hensley factors without further downward adjustment of fees. Based on the Court's careful review of the record, its familiarity with the work of the attorneys, and its experience and knowledge of the local legal market, this amount reasonably compensates Krekelberg's attorneys for the results obtained. B. Costs Krekelberg also seeks costs in the amount of $47,086.36 for expenses such as transcripts, depositions, and filing fees. These amounts are reasonable and supported by the record, and the Court awards the full amount requested. III. Krekelberg's Motion for Equitable Relief Krekelberg moves for an order to amend the Judgment to include the following equitable relief: (1) revisions to MPD Policy No. 4-501, (2) the creation of an *1167 employee directory for MPD, (3) completion of MyBCA online training within three months by those MPD accessors of Krekelberg's information who are still employed by the MPD, (4) for MPD to mandate that new employees with access to state databases of personal information complete a special training session on proper use, (5) a review and report to the MPD Chief of Police of MPD's IA processes and policies with respect to complaints of 1167 4/11/2021 KREKELBERG v. Anoka County, 439 F. Supp. 3d 1143 - Dist. Court, Minnesota 2020 - Google Scholar https://scholar.google.com/scholar_case?case=7438648191156000884&hl=en&as_sdt=6&as_vis=1&oi=scholarr 11/14 inappropriate use of driver information databases and the historical impact on female complainants, and (6) implementation of a Peer Intervention Program. (Doc. No. 722.) In response, Minneapolis agrees to the first three requests, but in turn requests that the Court make a finding that all sworn officers \"reasonably require access\" to photographs of their fellow employees and that Krekelberg also be ordered to complete the requested training. (Doc. No. 733 at 1-2.) As for Krekelberg's remaining requests, Defendants argue that the plaintiff cannot meet her burden to demonstrate that she lacks access to adequate legal remedies or that there is any evidence of any likelihood of future harm. (Id. at 3, 5.) In particular, Defendants aver that 90 percent of instances of misuse of the DVS system took place before 2011 and point to an Administrative Announcement issued in 2013 that they argue further reduced instances of misuse. (Id. at 6, 8.) Rather incredibly, contrary to the verdict, Defendants further claim that Minneapolis and the State of Minnesota \"took various actions to curtail misuse of the DVS system beginning in March 2011\" and that \"[n]othing in the record suggests that these efforts have not been successful.\"[10] (Id. at 2.) Finally, Defendants dismiss the notion of peer intervention training, arguing that there is no reliable evidence showing its effectiveness, and further, condemning Krekelberg's expert witness on the topic of police misconduct as \"a bad cop and an admitted criminal\" who only took responsibility for his own misconduct once [he] could start monetizing his crimes,\" admonishing the Court that \"it borders on a disgrace for him to have the Court's imprimatur as an expert witness.\" (Id. at 14-15.) The DPPA provides that a court may award as a remedy \"such other preliminary and equitable relief as the court determines to be appropriate.\" 18 U.S.C. § 2724(b)(4). The Court finds that the damages awarded by the jury do not fully address the harms established at trial and the potential for ongoing harm and grants additional equitable remedies as explained below. A. Requests for equitable relief 1 through 3 The Court grants the first three forms of equitable relief requested. Specifically, as to the first request, the MPD shall amend its Policy No. 4-501 to include language advising employees that they shall only access DVS records for official business purposes. As to the second request, the Court finds that sworn officers of the MPD reasonably require access to an internal directory of their fellow officers which includes identification photographs. Notably, no party has argued against it, and the Court is persuaded that it will aid in the prevention of future abuses of private information systems without any drawbacks. Organizations, both public *1168 and private and of every size and type, manage to provide such directories for their employees' use, often on an intranet or by other protected means. Although testimony offered at trial countered the notion that abuse of access to DVS databases was necessary to perform law enforcement functions, it did show demand at all levels of the MPD for the ability to use the employee directory presently only available to higher-ranked personnel. Further, as Krekelberg seems to concede that to the extent she fits the criteria described in her request, she is likewise obligated to complete MyBCA training if she has not yet done so. (See Doc. No. 737 at 1-2.) 1168 B. Mandatory special training sessions As to the fourth request, that all employees with access to databases containing motor vehicle records be required to undergo special training sessions, the Court is neither persuaded by Defendants that this is unnecessary nor convinced by Krekelberg that a special training session is needed. To the extent that training specifically instructing Minneapolis employees with access to information protected by the DPPA on permissible use is not now taking place, the Court finds that specific training must take place either as part of a larger program or a separate session and individual employees should be required to affirm their understanding of the restrictions. C. Internal Affairs process and policies Krekelberg requests that the MPD undertake a review of its IA procedures with respect to allegations of DPPA violations and the approach previously used in such investigations, with a special focus on any disparity in the way that complaints of violations of female officers have been addressed, and with a report of this analysis to be presented to the MPD Chief of Police and a Declaration filed with the Court attesting to the completion of this process. (Doc. No. 725 at 29-30.) 4/11/2021 KREKELBERG v. Anoka County, 439 F. Supp. 3d 1143 - Dist. Court, Minnesota 2020 - Google Scholar https://scholar.google.com/scholar_case?case=7438648191156000884&hl=en&as_sdt=6&as_vis=1&oi=scholarr 12/14 The Court is persuaded that the inconsistencies shown in past investigations and described by current investigators warrant review. The Defendants, in consultation with Krekelberg, shall submit an agreement as to the scope and nature of a review and report. Absent an agreement between the parties, each party must submit a short memorandum, up to five pages in length, describing their recommendation to the Court. D. Peer Intervention Training Finally, Krekelberg requests that the Court require Minneapolis to develop and implement a peer intervention program to address deficiencies in internal discipline at the MPD. (Doc. No. 725 at 30.) Krekelberg asserts that \"[t]his has been done in other police departments in the country with laudable success.\" (Id. at 32.) The Court finds that through evidence at trial and pleadings submitted, Krekelberg failed to define or describe the training she requests, much less establish its value to the members of this community moving forward. This statement should not be construed as a finding that such programs are lacking merit or that MPD officers are not in need of additional and different training; the unprecedented lack of cooperation from many of the people involved throughout these proceedings and the evidence at trial leave the Court with the impression that there is significant room for improvement in the training and discipline at the MPD. Further, Defendants' general criticism of Mr. Quinn's qualifications is without merit—very often, it takes someone with a personal history of wrongdoing to explain the circumstances *1169 of such actions to a trier of fact, and testimony from such a person should not be dismissed out of hand. However, the Court simply does not have enough information about the type of training requested or what benefits it would provide to impose it upon Minneapolis. Consequently, Krekelberg's request is denied. 1169 IV. Krekelberg's Motion for Pre- and Post-Judgment Interest The Court observes that Krekelberg's motion is untimely and inappropriately brought under Federal Rule of Civil Procedure 60(b), which provides that a court may relieve a party from a final judgment or order for the following reasons: (1) Mistake, inadvertence, surprise, or excusable neglect; (2) Newly discovered evidence that, with reasonable diligence, could not have been discovered in time to move for a new trial under Rule 59(b); (3) Fraud (whether previously called intrinsic or extrinsic), misrepresentation, or misconduct by an opposing party; (4) The judgment is void; (5) The judgment has been satisfied, released, or discharged; it is based on an earlier judgment that has been reversed or vacated; or applying it prospectively is no longer equitable; or (6) Any other reason that justifies relief. Fed. R. Civ. P. 60(b)(1-6). \"A motion under Rule 60(b) must be made within a reasonable time.\" Fed. R. Civ. P. 60(c). Prejudgment interest is generally awarded \"when the amount is reasonably ascertainable and to make the claimant whole because he or she has been denied the use of the money.\" Winter v. Cerro Gordo Cty. Conservation Bd., 925 F.2d 1069, 1073 (8th Cir. 1991). Pre-judgment interest is intended to compensate prevailing parties for the true costs of money damages incurred and to promote settlement and deter delay where liability and the amount of damages are \"fairly certain.\" Stroh Container Co. v. Delphi Indus., Inc., 783 F.2d 743, 752 (8th Cir. 1986). Pre-judgment interest \"should ordinarily be granted unless exceptional or unusual circumstances exist making the award of interest inequitable.\" Id. The Court finds that this case is unusual in that the key issues of liability and the magnitude of a potential award was strongly contested for years. While the Court recognizes the value that pre-judgment interest would have in deterring delay and finds this to be a close call, additional equitable relief in this form is not warranted. The issue of equitable relief was previously briefed and argued on the schedule agreed to by the parties, no error had occurred in entry of the judgment, and Krekelberg has not persuaded the Court that such relief is justified in light of the substantial damages awarded to remedy harm that was not related to a financial loss. Krekelberg also requests that the Court amend its order to include post-judgment interest. Defendants do not dispute that this is appropriate. Accordingly, the Court will amend its order to include post-judgment interest. 4/11/2021 KREKELBERG v. Anoka County, 439 F. Supp. 3d 1143 - Dist. Court, Minnesota 2020 - Google Scholar https://scholar.google.com/scholar_case?case=7438648191156000884&hl=en&as_sdt=6&as_vis=1&oi=scholarr 13/14 The parties dispute the appropriate rate to apply. Krekelberg argues that the \"closest analogy\" to the claim on which she prevailed would be 42 U.S.C. § 1983 and that courts have applied state law to § 1983 cases. (Doc. No. 775 at 4, 2.) Where the cause of action arises from a federal statute, the question of whether interest is to be allowed and the rate of computation is one of federal *1170 law. Mansker v. TMG Life Ins. Co., 54 F.3d 1322, 1330 (8th Cir. 1995). The proper measure for determining rates of both pre- and post-judgment interest is found in 28 U.S.C. § 1961. Mansker, 54 F.3d at 1331. \"Interest shall be allowed on any money judgment in a civil case recovered in a district court,\" and shall be calculated \"at a rate equal to the weekly average 1-year constant maturity Treasury yield, as published by the Board of Governors of the Federal Reserve System, for the calendar week preceding\" and the interest \"shall be compounded annually.\" 28 U.S.C. § 1961(a-b). The Court grants post-judgment interest on the award in this case to be calculated in accordance with 28 U.S.C. § 1961. 1170 V. Liquidated damages The text of the DPPA neither requires nor forecloses per violation awards. Ela v. Destefano, 869 F.3d 1198, 1201 (11th Cir. 2017); Pichler, 542 F.3d at 398. The liquidated damages provision of the DPPA serves as an actual-damages \"floor\" of $2,500, included in recognition of the fact that emotional injuries would often result from DPPA violations but would be difficult to quantify. Potocnik at *11. Liquidated damages are a substitute for actual damages. Orduno, 2017 WL 4354686, at *14. Other courts in this District have construed the language of the DPPA to set a floor of $2,500 per violation in certain circumstances. See, e.g., Id., at *10; Kerr Karasov v. Caplan Law Firm, P.A., Civ. No. 14-1503, 2016 WL 6836930, at *14 (D. Minn. Nov. 18, 2016). The Court finds that under the circumstances here, Krekelberg is fairly compensated by the amount awarded by the jury and the Court's decision to award attorneys' fees and costs. However, in the event that no actual damages had been awarded, or if the actual damages amount is reduced on appeal, the Court finds that a cumulative award of $2,500 for each of the 74 violations would be appropriate in order to fairly compensate and deter repeated violations. CONCLUSION The jury \"represents the conscience of the community.\" Garcia v. City of Trenton, 348 F.3d 726, 729 (8th Cir. 2003). There is every reason to conclude that the jury intended its verdict as a sharp rebuke to two individual officers who seem to think that they, and only they—not their supervisors, not department policies, not state or federal legislators nor courts at any level— decide what they are permitted to do with their access to the personal information of people in their community and throughout the state. It is equally likely that the verdict was intended as a strong message to the city government that was unwilling or unable to rein in these officers. The magnitude of the damages awarded reflects the seriousness of the unacceptable conduct in question. By now taking even stronger corrective action, the MPD has an opportunity to show that this unfortunate episode, involving a relative few individual officers, will not be repeated in the future and does not reflect the professionalism of the majority of Minneapolis' law enforcement officers. The MPD can set an example for other departments, and in so doing, can serve the public interest and the interests of justice. ORDER Based upon the foregoing, and on all the files, records, and proceedings herein, IT IS HEREBY ORDERED that: 1. Plaintiff Amy Elizabeth Krekelberg's Request for Attorneys' Fees (Doc. Nos. [715], [746]) is GRANTED in part. The Court awards Plaintiff $644,599.13 in attorneys' fees and $47,086.36 in costs. 2. Defendants Minneapolis, Heather Young, and Matthew Olson's Motions for *1171 Judgment as a Matter of Law, for a New Trial, to Alter/Amend/Correct Judgment, and to Stay (Doc. Nos. [720]), [721]) are GRANTED in part and DENIED in part. The verdict shall remain as entered. Judgment is stayed without a requirement of bond pending the outcome of Defendants' appeal. 1171 3. Plaintiff's Motion for Equitable Relief (Doc. No. [722]) is GRANTED in part. a. Plaintiff's Requests Nos. 1-4 are GRANTED as described in the Opinion Memorandum. 4/11/2021 KREKELBERG v. Anoka County, 439 F. Supp. 3d 1143 - Dist. Court, Minnesota 2020 - Google Scholar https://scholar.google.com/scholar_case?case=7438648191156000884&hl=en&as_sdt=6&as_vis=1&oi=scholarr 14/14 b. Plaintiff's Request No. 5 is GRANTED. The parties shall submit a joint proposal outlining the scope and nature of the review and report within thirty (30) days of this Order. Absent an agreement between the parties, each party shall submit its own recommendation for the Court's consideration in a memorandum up to five pages in length, no later than thirty (30) days from the issuance of this Order. c. Plaintiff's Request No. 6 is respectfully DENIED. 4. Plaintiff's Motion for Relief from Judgment to Add Pre-Judgment and Post-Judgment Interest (Doc. No. [767]) is GRANTED in part and DENIED in part. Post-judgment interest in awarded, to be calculated and accrue in accordance with 28 U.S.C. § 1961. 5. The Court declines to award liquidated damages. LET JUDGMENT BE ENTERED ACCORDINGLY. [1] Oral arguments on these and other motions were held outside the presence of the jury. [2] Before the jury began deliberations, the Court instructed: \"Now, the Court has determined that, as a matter of law, accessing DVS records for non-law-enforcement purposes is a violation of the DPPA. For the purpose of this case ... any access by a Minneapolis law enforcement officer that was not related to a legitimate government function or official business was impermissible. Additionally, you have heard the parties discuss federal and state law and police department policy. The Court has also determined that, as a matter of law, any access of DVS records that violates any applicable [MPD] policy, state law, or regulation cannot be carrying out a function of that agency, therefore, is for an impermissible purpose.\" (Doc. No. 709 (\"Trial Tr. Vol. 8\") at 1610; see also Doc. No. 682 (\"Jury Instr.\") at 9.) [3] As one court astutely observed, \"anyone could claim that he did not `know' his purpose to be impermissible until a court interpreted the DPPA to proscribe that purpose. Even after such a ruling, a defendant could manufacture a slightly different purpose for his conduct and then claim ignorance of whether the DPPA prohibited the new purpose.\" Pichler v. UNITE, 228 F.R.D. 230, 242 (E.D. Pa. 2005), aff'd, 542 F.3d 380 (3d Cir. 2008). The court concluded that it would be a \"strange result\" out of line with Congressional intent if a plaintiff \"could recover only if the defendant repeatedly violated her privacy and lacked sufficient creativity to conjure up some conceivable purpose that no court had yet considered.\" Pichler, 228 F.R.D. at 242. [4] Defendants maintain that this holding is erroneous but acknowledge that the Eighth Circuit found to the contrary in its Orduno opinion. (Doc. No. 734 at 36 (citing Orduno v. Pietrzak, 932 F.3d 710, 718 (8th Cir. 2019)).) [5] Fed. R. Civ. P. 62(b) carries forward the supersedeas bond provision of former Ruled 62(d) in modified form, making the opportunity to post security in a form other than a bond explicit. Fed. R. Civ. P. 62 (2018 Amendments). [6] The Court notes that Minneapolis provided an affidavit from its Chief Financial Officer attesting to its \"high\" and \"stable\" credit ratings and detailed information on the city's operating budget, including its contingency and self-insurance funds. (Doc. No. 735.) [7] The Court accepts the claims of Krekelberg's attorneys without agreeing that all hours spent were necessary or reasonably taxed to the opposing parties. [8] The attorneys' rates are reasonably adjusted in accordance with their years of experience, which range from four to over 35. (Doc. No. 751 ¶ 37.) [9] Notably, the documentation offered in support of the fee petition contains quite a few glaring errors in punctuation and spelling that reflect carelessness on the part of the preparer(s), such as listing time spent \"proof reading\" [sic] and submitting a redlined version of an affidavit. (Doc. Nos. 750 ¶ 13, 751 generally.) These oversights are minor, to be sure, and the Court typically does not hold unimportant typos against a party before it. However, in this instance, these mistakes undermine Krekelberg's claim that hours of scrutiny by multiple experienced attorneys were needed to produce these documents. [10] The Court notes Defendants' careful avoidance in their memorandum of any claim that misuse has been eliminated completely but finds that, in light of the ample evidence presented to show that misuse continued throughout at least 2012, Defendants' statements stretch the definition of \"successful.\" Save trees - read court opinions online on Google Scholar.\n",
      "\n",
      "7: 4/12/2021 Minnesota BCA releases more information about Brooklyn Center police shooting - StarTribune.com https://www.startribune.com/bca-releases-more-information-about-brooklyn-center-police-shooting/559525032/ 1/2 ___ NORTH METRO Minnesota BCA releases more information about Brooklyn Center police shooting The 21-year-old man who was killed could not be subdued with Tasers, the agency said.  By STAFF REPORTS  SEPTEMBER 5, 2019 — 9:11PM The 21-year-old man fatally shot by police Saturday in Brooklyn Center had threatened officers with a knife and could not be subdued with Tasers, the Minnesota Bureau of Criminal Apprehension said Thursday. Kobe Edgar Dimock-Heisler, who lived with his grandparents in the 5900 block of N. Halifax Avenue, died after being shot several times inside the home just after 4 p.m. Saturday. The BCA identified the three officers who discharged their weapons as: • Brandon Akers, who has been with the Brooklyn Center department for eight years. He discharged his Taser and his firearm. • Cody Turner, who has been with the department for 10 years, discharged his Taser and his firearm. • Steven Holt, who has been with the department for five years, discharged his Taser. All three are on standard administrative leave. According to the BCA, four police officers went to the residence after a 911 call from a family member about a domestic dispute involving a man armed with a hammer and a knife. At the scene, they tried without success to physically control Dimock-Heisler, and eventually Holt and Turner fired their Tasers at him. Dimock-Heisler remained combative and produced a knife, the BCA said. Akers and Turner then shot him. Crime-scene investigators found a knife next to Dimock-Heisler's body, the BCA said. All four officers inside the home were wearing body cameras, which captured video of the incident. Once its investigation is complete, the BCA will present its findings to the Hennepin County Attorney's Office for consideration of possible charges. Dimock-Heisler's family has said that he was on the autism spectrum. And according to a mental health order, he had a history of threatening suicide and suffered from severe depression that had led to him stabbing himself in the abdomen, according to a mental health court order that also warned five months ago that he was at risk of causing physical violence. On March 25, Dimock-Heisler was ordered by a Hennepin County court referee to be committed as mentally ill to North Memorial Health Hospital in Robbinsdale, two weeks after his admission there for a self-inflicted stab wound. He hurt himself after clashing with his father, a court filing revealed. He also was hospitalized in Minneapolis for several days in January after threatening suicide and running to a bridge. Dimock-Heisler suffers from a \"substantial psychiatric disorder … which grossly impairs his judgment, behavior, capacity to recognize reality and ability to reason or understand,\" the order stated. \"As a consequence, [Dimock-Heisler] poses a substantial likelihood of causing physical harm.\" Kobe Dimock Heisler 4/12/2021 Minnesota BCA releases more information about Brooklyn Center police shooting - StarTribune.com https://www.startribune.com/bca-releases-more-information-about-brooklyn-center-police-shooting/559525032/ 2/2 The voluntary commitment to North Memorial for mental health treatment was to last for up to six months but was stayed by the court under several conditions, including that he not harm himself or others. He remained in the hospital's psychiatric ward for three weeks before moving in with his grandparents, said Jason Heisler, Dimock-Heisler's father. In his published obituary (http://m.startribune.com/obituaries/detail/0000325850/? fullname=kobe-edgar-dimock-heisler) , his family focused on Dimock-Heisler's happier qualities, describing him as \"extremely kindhearted and generous … loved and adored by everyone who knew him.\" \"An avid horticulturalist, Kobe began cultivating and propagating lilies at the age of 4,\" his family wrote. \"He cross-pollinated two lily strains and created a new one. He cared for his succulents and other plants, often grafting, rooting, and propagating new plants. … He was a parade tricyclist, often riding his unique bike in public parades like Mayday or community events like Open Streets. He also enjoyed bicycle camping, twice riding with his father on the North Shore on a bike trip to Canada. Kobe, a professionally trained chef, enjoyed feeding people and making great meals for family. He also created and sewed stuffed animals that he shared with the children he knew.\" Services for Dimock-Heisler will be held at 4 p.m. Saturday at Estes Funeral Chapel in Minneapolis. On Sunday afternoon, a bike ride will be held in his honor. Staff writers Paul Walsh and Pamela Miller contributed to this report.\n",
      "\n",
      "8: UNITED STATES DISTRICT COURT DISTRICT OF MINNESOTA THIRD DIVISION UNITED STATES OF AMERICA, Criminal No. 07-365 ADM/AJB Plaintiff, v. REPORT AND RECOMMENDATION LAMARR MERRELL WADE, Defendant. Erica Mozangue, Esq., Assistant United States Attorney, for the plaintiff, United States of America; Andrea George, Esq., Assistant Federal Defender, and Paul J. Edlund, Esq., for the defendant, Lamarr Merrell Wade. This action came on for hearing before the Court, Magistrate Judge Arthur J. Boylan, on November 9, 2007, at the U.S. Courthouse, 300 South Fourth St., Minneapolis, MN 55415.  The magistrate judge issued an Order on Motions dated November 14, 2007, reserving defendant’s motions to suppress statements and identification evidence for submission to the district court by Report and Recommendation.   Based upon the file and documents contained therein, along with testimony and exhibits received at hearing, and the memorandum arguments of counsel, the magistrate judge makes the following: Findings Minneapolis Police Officers Matthew Alberts and Jason Anderson were dispatched to CASE 0:07-cr-00365-ADM-AJB   Document 39   Filed 12/19/07   Page 1 of 6 2 the area of 1415 Upton Ave. No. at approximately 1:00 a.m. on June 17, 2007, upon report of a robbery.  The officers were on patrol, and within five minutes of the report they met with the victim, Mr. Sanchez, at his home, approximately three blocks from the location of the robbery.  The victim described the robbers as being two black males who confronted him near the intersection of 14th and Sheraton as he was walking home.  Both robbers displayed handguns.  The victim further described one of the individuals as being five-foot-nine-inches to six-feet in height, wearing a white tank top and blue jean shorts.   The second person was described as five-foot-six to five-foot-eight, wearing a white shirt and white shorts.  The taller man had a silver revolver and the other man had a black semi- automatic handgun.  The robbers’ faces were not covered.  The taller individual told the victim to give them his money or he would shoot him, whereupon the victim gave up his wallet containing approximately $100 and a Minnesota identification card.  The victim’s cell phone was also taken.  The robbery occurred a few minutes before 1:00 a.m. and the perpetrators left the area on foot, heading north on Upton.  The victim did not report any particular details regarding the robbers’ hair, visible tattoos or scars, age, jewelry or skin shade.  He was upset and shaking during the five to ten minute interview, but he had no difficulty communicating with officers.   The officers thereafter proceeded to patrol the neighborhood in search of suspects, and at about 1:30 a.m., near 23rd Ave. and Queen Ave. No., approximately 12 blocks from the location of the robbery, they observed two males whose clothing and height descriptions corresponded to the descriptions provided by the victim.  The individuals were walking on the sidewalk on the west side of the street.  Officer Anderson pulled their squad car alongside the two individuals and Anderson told them to stop.  One of the persons, defendant Lamarr Wade, immediately ran away and both officers CASE 0:07-cr-00365-ADM-AJB   Document 39   Filed 12/19/07   Page 2 of 6 3 got out of the squad car and took chase.  The suspect was caught after a three-to-four minute pursuit.  He was placed in handcuffs behind the back and was brought back to the squad car.  Meanwhile, the second suspect had left the scene and was not apprehended.   Minneapolis Police Officer William Gregory was on patrol in the immediate area of the pertinent events and at 1:35 a.m. on June 17, 2007, he was advised by radio dispatch to go to the victim’s residence to pick him up and transport him to the suspect’s location near 21st and Russell Ave. No. for an identification show up.  Officer Gregory arrived at the residence within a minute of the call.  The officer met the victim and advised him that a person had been detained.  The victim agreed to go with the officer in his squad car.  There were already two squad cars at the scene at 21st and Russell Ave., one of which was parked facing northbound in the middle of the street.  As Officer Gregory approached he drove towards the squad car parked in the street and stopped in such a way that the police vehicles were facing one another, front to front, approximately 50 feet apart.  Officer Gregory kept his headlights on and also activated two spotlights.  The victim remained in the back seat of Gregory’s vehicle as the handcuffed suspect was removed from the other squad car by Officer Alberts and Officer Anderson and was brought to the front of that vehicle to be observed by the victim.  Officer Gregory then asked the victim if he could see the person, to which the victim immediately responded, “yes, that’s the person for sure.”  Gregory then gave a thumbs up signal to advise other officers that a positive identification had been made, and the suspect was placed back in a squad car.  The identification process lasted less than one minute.  Officer Alberts subsequently came and spoke to the victim and showed him a black Motorola cell phone and an earpiece which the suspect had thrown aside when he first ran from police.  The victim identified the phone and earpiece as his.  Officer CASE 0:07-cr-00365-ADM-AJB   Document 39   Filed 12/19/07   Page 3 of 6 4 Gregory brought the victim home without further comment other than to say thanks. Interview Statements.  On the morning of June 18, 2007, Sgt. Frederick McDonald, assigned to the Minneapolis Police Department robbery unit, met with defendant Lamarr Wade for purposes of conducting an interview prior to a court appearance scheduled for Mr. Wade later that morning.  Sgt. McDonald met with the defendant in an interview room within the secured holding area of the Minneapolis public safety building and no other persons were present in the room.  The interview was digitally recorded from the onset (Hearing Exh. No. 2).  The officer initially identified himself and confirmed the defendant’s identity, and he thereafter read the Miranda advisory to the defendant from a pre-printed form (Hearing Exh. No. 1).  Mr. Wade expressly indicated that he understood each of his rights and that he was willing to talk with the officer.  The defendant initialed and dated the written rights form after reviewing it.  Sgt. McDonald was dressed in plain clothes and was not carrying a firearm.  The defendant was not handcuffed.  No promises or threats were made to induce the defendant’s cooperation.  The defendant did not make any complaints of injury or pain during the course of the interview, and he did not request that the interview cease prior to the time it ended.    Based upon the foregoing Findings, the Magistrate Judge makes the following: Conclusions Show-up.  Suppression of identification evidence obtained in a show-up procedure whereby the robbery victim personally viewed the defendant near the scene of his apprehension and positively identified the defendant as a person who had robbed the victim at gunpoint is not required.  Defendant correctly asserts that the show-up procedure in this instance was overly suggestive under circumstances whereby the victim viewed only a single suspect who was in handcuffs and being CASE 0:07-cr-00365-ADM-AJB   Document 39   Filed 12/19/07   Page 4 of 6 5 escorted by two officers.  Clark v. Caspari, 274 F.3d 507, 511 (8th Cir. 2001).  Nonetheless, the court concludes that the show-up identification was reliable, and therefore admissible, because under the totality of circumstances the show-up did not create a substantial likelihood of irreparable misidentification where the victim had had opportunity to view the suspect from a close distance at the time of the crime; the victim had given officers descriptions of the height and clothing worn by each of two robbers, indicating that significant attention had been given to identifying factors; the victim was able to view the suspect within an hour after the initial contact and with adequate lighting; the suspect’s dress and appearance was consistent with the initial report; and the victim was absolutely certain that the suspect was the person who had robbed him.  Id at 511-12.  The court finds that suppression of pretrial identification evidence in not constitutionally required and further finds that preclusion of any in- court identification of the defendant by the victim is not warranted under the totality of circumstances presented here. Statements.  Defendant Lamarr Merrell Wade’s interview statements on June 18, 2007, were not obtained in violation of his constitutional rights and suppression of such statements is not required.  Defendant’s custodial statements to Sgt. McDonald were made knowingly, intelligently, and voluntarily.  Defendant was properly advised of his rights as an accused person; no threats or promises were made to induce defendant’s cooperation; and there was no request for the assistance of an attorney.  Though defendant was in custody, he was not subjected to coercion and his statements were not the fruit of an unlawful arrest.  United States v. Robinson, 20 F.3d 320, 322-23 (8th Cir. 1994). There is no basis for suppression of defendant’s interview statements.  Based upon the foregoing Findings and Conclusions, the Magistrate Judge makes the CASE 0:07-cr-00365-ADM-AJB   Document 39   Filed 12/19/07   Page 5 of 6 6 following: RECOMMENDATION The Court hereby recommends that: 1.  Defendant Lamarr Merrell Wade’s Motion to Suppress Eyewitness Identifications be denied [Docket No. 18]; and 2.  Defendant Lamarr Merrell Wade’s Motion to Suppress Statements, Admissions and Answers be denied [Docket No. 24]. Dated:     December 19, 2007           s/ Arthur J. Boylan                                         Arthur J. Boylan United States Magistrate Judge Pursuant to Local Rule 72.1(c)(2), any party may object to this Report and Recommendation by filing with the Clerk of Court, and by serving upon all parties, written objections which specifically identify the portions of the Report to which objections are made and the bases for each objection.  This Report and Recommendation does not constitute an order or judgment from the District Court and it is therefore not directly appealable to the Circuit Court of Appeals.  Written objections must be filed with the Court before January 3, 2008. Unless the parties stipulate that the District Court is not required by 28 U.S.C. § 636 to review a transcript of the hearing in order to resolve all objections made to this Report and Recommendation, the party making the objections shall timely order and file a complete transcript of the hearing within ten days of receipt of the Report. CASE 0:07-cr-00365-ADM-AJB   Document 39   Filed 12/19/07   Page 6 of 6\n",
      "\n",
      "9: PRISONLEGALNEWS.ORG ›  Annotations   $೔ೌ,ೌೌೌ Minnesota Illegal Search & Seizure Verdict Upheld; Attorney Fees Slashed ೑ೌ% MARK WILSON AUGUST ೄೄ, ೅ೃೄ೉ Share on Twitter Share on Facebook Share on G+ Share with email A Minnesota federal court upheld an , jury verdict on illegal search and seizure claims. e court reduced Plaintiﬀs' requested attorney's fees by  percent, for a total fee award of ,.. Just before  a.m., on January , , Champlin, Minnesota police responded to a veterinary hospital burglary. Police used a canine to track the suspect who ﬂed the crime scene. e canine lost the scent but eventually led Sergeant Bill Schmidt and Oﬃcers Roxanne Aﬀeldt and Robert Topp, to the home of Ronald Rosen and June Trnka. Aﬀeldt knocked on the front door but received no response. Schmidt and Aﬀeldt then went to the rear of the home, entered an enclosed porch, and knocked on the interior house door. Receiving no response, the oﬃcers then searched through belongings on the porch and took Rosen's shoes. ey did not leave a receipt or any other indication that they had been there or seized property. \"e same conduct by one not a police oﬃcer would be considered theft,\" the court observed. Police then obtained a search warrant for Rosen's home, on the basis of their investigation and his shoes. at warrant was not executed until fourteen ✕ days later, on January , . Champlin police detained Rosen for more than an hour while his home was searched. Detective Brian Wentworth questioned Rosen and repeatedly threatened to arrest him or a member of his family. e search ultimately did not reveal any evidence connected with the burglary. About two weeks later, Wentworth concluded after reviewing the reports and evidence that it was \"obvious\" that Rosen's shoes did not match footprints at the scene and Rosen was not involved in the burglary. Wentworth returned his shoes and apologized. Rosen and Trnka brought suit in state court but Defendants removed to federal court. e district court dismissed Plaintiﬀs' state law claims and Defendants Wentworth and Topp from the action. e court held that it would instruct the jury that the warrantless entry into Plaintiﬀs' porch and search of their belongings violated the Fourth Amendment, as a matter of law. e court also concluded that while the search warrant was lawfully issued, the jury could determine whether the January ,  search and detainment was a product of the illegal search, and to what degree, if any, the search should aﬀect the damage award. At the close of Plaintiﬀs' case-in-chief, Defendants moved for judgment as a matter of law, or alternatively, for a mistrial, challenging the court's jury instruction. e motion was denied. Following a three-day trial, the jury returned a verdict for Plaintiﬀs, awarding compensatory damages totaling ,. It also awarded punitive damages of , against Schmidt and , against Aﬀeldt. Following the verdict, Defendants renewed their motion for a directed verdict or new trial. Plaintiﬀs moved for an award of ,. in attorney's fees and ,. in costs, for a total award of ,.. e court denied Defendants' motion, ﬁnding that the knock and talk exception to the Fourth Amendment \"does not apply to the facts in this case.\" e court also rejected Defendants' argument that \"the jury should not have heard evidence regarding the search warrant application and the January ,  search of Plaintiﬀs' home because these events were legal and irrelevant to the original search.\" e court held that \"a reasonable jury could have still concluded that the search warrant application and the January ,  search were the direct and probable consequences of the January ,  entry and search.\" e court also rejected Defendants' challenge to the punitive damage instruction. \"Schmidt made a series of crude personal attacks on Rosen's character, and suggested he intended to pursue Rosen out of anger or personal animosity. Plaintiﬀs also introduced evidence suggesting Defendants pursued their investigation of Rosen in deliberate ignorance of the facts,\" the court found. \"is evidence could allow a reasonable factﬁnder to conclude Defendants recklessly disregarded Plaintiﬀs' constitutional rights. As a result, the question of punitive damages was properly put to the jury.\" e court ﬁnally rejected Defendants' argument that a mistrial was warranted because during closing statements, Plaintiﬀs' counsel \"stated without elaboration that Defendants 'don't pay,'\" implying that they would not suﬀer personal ﬁnancial impact as a result of a verdict against them. Noting that defense counsel argued that \"Defendants should not be required to `ﬁnance' Plaintiﬀs' new American dream,'\" the court found \"these two statements are of comparably prejudicial eﬀect\" and \"the jury received an appropriate curative instruction.\" e denial of a mistrial did not result in a \"miscarriage of justice.\" e court then found that a reduction of Plaintiﬀs' attorney fee request was appropriate because \"counsel have 'over-lawyered' or overbilled their work.\" Ultimately, the court found \"based on a careful review of the billing statements,\" that \"a reduction of  reﬂects a fair billing for the work performed in this case.\" at award \"still signiﬁcantly exceeds the amount of their clients' recover from a generous jury.\" See: Rosen v. Wentworth,  F.Suppd  (D. Minn ). As a digital subscriber to Prison Legal News, you can access full text and downloads for this and other premium content.  Annotations  ·  Report a problem   COPY https://outline.com/fx5nLm HOME · TERMS · PRIVACY · DMCA · CONTACT Outline is a free service for reading and annotating news articles. We remove the clutter so you can analyze and comment on the content. In today’s climate of widespread misinformation, Outline empowers readers to verify the facts.\n",
      "\n"
     ]
    }
   ],
   "source": [
    "for i, t in enumerate(df[\"text\"][:10]):\n",
    "    print(f\"{i}: {t}\\n\")"
   ]
  },
  {
   "cell_type": "code",
   "execution_count": 48,
   "id": "71883985",
   "metadata": {},
   "outputs": [
    {
     "name": "stdout",
     "output_type": "stream",
     "text": [
      "Sentence[6835]: \"2/22/2021 Jenson v. Craft, Civil No. 01-1488(DSD/JMM) | Casetext Search + Citator https://casetext.com/case/jenson-v-craft 1/18 From Casetext: Smarter Legal Research Jenson v. Craft United States District Court, D. Minnesota Jun 18, 2002 Civil No. 01-1488(DSD/JMM) (D. Minn. Jun. 18, 2002) Copy Citation Download Treatment Civil No. 01-1488(DSD/JMM) June 18, 2002 Theodore D. Dooley, Esq. and Dooley Reichert, Minneapolis, MN, and Peter J. Nickitas, Esq., Nickitas Law O:ce, St. Paul, MN, for plainti9. Kenneth W. Sa9old, Esq., J. Sebastian Stewart, Esq. and Blackwell, Igbanugo, Engen Sa9old, Minneapolis, MN, for defendant Dan Craft. Jon K. Iverson, Esq., Jason J. Kuboushek, Esq. and Iverson and Reuvers, Bloomington, MN, for defendants Dean Albers, Randy Mickelson, Patrick Thompson, Bob Dissell, Scott McNurlin, Steven Betcher, Carol Lee and Goodhue County. Jon M. Hopeman, Esq., Eric Reinsche, Esq. and Felhaber, Larson, Fenlon Vogt, Minneapolis, MN, and Jon K. Iverson, Esq., Jason J. Kuboushek, Esq. and Iverson and Reuvers, Bloomington, MN, for defendant David Price. W. Karl Hansen, Assistant Minnesota Attorney General, St. Paul, MN, counsel for defendant Herm Dybevik. Search all cases and statutes... Help Sign In Sign Up Opinion Case details JX 2/22/2021 Jenson v. Craft, Civil No. 01-1488(DSD/JMM) | Casetext Search + Citator https://casetext.com/case/jenson-v-craft 2/18 DAVID S. DOTY, Judge Andrea G. White, Dakota County Attorney, Hastings, MN, for defendant Brad Wayne. Red flags, copy-with-cite, case summaries, annotated statutes and more. Learn more ORDER This matter is before the court on defendants' motions to dismiss pursuant to Federal Rule of Civil Procedure 12(b)(6), or in the alternative, for summary judgment pursuant to Federal Rule of Civil Procedure 56.  Based on a review of the 7le, record, and for the following reasons, the court grants defendants' motions and plainti9's claims are dismissed. 1 1 Defendant Brad Wayne was dismissed from this matter at the hearing unopposed by plainti9. (See also Pl.'s Mem. at 30.) BACKGROUND On June 27, 1995, three-year old Jessica Swanson was reported missing to law enforcement authorities from her home in Goodhue County, Minnesota. In the four years that followed the disappearance of Jessica Swanson, Minnesota law enforcement agencies conducted an extensive investigation into her disappearance and were unable to resolve the circumstances surrounding her disappearance. During the period of 1995 through 1999, law enforcement agencies identi7ed the main suspect as Dale Jenson, the live-in boyfriend of Jessica Swanson's mother and the last person to see her. During the summer of 1999, the Goodhue County Attorney's o:ce and Goodhue County law enforcement agencies concluded that probable cause existed to charge Dale Jenson with the kidnaping of Jessica Swanson as well 2/22/2021 Jenson v. Craft, Civil No. 01-1488(DSD/JMM) | Casetext Search + Citator https://casetext.com/case/jenson-v-craft 3/18 as with the deprivation of parental and custodial rights. The mother of Jessica Swanson, Michelle Swanson, was to be charged with assisting Jenson. At about the same time that the decision was made to charge Dale Jenson, the Goodhue County Sheri9, Dean Albers, informed county attorney Steven Betcher that the sheri9 would seek the assistance of the Federal Bureau of Investigation (\"FBI\") in an attempt to interview Dale Jenson. Dale Jenson had been interviewed in excess of 20 times between 1995 and 1999 by law enforcement o:cers from various agencies within the State of Minnesota. Sheri9 Albers indicated to the county attorney that FBI special agent Daniel Craft was highly experienced in interviewing subjects in similar cases. The Goodhue County Attorney's o:ce had no prior knowledge of, nor did they have any experience in working with Mr. Craft. On August 24, 1999, a meeting was held in the Goodhue County Law Enforcement Center to review with Agent Craft what had happened on the case to that point and the relevant Minnesota law pertaining to criminal suspect interviews.  During the meeting, Agent Craft asked what to do if Jenson requested an attorney. Craft was informed that in previous interviews Jenson had requested an attorney but then revoked the request. It was determined that should Jenson again request an attorney, Craft should ignore the request since it was likely that Jenson would revoke the request. 2 2 Present at this meeting were Goodhue County Sheri9 Dean Albers, Randy Mickelson, Patrick Thompson, Bob Dissell and Scott McNurlin, all of the Goodhue County Sheri9's Department, David Price of the Rochester o:ce of the FBI, Herm Dybezick of the Minnesota Bureau of Criminal Apprehension, and FBI Agent Daniel Craft. Goodhue County Attorney Steven Betcher and Assistant County Attorney Carol Lee also came to the meeting after it had commenced but where not present for all portions of the meeting. On August 25, 1999, Dale Jenson was asked to come to the Dakota County Law Enforcement Center in Hastings, Minnesota to meet with the law enforcement o:cers. Jenson was living in Hastings at that time and he complied with the request. FBI Agent Craft then conducted an interview with Dale Jenson that lasted approximately three hours and ten minutes. The interview was both videotaped and audiotaped. At the beginning of the 2/22/2021 Jenson v. Craft, Civil No. 01-1488(DSD/JMM) | Casetext Search + Citator https://casetext.com/case/jenson-v-craft 4/18 interview, Jenson was only told part of the Miranda warning. He was not informed that if he could not a9ord an attorney one would be appointed for him before any questioning and that at any time during the questioning he could exercise the protections provided by the Miranda warning. He was also not asked if he speci7cally waived his Miranda rights. During the interview, Dale Jenson talked about the need for an attorney and at one point said, \"I want an attorney.\" The interview continued without Jenson talking to a lawyer. Jenson subsequently confessed that he had accidentally killed Jessica and hid her body. That same day, he led law enforcement o:cers to where he had hidden her body. On August 26, 1999, Dale Jenson was arraigned on a felony complaint. Mary D. Wing7eld, Assistant District Public Defender, was appointed to represent Jenson. The state provided Jenson and his counsel complete copies of the interview tapes along with other discovery materials. On September 17, 1999, at a pretrial hearing before the Honorable Richard C. Perkins, Ms. Wing7eld, counsel for Jenson, informed the court that Jenson wished to waive the omnibus hearing and intended to plead guilty to manslaughter in the second degree. At the plea and sentencing hearing on September 24, 1999, before the Honorable Richard C. Perkins, the Goodhue County Attorney Steven Betcher and First Assistant County Attorney Carol Lee appeared on behalf of the state and Mary Wing7eld and Anthony Ho, another assistant district public defender, appeared on behalf of Jenson. Scott Swanson from the state public defender's o:ce also appeared. Jenson entered a plea of guilty to one count of manslaughter in the second degree with the charges of kidnaping and deprivation of parental rights being dismissed as a condition of the entry of guilt on the manslaughter charge. When directly questioned by the court, the defendant admitted that he understood the charge and entered a plea of guilty to manslaughter in the second degree. Upon further questioning by the court and by Ms. Wing7eld, the factual basis for the manslaughter guilty plea was placed on the record. Jenson further stated that his attorney had adequately represented his interests and that he had no further questions regarding the proceeding. 2/22/2021 Jenson v. Craft, Civil No. 01-1488(DSD/JMM) | Casetext Search + Citator https://casetext.com/case/jenson-v-craft 5/18 Subsequent questioning placed a knowing waiver of defendant's right to an omnibus hearing on the record, at which time the issue of probable cause and the confession could be raised. The record clearly re8ects that both the defendant and his attorney knew of the constitutional issues that could have been raised at an evidentiary hearing and that a hearing might have determined that the FBI agent had violated Jenson's Fifth and Sixth Amendment rights in light of the way that the interview was conducted. Jenson expressly waived his right to contest these constitutional issues. Jenson did not appeal his guilty plea to the Minnesota Court of Appeals or the Minnesota Supreme Court. Jenson has now 7led suit pursuant to 42 U.S.C. § 1983 and Bivens v. Six Unnamed Agents, 403 U.S. 388 (1971), alleging that all of the named defendants, in their individual and o:cial capacities, violated: (1) plainti9's constitutional rights under the Fifth, Sixth and Fourteenth Amendments to the United States Constitution ; (2) plainti9's rights under Article I, Section 6, 7 and 8 of the Minnesota Constitution; and (3) plainti9's rights pursuant to State v. Scales, 518 N.W.2d 587 (Minn. 1994) and Minn. Stat. § 481.10 (1998). 3 3 Plainti9 brings these claims under 42 U.S.C. § 1983. While plainti9 asserts in his complaint a cause of action for conspiracy under 42 U.S.C. § 1985, he later acknowledges in his memorandum that this was an error and any conspiracy claim should be considered under § 1983. (See Pl.'s Mem. at 28-29 (\"The court should take heed of these paragraphs [pleading conspiracy], and view the conspiracies pleaded at Claims IV and V as conspiracies under sec. 1983, not sec. 1985(3) as mistakenly pleaded.\").) DISCUSSION I. Standard of Review Defendants bring a motion to dismiss the complaint or, in the alternative, for summary judgment. In considering a motion to dismiss under Rule 12(b) (6), the court must accept as true, in a hypothetical sense, all of the factual allegations in a light most favorable to the non-moving party. See Riley v. St. Louis County, Mo., 153 F.3d 627, 630 (8th Cir. 1998). A motion to dismiss for failing to state a claim should be granted if it is beyond doubt that no relief can be granted under any set of facts when the allegations are construed in a light most favorable to the pleader. County of St. Charles v. Missouri Family 2/22/2021 Jenson v. Craft, Civil No. 01-1488(DSD/JMM) | Casetext Search + Citator https://casetext.com/case/jenson-v-craft 6/18 Health Council, 107 F.3d 682, 684 (8th Cir. 1997). Rule 12(b)(6) requires a court to treat a motion to dismiss as a motion for summary judgment under Rule 56 when the parties present matters outside the pleadings that the court does not exclude. Fed.R.Civ.P. 12(b)(6); see also Gibb v. Scott, 958 F.2d 814, 816 (8th Cir. 1992). The parties have submitted a substantial number of documents outside the pleadings for consideration in this matter. While the court determines that defendants are entitled to a Rule 12 dismissal since plainti9 fails to state a viable claim on the pleadings as is discussed in part II of this order, the court also 7nds, alternatively, that when the court considered matters outside of the pleadings in parts III and IV of this order, defendants are also entitled to summary judgment.4 4 In particular, the court reviewed the transcripts of the August 25, 1999, interview and the September 24, 1999 plea and sentencing hearing in state court. Summary judgment is appropriate where there is no genuine issue as to any material fact and the moving party is entitled to judgment as a matter of law. Fed.R.Civ.P. 56(c). The moving party bears the burden of demonstrating to the court that no genuine issue of material fact exists. See Celotex Corp. v. Catrett, 477 U.S. 317, 322-23 (1986). A fact is material only when its resolution a9ects the outcome of the case. See Anderson v. Liberty Lobby, Inc., 477 U.S. 242, 248 (1986). A factual dispute is genuine if the evidence is such that it could cause a reasonable jury to return a verdict for either party. See id. at 250. On a motion for summary judgment, all evidence and inferences are to be viewed in a light most favorable to the nonmoving party. See id. at 255. The nonmoving party, however, may not rest upon mere denials or allegations in the pleadings, but must set forth speci7c facts su:cient to raise a genuine issue for trial. See Celotex, 477 U.S. at 324. Moreover, if a plainti9 cannot support each essential element of its claim, summary judgment must be granted because a complete failure of proof regarding an essential element necessarily renders all other facts immaterial. See id. at 322-23. With these standards at hand, the court considers the defendants' motions. 2/22/2021 Jenson v. Craft, Civil No. 01-1488(DSD/JMM) | Casetext Search + Citator https://casetext.com/case/jenson-v-craft 7/18 II. Plainti9 Presents No Viable Constitutional Law Claims A. No Cause Of Action Under Miranda The essence of plainti9's assertion of a violation of his constitutional rights is his allegation that defendants conspired to violate his Miranda rights during the interrogation on August 25, 1999. Plainti9 speci7cally asserts that defendant Daniel Craft repeatedly ignored his requests for an attorney and continued to question him after he indicated to Craft that he wanted an attorney.5 5 The Miranda rule only applies to statements made during custodial interrogations. Here, defendants assert that plainti9 was not in custody for purposes of Miranda since he voluntarily came to the police station, was interviewed in an unlocked room, was free to leave at any point during his interview, and at one point, even left the interview room unaccompanied to use the restroom. Although the court tends to agree with defendants' assertion since it is not entirely convinced that the facts demonstrate that plainti9 was in custody for purposes of Miranda at the time that he confessed, the court concludes that it need not directly resolve this issue given its 7nding that plainti9's case fails on the other legal bases discussed. Plainti9's § 1983 claim on the basis of this alleged constitutional violation, however, is foreclosed by the controlling law in this circuit. In Warren v. City of Lincoln, 864 F.2d 1436, 1442 (8th Cir. 1989), the Eighth Circuit held that no cause of action arises under § 1983 for a failure to a9ord a detainee his rights under Miranda. Instead, the only remedy for a Miranda violation is the exclusion from evidence of any compelled testimony arising therefrom. See id. Since defendant has no cause of action under the controlling law of this circuit, defendants' motions to dismiss must be granted.6 6 The court also concludes that plainti9 cannot sidestep well-settled Eighth Circuit precedent by restyling this matter as a \"non-Miranda violation case\" under the substantive due process clause of the Fourteenth Amendment. (See Pl.'s Mem at 35, n. 8.) Plainti9's reliance on Ninth Circuit caselaw is misplaced in light of this Circuit's clear ruling in Warren that a plainti9 cannot maintain an action for questioning \"outside\" Miranda. See Warren, 864 F.2d at 1442. Moreover, the undisputed circumstances of this case are factually inapposite to the substantive due process cases that plainti9 2/22/2021 Jenson v. Craft, Civil No. 01-1488(DSD/JMM) | Casetext Search + Citator https://casetext.com/case/jenson-v-craft 8/18 Plainti9 has also brought a claim under the Sixth Amendment right to counsel. The Sixth Amendment right to counsel \"requires the existence of both `criminal prosecution' and an `accused.'\" United States v. Gouveia, 467 U.S. 180, 188 (1984). attempts to rely on. See, e.g., Brown v. Mississippi, 297 U.S. 278 (1936) (confession extracted by beating defendants); Gray v. Spillman, 925 F.2d 90 (4th Cir. 1990) (defendant beaten by police); Wilkins v. May, 872 F.2d 190 (7th Cir. 1989) (confession extracted after police handcu9ed defendant and held gun to his head); Ware v. Reed, 709 F.2d 345 (5th Cir. 1983) (beating during interrogation); Duncan v. Nelson, 466 F.2d 939 (7th Cir. 1972) (suspect kept in solitary con7nement for 18 day before being handcu9ed to chair for 4 hours before confessing). B. No Cause Of Action Under the Sixth Amendment The right \"does not attach until after the initiation of formal charges.\" Moran v. Burbine, 475 U.S. 412, 431 (1986). Thus, a Sixth Amendment right only attaches \"at or after the initiation of adversary judicial criminal proceedings — whether by way of formal charge, preliminary hearing, indictment, information, or arraignment.\" Kirby v. Illinois, 406 U.S. 682, 689 (1972). The mere fact that plainti9 was the focus of a criminal investigation does not cause the right to attach. See United States v. Ingle, 157 F.3d 1147, 1151 (8th Cir. 1998); Warren, 864 F.2d at 1442. Moreover, \"the 7ling of a criminal complaint and the issuance of an arrest warrant do not constitute the initiation of an adverse judicial proceeding for purposes of [the Sixth Amendment right to counsel]\". Von Kahl v. United States, 242 F.3d 783, 789 (8th Cir. 2001) (citation omitted). Here, plainti9 has not pleaded facts, nor can he plead facts, that fall within the ambit of the Sixth Amendment right to counsel. It is undisputed that Jenson voluntarily came to the sheri9's o:ce and that no formal criminal proceeding had been implemented at the time of the interview. The court thus concludes that plainti9's Sixth Amendment right to counsel was not triggered. Accordingly, the court concludes that plainti9's Sixth Amendment claim fails and must be dismissed.7 2/22/2021 Jenson v. Craft, Civil No. 01-1488(DSD/JMM) | Casetext Search + Citator https://casetext.com/case/jenson-v-craft 9/18 Defendants also argue that plainti9 has no cause of action under Bivens v. Six Unnamed Agents, 403 U.S. 388 (1971). Bivens allows federal causes of action for injuries arising from the unconstitutional conduct of law enforcement agents. Bivens, 403 U.S. at 397. Here, plainti9's Bivens claim is predicated upon the alleged violation of his Fifth and Sixth Amendment rights. 7 The court notes that plainti9 appears to concede that his Sixth Amendment claim fails as a matter of law since he acknowledges in his memorandum that he \"does not rest [his opposition to defendants's motions] upon the Sixth Amendment.\" (See Pl.'s Mem. at 28.) Instead, \"Mr. Jenson rests his opposition . . . on the substantive due process clauses of the Fifth and Fourteenth Amendments to the United States Constitution.\" (Id.) C. No Cause Of Action Under Bivens However, since the court 7nds that no violation occurred under either amendment, plainti9's Bivens claim fails. Furthermore, a Bivens cause of action for an alleged constitutional violation will not lie in one of two instances: (1) when the defendant demonstrates \"special factors counseling hesitation in the absence of a:rmative action by Congress;\" and (2) when the defendant shows that \"Congress has provided an alternative remedy which it explicitly declared to be a substitute for recovery directly under the Constitution and viewed as equally e9ective.\" Carlson v. Green, 446 U.S. 14, 18-19 (1980). Defendants assert that since there already exists a remedy to protect those persons allegedly denied their Fifth Amendment Miranda rights, namely, the exclusionary-rule that dictates that any evidence obtained in violation of Miranda will be excluded at trial, there exists no separate Bivens cause of action for the same alleged violation. The court agrees, especially when considering the unambiguous precedent of this Circuit. See Warren, 864 F.2d at 1422 (holding that no constitutional tort action lies for a Miranda violation, rather, exclusionary rule constitutes aggrieved party's remedy). Accordingly, the court concludes that any claim plainti9 asserts under Bivens must be dismissed as a matter of law. 2/22/2021 Jenson v. Craft, Civil No. 01-1488(DSD/JMM) | Casetext Search + Citator https://casetext.com/case/jenson-v-craft 10/18 III. Plainti9's Previous Guilty Plea Precludes Him From Re-litigating the Constitutionality of His Interrogation Notwithstanding the foregoing grounds for dismissal under Rule 12, there is an additional basis for granting defendants summary judgment since plainti9 pleaded guilty to second degree manslaughter in Minnesota state court. Plainti9 did not appeal or challenge that plea. In fact, plainti9 expressly acknowledged and waived the same constitutional claims that he now tries to assert in the present action. During his plea and sentencing hearing on September 24, 1999, plainti9, under oath, engaged in the following allocation with his counsel: Plainti9's Counsel: There are some things that have come up as well, and that is with regard to the taking of your statement, and that's a constitutional issue that would have been heard at a later evidentiary hearing. The issue would have been whether the o:cer violated your Fifth and Sixth Amendment Rights in doing so, I am speaking of the special agent involved from the F.B.I; do you understand that? Jenson: Yes. Plainti9's Counsel: If you were to be successful in that regard, that doesn't mean that your case would be dismissed but, it does mean the evidence they obtained, if the Judge would so rule, would not be used against you, not in the State's case-in-chief, anyway; you understand that? Jenson: Yes. Plainti9's Counsel: Again, by pleading guilty here this afternoon, you will not be able to visit that issue either later or should you subsequently change your mind that you want to have a hearing on that, you are giving up that right? Jensen: Yes. 2/22/2021 Jenson v. Craft, Civil No. 01-1488(DSD/JMM) | Casetext Search + Citator https://casetext.com/case/jenson-v-craft 11/18 (See Transcript of Plea and Sentencing Hearing, Betcher A9., Ex. D at 8-9.) Plainti9 does not deny that he waived these constitutional issues in that hearing. In fact, he speci7cally acknowledges in his complaint that: Subsequent to questioning placed a knowing waiver to defendant's right to an Omnibus hearing on the record, at which time the issue of probable cause and confession could be raised. It is clear from the record that both the defendant and his attorney knew of the constitutional issues that could have been raised at an evidentiary hearing and that an evidentiary hearing might determine that the FBI agent had violated this [sic] 5th and 6th Amendment rights in conducting the interview in the manner it was conducted. (Compl. at 4.) Plainti9's guilty plea in state court must result in a waiver of the claims that he now attempts to raise. See Williams v. Scharo, 93 F.3d 527, 528 (8th Cir. 1996) (guilty plea forecloses subsequent § 1983 action). Under Minnesota law, and the law of the Eighth Circuit, a guilty plea entered by defendant represented by counsel \"operates as a waiver to all non-jurisdictional claims\" including constitutional claims. State of Minnesota v. Lothenbach, 296 N.W.2d 854, 857 (Minn. 1980); United States of America v. Vong, 171 F.3d 648, 654 (8th Cir. 1999). Minnesota's Supreme Court used the United States Supreme Court's words to describe the waiver e9ect of a guilty plea: A guilty plea represents a break in the chain of events which has preceded it in the criminal process. When a criminal defendant had solemnly admitted in open court that he is in fact guilty of the o9ense with which he is charged, he may not therefore raise independent claims relating to the deprivation of constitutional rights that occurred prior to the entry of the guilty plea. Lothenbach, 296 N.W.2d at 857 (quoting Tollet v. Henderson, 411 U.S. 258, 267 (1973)). Moreover, long standing Minnesota law holds that all of plainti9's constitutional law claims fail because he waived them as part of his guilty plea. See State of Minnesota v. Murphy, 545 N.W.2d 909, 918 2/22/2021 Jenson v. Craft, Civil No. 01-1488(DSD/JMM) | Casetext Search + Citator https://casetext.com/case/jenson-v-craft 12/18 (Minn. 1996); State ex rel. Boswell v. Tahash, 278 Minn. 408, 415, 154 N.W.2d 813, 817 (1967). There is no dispute that the interview occurred before Jenson pleaded guilty in court. Plainti9 also acknowledges that when he entered that plea, he knowingly waived his right to challenge the alleged events of which he now complains. (See Compl. at 4.) On this basis, Jenson has waived any challenge to the underlying constitutionality of his interview with Agent Craft, and the court believes that defendants are entitled to summary judgment. IV. Other Bases Preclude Re-Litigation of Claim Arising From Interview Defendants also assert that Jenson is precluded from re-litigating the constitutionality of the August 25, 1999, interview on several other bases: (1) under the Rooker-Feldman Doctrine this court may not review a state court's proceeding that would e9ectively reverse the state court decision; (2) under the doctrine of collateral estoppel plainti9 is barred from re- litigating this matter; and (3) when considering the Supreme Court's decision in Heck v. Humphrey, 512 U.S. 477 (1994), plainti9 is precluded from bringing this type of claim under § 1983. The court agrees with defendants that all of these bases provide further reason why plainti9's case fails. A. Rooker-Feldman Defendants correctly assert that plainti9's claim is barred by Rooker- Feldman. Under the Rooker-Feldman doctrine, federal district courts do not have jurisdiction to review challenges to state court decisions. District of Columbia Court of Appeals v. Feldman, 460 U.S. 462 (1983); Rooker v. Fidelity Trust Co., 263 U.S. 413 (1923). A federal action is precluded \"if the relief requested in the federal action would e9ectively reverse the state court decision or void its rulings.\" Charchenko v. City of Stillwater, 47 F.3d 981, 983 (8th Cir. 1995) (noting that \"the only court with jurisdiction to review decisions of state courts is the United States Supreme Court\"). In applying the Rooker-Feldman doctrine, a court must determine: 2/22/2021 Jenson v. Craft, Civil No. 01-1488(DSD/JMM) | Casetext Search + Citator https://casetext.com/case/jenson-v-craft 13/18 [E]xactly what the state court held and whether the relief requested by [plainti9] in his federal action require determining the state court's decision is wrong or would void its ruling. If the relief requested in the federal action requires determining that the state court decision is wrong or would void the state court's ruling, then the issues are inextricably intertwined and the district court has no subject matter jurisdiction to hear the suit. Id. The Eighth Circuit has further explained: [T]he federal claim is inextricably intertwined with the state court judgment if the federal claim succeeds only to the extent that the state court wrongly decided the issues before it. Where federal relief can only be predicated upon a conviction that the state court is wrong, it is di:cult to conceive the federal proceeding as, in the substance, anything other than a prohibited appeal of the state court judgment. Keene Corp. v. Cass, 908 F.2d 293, 296-297 (8th Cir. 1990) (citing Penzoil Co. v. Texaco, Inc., 481 U.S. 1, 25 (1987)). The issues raised here by Jenson are premised on the claim that he was subjected to a custodial interrogation without access to his legal counsel. Jenson, however, entered into a plea agreement in state court and the court relied upon Jenson's waiver as a part of accepting his guilty plea, the plea agreement and when entering judgment against him. Clearly, plainti9's present federal claims are inextricably intertwined with the state court conviction. In order for Jenson to succeed in the present lawsuit, this court would have to 7nd that plainti9's constitutional rights were violated and that he did not waive in state court his right to challenge the confession arising out of the August 25, 1999, interview. The e9ect of such a 7nding would be to void or invalidate his guilty plea. In other words, in order for this case to proceed, this court would have to reverse the state court and set aside plainti9's plea. This is an action that is prohibited under the Rooker-Feldman doctrine. As a result, the court concludes that plainti9's claims are precluded by the Rooker-Feldman doctrine. 2/22/2021 Jenson v. Craft, Civil No. 01-1488(DSD/JMM) | Casetext Search + Citator https://casetext.com/case/jenson-v-craft 14/18 B. Collateral Estoppel Defendants also correctly assert that plainti9 is barred by collateral estoppel. It is well settled that issues decided in state criminal proceedings may estop subsequent litigation for violations of civil rights under § 1983. See Allen v. McCurry, 449 U.S. 90, 104 (1980); Simmons v. O'Brien, 77 F.3d 1093, 1096 (8th Cir. 1996). Under the full faith and credit statute, 28 U.S.C. § 1738, a federal court generally must a9ord a state court's determination the same preclusive a9ect that it would receive in the state's own courts. Marrese v. Am. Academy of Orthopaedic Surgeons, 470 U.S. 373, 380 (1985); Teleconnect Co. v. Ensrud, 55 F.3d 357, 361 (8th Cir. 1995). Federal courts look 7rst to the law of the state to \"promote comity between state and federal courts that has been recognized as a bulwark of the federal system.\" Allen, 449 U.S. at 96. Because state law applies, the court must examine Minnesota law and determine what preclusive e9ect its courts would give to plainti9's guilty plea and knowing waiver of any constitutional challenges to the August 25, 1999, interview. The standards for invoking collateral estoppel in Minnesota are set forth in Kaiser v. Northern States Power Co., 353 N.W.2d 899, 902 (Minn. 1984): 1. The issue is identical to one in a prior adjudication; 2. There was a 7nal judgment on the merits; 3. The estopped party was a party in privity with a party to the prior adjudication; and 4. The estopped party was given a full and fair opportunity to be heard on the adjudicated issue. After careful review, the court has considered all four factors required for collateral estoppel and determines that all four factors are satis7ed here. Accordingly, plainti9 is barred from relitigating the constitutionality of the interview and his subsequent guilty plea. First, the Miranda issue was addressed in the state criminal proceeding. (See Transcript of Plea Hearing at 8-9.) Clearly, the claims that Jenson now asserts are identical to the ones that he could have raised in state court had 2/22/2021 Jenson v. Craft, Civil No. 01-1488(DSD/JMM) | Casetext Search + Citator https://casetext.com/case/jenson-v-craft 15/18 he not entered a guilty plea. Plainti9 and his attorneys had a full opportunity to challenge the constitutionality of his confession in state court but voluntarily chose to waive such challenge. Second, there was a 7nal judgment on the merits. The state court accepted plainti9's voluntary and counseled guilty plea. Plainti9 was sentenced. Plainti9 did not appeal. Third, the plainti9 was a party to, and the defendants are in privity with, the state court criminal proceeding. Fourth, plainti9 had a full and fair opportunity to challenge the constitutionality of his confession in the criminal proceeding. However, plainti9 chose not to challenge the constitutionality of his interrogation and confession in the state court proceeding, nor did he choose to appeal his voluntary and counseled guilty plea. Therefore, all four elements of collateral estoppel have been satis7ed, and plainti9 should not be allowed to re-litigate the constitutionality of his arrest and interrogation. Defendants are entitled to summary judgment on this basis. C. Heck Doctrine Defendants also correctly assert that plainti9's claims under § 1983 are precluded by the Supreme Court's holding in Heck v. Humphrey, 512 U.S. 477 (1994). In Heck, the Supreme Court held that to recover damages for an unconstitutional conviction or sentence, \"a section 1983 plainti9 must prove that the conviction or sentence has been reversed on appeal, expunged by executive order, [or] declared invalid by a state court or in a federal habeas corpus proceeding.\" Until the conviction or sentence has been overturned, the claim is not cognizable under § 1983. See id. Here, for plainti9 to prevail he would need to negate the confession arising from the FBI interrogation and his subsequent guilty plea. Plainti9 fails to make such a showing. He never directly challenged his guilty plea and the court is not aware of any attempt to obtain habeas relief. As a consequence, the court concludes that Heck provides another basis for precluding plainti9's claims under § 1983 and granting defendants' motions.8 8 The court also notes that while defendants make persuasive arguments regarding the issue of immunity, the court will not address the immunity 2/22/2021 Jenson v. Craft, Civil No. 01-1488(DSD/JMM) | Casetext Search + Citator https://casetext.com/case/jenson-v-craft 16/18 Plainti9 also alleges that defendants violated provisions of the Minnesota State Constitution and various state statutes. Since this court is dismissing all of the federal claims, it concludes that it no longer has jurisdiction over the state law claims and these claims will be dismissed without prejudice. See 28 U.C. §§ 1367(a) and (c)(3); United Mine Workers v. Gibbs, 383 U.S. 715, 726 (1966); Richmond v. Board of Regents of the Univ. of Minnesota, 957 F.2d 595, 598-99 (8th Cir. 1992). For the foregoing reasons, IT IS HEREBY ORDERED that: issue given its determination to dismiss this case on the several bases already discussed. V. Minnesota State Law Claims 9 CONCLUSION 1. Defendants' motions to dismiss, or in the alternative for summary judgment [Docket Nos. 18, 21, 24, 28, 44 and 48], are granted; 2. Plainti9's Claims I, II, III, IV, V, VI of his complaint are dismissed with prejudice; and 3. Plainti9's Claims VII, VIII, IX, X, XI, XII, and XIII of his complaint are dismissed without prejudice. LET JUDGMENT BE ENTERED ACCORDINGLY. Make your practice more effective and ef‰cient with Casetext’s legal research suite. Get a Demo 2/22/2021 Jenson v. Craft, Civil No. 01-1488(DSD/JMM) | Casetext Search + Citator https://casetext.com/case/jenson-v-craft 17/18 Pricing Switch Big ‰rm Coverage SmartCite Public records search Partnerships and Resources Law school access Bar associations About us Jobs Blog Podcast News Twitter Facebook LinkedIn Instagram Help articles Customer support Contact sales Privacy 2/22/2021 Jenson v. Craft, Civil No. 01-1488(DSD/JMM) | Casetext Search + Citator https://casetext.com/case/jenson-v-craft 18/18 Terms © 2020 Casetext Inc. Casetext, Inc. and Casetext are not a law ‰rm and do not provide legal advice.\" → [\"United States District Court, D. Minnesota\"/nk>, \"Minneapolis, MN,\"/nk>, \"Nickitas Law O:\"/nk>, \"St. Paul, MN,\"/nk>, \"Minneapolis, MN,\"/nk>, \"Bloomington, MN,\"/nk>, \"Goodhue County.\"/nk>, \"Minneapolis, MN,\"/nk>, \"Bloomington,\"/nk>, \",\"/nk>, \"Minnesota\"/nk>, \"St. Paul, MN,\"/nk>, \"Hastings, MN,\"/nk>, \"Goodhue County, Minnesota.\"/nk>, \"Minnesota law\"/nk>, \"Goodhue County\"/nk>, \"Goodhue County\"/nk>, \"Goodhue County\"/nk>, \"State of Minnesota\"/nk>, \"Goodhue County\"/nk>, \"Goodhue County Law Enforcement Center\"/nk>, \"Minnesota law\"/nk>, \"Goodhue County\"/nk>, \"Goodhue County\"/nk>, \"Rochester o\"/nk>, \"Minnesota Bureau\"/nk>, \"Goodhue County\"/nk>, \"Dakota County Law Enforcement Center\"/nk>, \"Hastings, Minnesota\"/nk>, \"Hastings\"/nk>, \"Goodhue County\"/nk>, \"Minnesota Court of Appeals\"/nk>, \"Minnesota Supreme\"/nk>, \"United States\"/nk>, \"Minnesota\"/nk>, \"Minn.\"/nk>, \"St. Louis County, Mo.,\"/nk>, \"County of St. Charles\"/nk>, \"Missouri Family\"/nk>, \",\"/nk>, \"state court.\"/nk>, \"U.S.\"/nk>, \"U.S.\"/nk>, \"U.S.\"/nk>, \"police station,\"/nk>, \"interview room\"/nk>, \"City of Lincoln,\"/nk>, \"Warren that\"/nk>, \"Warren,\"/nk>, \"United States\"/nk>, \"U.S.\"/nk>, \"Mississippi,\"/nk>, \"U.S.\"/nk>, \"Illinois,\"/nk>, \"United States\"/nk>, \"United States,\"/nk>, \"sheri9's o:ce\"/nk>, \"403 U.S.\"/nk>, \"403 U.S.\"/nk>, \"United States\"/nk>, \"U.S. 14,\"/nk>, \"Minnesota state\"/nk>, \"Betcher A9., Ex. D\"/nk>, \"state\"/nk>, \"Minnesota law\"/nk>, \"Minnesota\"/nk>, \"United States of America\"/nk>, \"Minnesota's Supreme\"/nk>, \"United States\"/nk>, \"U.S.\"/nk>, \"Minnesota law\"/nk>, \"Minnesota v\"/nk>, \"Minn.\"/nk>, \"Minn.\"/nk>, \"District of Columbia Court\"/nk>, \"City of Stillwater,\"/nk>, \"United States\"/nk>, \"U.S.\"/nk>, \"state\"/nk>, \"U.S.\"/nk>, \"Minnesota\"/nk>, \"Minnesota\"/nk>, \"state\"/nk>, \"state court\"/nk>, \"state court\"/nk>, \"state court\"/nk>, \"state court\"/nk>, \"Heck,\"/nk>, \"Minnesota State\"/nk>, \"of Minnesota,\"/nk>, \"Minnesota\"/nk>]\n"
     ]
    }
   ],
   "source": [
    "# Try a court case\n",
    "sentence = Sentence(df.loc[2, \"text\"])\n",
    "loc_tagger.predict(sentence)\n",
    "print(sentence)"
   ]
  },
  {
   "cell_type": "code",
   "execution_count": 49,
   "id": "8f4582ca",
   "metadata": {},
   "outputs": [
    {
     "name": "stdout",
     "output_type": "stream",
     "text": [
      "label.value is: \"nk>\"\n",
      "label.score is: \"0.9539910384586879\"\n",
      "the text of label.data_point is: \"United States District Court, D. Minnesota\"\n",
      "\n",
      "label.value is: \"nk>\"\n",
      "label.score is: \"0.9209363609552383\"\n",
      "the text of label.data_point is: \"Minneapolis, MN,\"\n",
      "\n",
      "label.value is: \"nk>\"\n",
      "label.score is: \"0.6935136169195175\"\n",
      "the text of label.data_point is: \"Nickitas Law O:\"\n",
      "\n",
      "label.value is: \"nk>\"\n",
      "label.score is: \"0.934529983997345\"\n",
      "the text of label.data_point is: \"St. Paul, MN,\"\n",
      "\n",
      "label.value is: \"nk>\"\n",
      "label.score is: \"0.9534521847963333\"\n",
      "the text of label.data_point is: \"Minneapolis, MN,\"\n",
      "\n",
      "label.value is: \"nk>\"\n",
      "label.score is: \"0.9268128275871277\"\n",
      "the text of label.data_point is: \"Bloomington, MN,\"\n",
      "\n",
      "label.value is: \"nk>\"\n",
      "label.score is: \"0.9698551297187805\"\n",
      "the text of label.data_point is: \"Goodhue County.\"\n",
      "\n",
      "label.value is: \"nk>\"\n",
      "label.score is: \"0.9572806358337402\"\n",
      "the text of label.data_point is: \"Minneapolis, MN,\"\n",
      "\n",
      "label.value is: \"nk>\"\n",
      "label.score is: \"0.995135098695755\"\n",
      "the text of label.data_point is: \"Bloomington,\"\n",
      "\n",
      "label.value is: \"nk>\"\n",
      "label.score is: \"0.9717914462089539\"\n",
      "the text of label.data_point is: \",\"\n",
      "\n",
      "label.value is: \"nk>\"\n",
      "label.score is: \"0.9699492454528809\"\n",
      "the text of label.data_point is: \"Minnesota\"\n",
      "\n",
      "label.value is: \"nk>\"\n",
      "label.score is: \"0.9747501492500306\"\n",
      "the text of label.data_point is: \"St. Paul, MN,\"\n",
      "\n",
      "label.value is: \"nk>\"\n",
      "label.score is: \"0.9537396728992462\"\n",
      "the text of label.data_point is: \"Hastings, MN,\"\n",
      "\n",
      "label.value is: \"nk>\"\n",
      "label.score is: \"0.9959162592887878\"\n",
      "the text of label.data_point is: \"Goodhue County, Minnesota.\"\n",
      "\n",
      "label.value is: \"nk>\"\n",
      "label.score is: \"0.8815342783927917\"\n",
      "the text of label.data_point is: \"Minnesota law\"\n",
      "\n",
      "label.value is: \"nk>\"\n",
      "label.score is: \"0.9736830294132233\"\n",
      "the text of label.data_point is: \"Goodhue County\"\n",
      "\n",
      "label.value is: \"nk>\"\n",
      "label.score is: \"0.9917381703853607\"\n",
      "the text of label.data_point is: \"Goodhue County\"\n",
      "\n",
      "label.value is: \"nk>\"\n",
      "label.score is: \"0.9777780771255493\"\n",
      "the text of label.data_point is: \"Goodhue County\"\n",
      "\n",
      "label.value is: \"nk>\"\n",
      "label.score is: \"0.9871069590250651\"\n",
      "the text of label.data_point is: \"State of Minnesota\"\n",
      "\n",
      "label.value is: \"nk>\"\n",
      "label.score is: \"0.9537233710289001\"\n",
      "the text of label.data_point is: \"Goodhue County\"\n",
      "\n",
      "label.value is: \"nk>\"\n",
      "label.score is: \"0.9937515377998352\"\n",
      "the text of label.data_point is: \"Goodhue County Law Enforcement Center\"\n",
      "\n",
      "label.value is: \"nk>\"\n",
      "label.score is: \"0.8195362985134125\"\n",
      "the text of label.data_point is: \"Minnesota law\"\n",
      "\n",
      "label.value is: \"nk>\"\n",
      "label.score is: \"0.9398521482944489\"\n",
      "the text of label.data_point is: \"Goodhue County\"\n",
      "\n",
      "label.value is: \"nk>\"\n",
      "label.score is: \"0.8477919399738312\"\n",
      "the text of label.data_point is: \"Goodhue County\"\n",
      "\n",
      "label.value is: \"nk>\"\n",
      "label.score is: \"0.8483535349369049\"\n",
      "the text of label.data_point is: \"Rochester o\"\n",
      "\n",
      "label.value is: \"nk>\"\n",
      "label.score is: \"0.8944193422794342\"\n",
      "the text of label.data_point is: \"Minnesota Bureau\"\n",
      "\n",
      "label.value is: \"nk>\"\n",
      "label.score is: \"0.9673769772052765\"\n",
      "the text of label.data_point is: \"Goodhue County\"\n",
      "\n",
      "label.value is: \"nk>\"\n",
      "label.score is: \"0.9898898363113403\"\n",
      "the text of label.data_point is: \"Dakota County Law Enforcement Center\"\n",
      "\n",
      "label.value is: \"nk>\"\n",
      "label.score is: \"0.9927981893221537\"\n",
      "the text of label.data_point is: \"Hastings, Minnesota\"\n",
      "\n",
      "label.value is: \"nk>\"\n",
      "label.score is: \"0.9864180088043213\"\n",
      "the text of label.data_point is: \"Hastings\"\n",
      "\n",
      "label.value is: \"nk>\"\n",
      "label.score is: \"0.8515200912952423\"\n",
      "the text of label.data_point is: \"Goodhue County\"\n",
      "\n",
      "label.value is: \"nk>\"\n",
      "label.score is: \"0.867179274559021\"\n",
      "the text of label.data_point is: \"Minnesota Court of Appeals\"\n",
      "\n",
      "label.value is: \"nk>\"\n",
      "label.score is: \"0.8319341838359833\"\n",
      "the text of label.data_point is: \"Minnesota Supreme\"\n",
      "\n",
      "label.value is: \"nk>\"\n",
      "label.score is: \"0.9479756057262421\"\n",
      "the text of label.data_point is: \"United States\"\n",
      "\n",
      "label.value is: \"nk>\"\n",
      "label.score is: \"0.9647470712661743\"\n",
      "the text of label.data_point is: \"Minnesota\"\n",
      "\n",
      "label.value is: \"nk>\"\n",
      "label.score is: \"0.6125297248363495\"\n",
      "the text of label.data_point is: \"Minn.\"\n",
      "\n",
      "label.value is: \"nk>\"\n",
      "label.score is: \"0.8936064740022024\"\n",
      "the text of label.data_point is: \"St. Louis County, Mo.,\"\n",
      "\n",
      "label.value is: \"nk>\"\n",
      "label.score is: \"0.8558917343616486\"\n",
      "the text of label.data_point is: \"County of St. Charles\"\n",
      "\n",
      "label.value is: \"nk>\"\n",
      "label.score is: \"0.8148112297058105\"\n",
      "the text of label.data_point is: \"Missouri Family\"\n",
      "\n",
      "label.value is: \"nk>\"\n",
      "label.score is: \"0.5591806769371033\"\n",
      "the text of label.data_point is: \",\"\n",
      "\n",
      "label.value is: \"nk>\"\n",
      "label.score is: \"0.9682061870892843\"\n",
      "the text of label.data_point is: \"state court.\"\n",
      "\n",
      "label.value is: \"nk>\"\n",
      "label.score is: \"0.5404661893844604\"\n",
      "the text of label.data_point is: \"U.S.\"\n",
      "\n",
      "label.value is: \"nk>\"\n",
      "label.score is: \"0.5154150724411011\"\n",
      "the text of label.data_point is: \"U.S.\"\n",
      "\n",
      "label.value is: \"nk>\"\n",
      "label.score is: \"0.8937645554542542\"\n",
      "the text of label.data_point is: \"U.S.\"\n",
      "\n",
      "label.value is: \"nk>\"\n",
      "label.score is: \"0.8903965552647909\"\n",
      "the text of label.data_point is: \"police station,\"\n",
      "\n",
      "label.value is: \"nk>\"\n",
      "label.score is: \"0.5965043008327484\"\n",
      "the text of label.data_point is: \"interview room\"\n",
      "\n",
      "label.value is: \"nk>\"\n",
      "label.score is: \"0.9548759907484055\"\n",
      "the text of label.data_point is: \"City of Lincoln,\"\n",
      "\n",
      "label.value is: \"nk>\"\n",
      "label.score is: \"0.8061181902885437\"\n",
      "the text of label.data_point is: \"Warren that\"\n",
      "\n",
      "label.value is: \"nk>\"\n",
      "label.score is: \"0.9023852050304413\"\n",
      "the text of label.data_point is: \"Warren,\"\n",
      "\n",
      "label.value is: \"nk>\"\n",
      "label.score is: \"0.9139789640903473\"\n",
      "the text of label.data_point is: \"United States\"\n",
      "\n",
      "label.value is: \"nk>\"\n",
      "label.score is: \"0.5784497857093811\"\n",
      "the text of label.data_point is: \"U.S.\"\n",
      "\n",
      "label.value is: \"nk>\"\n",
      "label.score is: \"0.9442497491836548\"\n",
      "the text of label.data_point is: \"Mississippi,\"\n",
      "\n",
      "label.value is: \"nk>\"\n",
      "label.score is: \"0.703385055065155\"\n",
      "the text of label.data_point is: \"U.S.\"\n",
      "\n",
      "label.value is: \"nk>\"\n",
      "label.score is: \"0.8440605700016022\"\n",
      "the text of label.data_point is: \"Illinois,\"\n",
      "\n",
      "label.value is: \"nk>\"\n",
      "label.score is: \"0.9826109111309052\"\n",
      "the text of label.data_point is: \"United States\"\n",
      "\n",
      "label.value is: \"nk>\"\n",
      "label.score is: \"0.9821949402491251\"\n",
      "the text of label.data_point is: \"United States,\"\n",
      "\n",
      "label.value is: \"nk>\"\n",
      "label.score is: \"0.9708956837654114\"\n",
      "the text of label.data_point is: \"sheri9's o:ce\"\n",
      "\n",
      "label.value is: \"nk>\"\n",
      "label.score is: \"0.7518861293792725\"\n",
      "the text of label.data_point is: \"403 U.S.\"\n",
      "\n",
      "label.value is: \"nk>\"\n",
      "label.score is: \"0.7466875612735748\"\n",
      "the text of label.data_point is: \"403 U.S.\"\n",
      "\n",
      "label.value is: \"nk>\"\n",
      "label.score is: \"0.968093603849411\"\n",
      "the text of label.data_point is: \"United States\"\n",
      "\n",
      "label.value is: \"nk>\"\n",
      "label.score is: \"0.8712250192960104\"\n",
      "the text of label.data_point is: \"U.S. 14,\"\n",
      "\n",
      "label.value is: \"nk>\"\n",
      "label.score is: \"0.7681434750556946\"\n",
      "the text of label.data_point is: \"Minnesota state\"\n",
      "\n",
      "label.value is: \"nk>\"\n",
      "label.score is: \"0.8858046412467957\"\n",
      "the text of label.data_point is: \"Betcher A9., Ex. D\"\n",
      "\n",
      "label.value is: \"nk>\"\n",
      "label.score is: \"0.5216357707977295\"\n",
      "the text of label.data_point is: \"state\"\n",
      "\n",
      "label.value is: \"nk>\"\n",
      "label.score is: \"0.8289486765861511\"\n",
      "the text of label.data_point is: \"Minnesota law\"\n",
      "\n",
      "label.value is: \"nk>\"\n",
      "label.score is: \"0.9582688808441162\"\n",
      "the text of label.data_point is: \"Minnesota\"\n",
      "\n",
      "label.value is: \"nk>\"\n",
      "label.score is: \"0.9783557206392288\"\n",
      "the text of label.data_point is: \"United States of America\"\n",
      "\n",
      "label.value is: \"nk>\"\n",
      "label.score is: \"0.8536630471547445\"\n",
      "the text of label.data_point is: \"Minnesota's Supreme\"\n",
      "\n",
      "label.value is: \"nk>\"\n",
      "label.score is: \"0.9840247333049774\"\n",
      "the text of label.data_point is: \"United States\"\n",
      "\n",
      "label.value is: \"nk>\"\n",
      "label.score is: \"0.7719340324401855\"\n",
      "the text of label.data_point is: \"U.S.\"\n",
      "\n",
      "label.value is: \"nk>\"\n",
      "label.score is: \"0.8043088018894196\"\n",
      "the text of label.data_point is: \"Minnesota law\"\n",
      "\n",
      "label.value is: \"nk>\"\n",
      "label.score is: \"0.7485938668251038\"\n",
      "the text of label.data_point is: \"Minnesota v\"\n",
      "\n",
      "label.value is: \"nk>\"\n",
      "label.score is: \"0.5764845013618469\"\n",
      "the text of label.data_point is: \"Minn.\"\n",
      "\n",
      "label.value is: \"nk>\"\n",
      "label.score is: \"0.6133004724979401\"\n",
      "the text of label.data_point is: \"Minn.\"\n",
      "\n",
      "label.value is: \"nk>\"\n",
      "label.score is: \"0.8244831562042236\"\n",
      "the text of label.data_point is: \"District of Columbia Court\"\n",
      "\n",
      "label.value is: \"nk>\"\n",
      "label.score is: \"0.9271334409713745\"\n",
      "the text of label.data_point is: \"City of Stillwater,\"\n",
      "\n",
      "label.value is: \"nk>\"\n",
      "label.score is: \"0.9785789549350739\"\n",
      "the text of label.data_point is: \"United States\"\n",
      "\n",
      "label.value is: \"nk>\"\n",
      "label.score is: \"0.7373124957084656\"\n",
      "the text of label.data_point is: \"U.S.\"\n",
      "\n",
      "label.value is: \"nk>\"\n",
      "label.score is: \"0.5262805819511414\"\n",
      "the text of label.data_point is: \"state\"\n",
      "\n",
      "label.value is: \"nk>\"\n",
      "label.score is: \"0.6190652251243591\"\n",
      "the text of label.data_point is: \"U.S.\"\n",
      "\n",
      "label.value is: \"nk>\"\n",
      "label.score is: \"0.9820073246955872\"\n",
      "the text of label.data_point is: \"Minnesota\"\n",
      "\n",
      "label.value is: \"nk>\"\n",
      "label.score is: \"0.99179607629776\"\n",
      "the text of label.data_point is: \"Minnesota\"\n",
      "\n",
      "label.value is: \"nk>\"\n",
      "label.score is: \"0.7499772310256958\"\n",
      "the text of label.data_point is: \"state\"\n",
      "\n",
      "label.value is: \"nk>\"\n",
      "label.score is: \"0.6403059959411621\"\n",
      "the text of label.data_point is: \"state court\"\n",
      "\n",
      "label.value is: \"nk>\"\n",
      "label.score is: \"0.7548719048500061\"\n",
      "the text of label.data_point is: \"state court\"\n",
      "\n",
      "label.value is: \"nk>\"\n",
      "label.score is: \"0.5719471275806427\"\n",
      "the text of label.data_point is: \"state court\"\n",
      "\n",
      "label.value is: \"nk>\"\n",
      "label.score is: \"0.5819145143032074\"\n",
      "the text of label.data_point is: \"state court\"\n",
      "\n",
      "label.value is: \"nk>\"\n",
      "label.score is: \"0.7267033457756042\"\n",
      "the text of label.data_point is: \"Heck,\"\n",
      "\n",
      "label.value is: \"nk>\"\n",
      "label.score is: \"0.7619810998439789\"\n",
      "the text of label.data_point is: \"Minnesota State\"\n",
      "\n",
      "label.value is: \"nk>\"\n",
      "label.score is: \"0.8469262719154358\"\n",
      "the text of label.data_point is: \"of Minnesota,\"\n",
      "\n",
      "label.value is: \"nk>\"\n",
      "label.score is: \"0.9858043193817139\"\n",
      "the text of label.data_point is: \"Minnesota\"\n",
      "\n"
     ]
    }
   ],
   "source": [
    "# print each label value, confidence score, and corresponding text\n",
    "for label in sentence.get_labels():\n",
    "    print(f'label.value is: \"{label.value}\"')\n",
    "    print(f'label.score is: \"{label.score}\"')\n",
    "    print(f'the text of label.data_point is: \"{label.data_point.text}\"\\n')"
   ]
  },
  {
   "cell_type": "markdown",
   "id": "9a8a5ebf",
   "metadata": {},
   "source": [
    "There are many errors, such as \"Minnesota law\", \",\", and \"Missouri Family\" being predicted as locations. Is the weird text causing those issues, or something else?"
   ]
  },
  {
   "cell_type": "markdown",
   "id": "2fc180a1",
   "metadata": {},
   "source": [
    "Now we compare the results of treating one whole document as a sentence, and splitting the document into sentences using a tokenizer."
   ]
  },
  {
   "cell_type": "code",
   "execution_count": 86,
   "id": "416ff090",
   "metadata": {},
   "outputs": [
    {
     "name": "stdout",
     "output_type": "stream",
     "text": [
      "Sentence[864]: \"4/12/2021 Minnesota BCA releases more information about Brooklyn Center police shooting - StarTribune.com https://www.startribune.com/bca-releases-more-information-about-brooklyn-center-police-shooting/559525032/ 1/2 ___ NORTH METRO Minnesota BCA releases more information about Brooklyn Center police shooting The 21-year-old man who was killed could not be subdued with Tasers, the agency said.  By STAFF REPORTS  SEPTEMBER 5, 2019 — 9:11PM The 21-year-old man fatally shot by police Saturday in Brooklyn Center had threatened officers with a knife and could not be subdued with Tasers, the Minnesota Bureau of Criminal Apprehension said Thursday. Kobe Edgar Dimock-Heisler, who lived with his grandparents in the 5900 block of N. Halifax Avenue, died after being shot several times inside the home just after 4 p.m. Saturday. The BCA identified the three officers who discharged their weapons as: • Brandon Akers, who has been with the Brooklyn Center department for eight years. He discharged his Taser and his firearm. • Cody Turner, who has been with the department for 10 years, discharged his Taser and his firearm. • Steven Holt, who has been with the department for five years, discharged his Taser. All three are on standard administrative leave. According to the BCA, four police officers went to the residence after a 911 call from a family member about a domestic dispute involving a man armed with a hammer and a knife. At the scene, they tried without success to physically control Dimock-Heisler, and eventually Holt and Turner fired their Tasers at him. Dimock-Heisler remained combative and produced a knife, the BCA said. Akers and Turner then shot him. Crime-scene investigators found a knife next to Dimock-Heisler's body, the BCA said. All four officers inside the home were wearing body cameras, which captured video of the incident. Once its investigation is complete, the BCA will present its findings to the Hennepin County Attorney's Office for consideration of possible charges. Dimock-Heisler's family has said that he was on the autism spectrum. And according to a mental health order, he had a history of threatening suicide and suffered from severe depression that had led to him stabbing himself in the abdomen, according to a mental health court order that also warned five months ago that he was at risk of causing physical violence. On March 25, Dimock-Heisler was ordered by a Hennepin County court referee to be committed as mentally ill to North Memorial Health Hospital in Robbinsdale, two weeks after his admission there for a self-inflicted stab wound. He hurt himself after clashing with his father, a court filing revealed. He also was hospitalized in Minneapolis for several days in January after threatening suicide and running to a bridge. Dimock-Heisler suffers from a \"substantial psychiatric disorder … which grossly impairs his judgment, behavior, capacity to recognize reality and ability to reason or understand,\" the order stated. \"As a consequence, [Dimock-Heisler] poses a substantial likelihood of causing physical harm.\" Kobe Dimock Heisler 4/12/2021 Minnesota BCA releases more information about Brooklyn Center police shooting - StarTribune.com https://www.startribune.com/bca-releases-more-information-about-brooklyn-center-police-shooting/559525032/ 2/2 The voluntary commitment to North Memorial for mental health treatment was to last for up to six months but was stayed by the court under several conditions, including that he not harm himself or others. He remained in the hospital's psychiatric ward for three weeks before moving in with his grandparents, said Jason Heisler, Dimock-Heisler's father. In his published obituary (http://m.startribune.com/obituaries/detail/0000325850/? fullname=kobe-edgar-dimock-heisler) , his family focused on Dimock-Heisler's happier qualities, describing him as \"extremely kindhearted and generous … loved and adored by everyone who knew him.\" \"An avid horticulturalist, Kobe began cultivating and propagating lilies at the age of 4,\" his family wrote. \"He cross-pollinated two lily strains and created a new one. He cared for his succulents and other plants, often grafting, rooting, and propagating new plants. … He was a parade tricyclist, often riding his unique bike in public parades like Mayday or community events like Open Streets. He also enjoyed bicycle camping, twice riding with his father on the North Shore on a bike trip to Canada. Kobe, a professionally trained chef, enjoyed feeding people and making great meals for family. He also created and sewed stuffed animals that he shared with the children he knew.\" Services for Dimock-Heisler will be held at 4 p.m. Saturday at Estes Funeral Chapel in Minneapolis. On Sunday afternoon, a bike ride will be held in his honor. Staff writers Paul Walsh and Pamela Miller contributed to this report.\" → [\"Minnesota BCA\"/nk>, \"Brooklyn Center\"/nk>, \"NORTH METRO Minnesota BCA\"/nk>, \"Brooklyn Center\"/nk>, \"Brooklyn Center\"/nk>, \"Minnesota Bureau\"/nk>, \"5900 block of N. Halifax Avenue,\"/nk>, \"Brooklyn Center department\"/nk>, \"scene\"/nk>, \"home\"/nk>, \"Hennepin County Attorney's Office\"/nk>, \"Hennepin County\"/nk>, \"North Memorial Health Hospital\"/nk>, \"Robbinsdale,\"/nk>, \"Minneapolis\"/nk>, \".\"/nk>, \"Minnesota BCA\"/nk>, \"Brooklyn Center\"/nk>, \"North Memorial\"/nk>, \"Mayday\"/nk>, \"Open Streets.\"/nk>, \"North Shore\"/nk>, \"Canada.\"/nk>, \"Estes Funeral Chapel in Minneapolis.\"/nk>, \"writers\"/nk>]\n"
     ]
    }
   ],
   "source": [
    "doc = df.loc[7, \"text\"]\n",
    "one_sentence = Sentence(doc)\n",
    "loc_tagger.predict(one_sentence)\n",
    "print(one_sentence)"
   ]
  },
  {
   "cell_type": "code",
   "execution_count": 87,
   "id": "0d1091cc",
   "metadata": {},
   "outputs": [
    {
     "name": "stdout",
     "output_type": "stream",
     "text": [
      "Text: Minnesota BCA | Score: 0.944\n",
      "\n",
      "Text: Brooklyn Center | Score: 0.993\n",
      "\n",
      "Text: NORTH METRO Minnesota BCA | Score: 0.941\n",
      "\n",
      "Text: Brooklyn Center | Score: 0.991\n",
      "\n",
      "Text: Brooklyn Center | Score: 0.997\n",
      "\n",
      "Text: Minnesota Bureau | Score: 0.879\n",
      "\n",
      "Text: 5900 block of N. Halifax Avenue, | Score: 0.99\n",
      "\n",
      "Text: Brooklyn Center department | Score: 0.866\n",
      "\n",
      "Text: scene | Score: 0.53\n",
      "\n",
      "Text: home | Score: 0.81\n",
      "\n",
      "Text: Hennepin County Attorney's Office | Score: 0.907\n",
      "\n",
      "Text: Hennepin County | Score: 0.988\n",
      "\n",
      "Text: North Memorial Health Hospital | Score: 0.991\n",
      "\n",
      "Text: Robbinsdale, | Score: 0.991\n",
      "\n",
      "Text: Minneapolis | Score: 0.996\n",
      "\n",
      "Text: . | Score: 0.901\n",
      "\n",
      "Text: Minnesota BCA | Score: 0.876\n",
      "\n",
      "Text: Brooklyn Center | Score: 0.992\n",
      "\n",
      "Text: North Memorial | Score: 0.994\n",
      "\n",
      "Text: Mayday | Score: 0.564\n",
      "\n",
      "Text: Open Streets. | Score: 0.738\n",
      "\n",
      "Text: North Shore | Score: 0.99\n",
      "\n",
      "Text: Canada. | Score: 0.837\n",
      "\n",
      "Text: Estes Funeral Chapel in Minneapolis. | Score: 0.918\n",
      "\n",
      "Text: writers | Score: 0.676\n",
      "\n"
     ]
    }
   ],
   "source": [
    "# print labels from predicting the whole doc as one sentence\n",
    "for label in one_sentence.get_labels():\n",
    "    print(f\"Text: {label.data_point.text} | Score: {label.score.__round__(3)}\\n\")"
   ]
  },
  {
   "cell_type": "code",
   "execution_count": 88,
   "id": "4e10ef82",
   "metadata": {},
   "outputs": [
    {
     "name": "stdout",
     "output_type": "stream",
     "text": [
      "4/12/2021 Minnesota BCA releases more information about Brooklyn Center police shooting - StarTribune.com https://www.startribune.com/bca-releases-more-information-about-brooklyn-center-police-shooting/559525032/ 1/2 ___ NORTH METRO Minnesota BCA releases more information about Brooklyn Center police shooting The 21-year-old man who was killed could not be subdued with Tasers, the agency said.\n",
      "By STAFF REPORTS  SEPTEMBER 5, 2019 — 9:11PM The 21-year-old man fatally shot by police Saturday in Brooklyn Center had threatened officers with a knife and could not be subdued with Tasers, the Minnesota Bureau of Criminal Apprehension said Thursday.\n",
      "Kobe Edgar Dimock-Heisler, who lived with his grandparents in the 5900 block of N.\n",
      "Halifax Avenue, died after being shot several times inside the home just after 4 p.m.\n",
      "Saturday.\n",
      "The BCA identified the three officers who discharged their weapons as: • Brandon Akers, who has been with the Brooklyn Center department for eight years.\n",
      "He discharged his Taser and his firearm.\n",
      "• Cody Turner, who has been with the department for 10 years, discharged his Taser and his firearm.\n",
      "• Steven Holt, who has been with the department for five years, discharged his Taser.\n",
      "All three are on standard administrative leave.\n",
      "According to the BCA, four police officers went to the residence after a 911 call from a family member about a domestic dispute involving a man armed with a hammer and a knife.\n",
      "At the scene, they tried without success to physically control Dimock-Heisler, and eventually Holt and Turner fired their Tasers at him.\n",
      "Dimock-Heisler remained combative and produced a knife, the BCA said.\n",
      "Akers and Turner then shot him.\n",
      "Crime-scene investigators found a knife next to Dimock-Heisler's body, the BCA said.\n",
      "All four officers inside the home were wearing body cameras, which captured video of the incident.\n",
      "Once its investigation is complete, the BCA will present its findings to the Hennepin County Attorney's Office for consideration of possible charges.\n",
      "Dimock-Heisler's family has said that he was on the autism spectrum.\n",
      "And according to a mental health order, he had a history of threatening suicide and suffered from severe depression that had led to him stabbing himself in the abdomen, according to a mental health court order that also warned five months ago that he was at risk of causing physical violence.\n",
      "On March 25, Dimock-Heisler was ordered by a Hennepin County court referee to be committed as mentally ill to North Memorial Health Hospital in Robbinsdale, two weeks after his admission there for a self-inflicted stab wound.\n",
      "He hurt himself after clashing with his father, a court filing revealed.\n",
      "He also was hospitalized in Minneapolis for several days in January after threatening suicide and running to a bridge.\n",
      "Dimock-Heisler suffers from a \"substantial psychiatric disorder … which grossly impairs his judgment, behavior, capacity to recognize reality and ability to reason or understand,\" the order stated.\n",
      "\"As a consequence, [Dimock-Heisler] poses a substantial likelihood of causing physical harm.\"\n",
      "Kobe Dimock Heisler 4/12/2021 Minnesota BCA releases more information about Brooklyn Center police shooting - StarTribune.com https://www.startribune.com/bca-releases-more-information-about-brooklyn-center-police-shooting/559525032/ 2/2 The voluntary commitment to North Memorial for mental health treatment was to last for up to six months but was stayed by the court under several conditions, including that he not harm himself or others.\n",
      "He remained in the hospital's psychiatric ward for three weeks before moving in with his grandparents, said Jason Heisler, Dimock-Heisler's father.\n",
      "In his published obituary (http://m.startribune.com/obituaries/detail/0000325850/?\n",
      "fullname=kobe-edgar-dimock-heisler) , his family focused on Dimock-Heisler's happier qualities, describing him as \"extremely kindhearted and generous … loved and adored by everyone who knew him.\"\n",
      "\"An avid horticulturalist, Kobe began cultivating and propagating lilies at the age of 4,\" his family wrote.\n",
      "\"He cross-pollinated two lily strains and created a new one.\n",
      "He cared for his succulents and other plants, often grafting, rooting, and propagating new plants.\n",
      "… He was a parade tricyclist, often riding his unique bike in public parades like Mayday or community events like Open Streets.\n",
      "He also enjoyed bicycle camping, twice riding with his father on the North Shore on a bike trip to Canada.\n",
      "Kobe, a professionally trained chef, enjoyed feeding people and making great meals for family.\n",
      "He also created and sewed stuffed animals that he shared with the children he knew.\"\n",
      "Services for Dimock-Heisler will be held at 4 p.m.\n",
      "Saturday at Estes Funeral Chapel in Minneapolis.\n",
      "On Sunday afternoon, a bike ride will be held in his honor.\n",
      "Staff writers Paul Walsh and Pamela Miller contributed to this report.\n"
     ]
    }
   ],
   "source": [
    "from flair.splitter import SegtokSentenceSplitter\n",
    "\n",
    "splitter = SegtokSentenceSplitter() # splits text into a list of sentences\n",
    "sentences = splitter.split(doc) # split text into Sentence objects\n",
    "sentences_text = [s.text for s in sentences] # get just the text from each sentence object\n",
    "\n",
    "split_doc = \"\\n\".join(sentences_text)        # turn the list of sentences into a string, w/ each sentence separated by a newline.\n",
    "print(split_doc)                             # print this for better readability"
   ]
  },
  {
   "cell_type": "markdown",
   "id": "6590431a",
   "metadata": {},
   "source": [
    "Mistakes:\n",
    "- \"Minnesota Bureau\" is supposed to be \"Minnesota Bureau of Criminal Apprehension\"\n",
    "- \".\" and \"writers\" is predicted as a location\n",
    "- Punctuation added to location names\n",
    "    - \"Robbinsdale,\" is predicted instead of \"Robbinsdale\"\n",
    "    - \"Canada.\" instead of \"Canada\"\n",
    "- \"Mayday\" is a parade and \"Open Streets\" is a community event. They are not locations."
   ]
  },
  {
   "cell_type": "code",
   "execution_count": null,
   "id": "6f63077b",
   "metadata": {},
   "outputs": [
    {
     "name": "stdout",
     "output_type": "stream",
     "text": [
      "Text: Minnesota BCA | Score: 0.957\n",
      "\n",
      "Text: Brooklyn Center | Score: 0.993\n",
      "\n",
      "Text: NORTH METRO Minnesota BCA | Score: 0.926\n",
      "\n",
      "Text: Brooklyn Center | Score: 0.991\n",
      "\n",
      "Text: Brooklyn Center | Score: 0.996\n",
      "\n",
      "Text: Minnesota Bureau | Score: 0.855\n",
      "\n",
      "Text: 5900 block of N. | Score: 0.988\n",
      "\n",
      "Text: Halifax Avenue, | Score: 0.992\n",
      "\n",
      "Text: Brooklyn Center | Score: 0.993\n",
      "\n",
      "Text: residence | Score: 0.597\n",
      "\n",
      "Text: scene | Score: 0.548\n",
      "\n",
      "Text: home | Score: 0.742\n",
      "\n",
      "Text: Hennepin County Attorney's Office | Score: 0.985\n",
      "\n",
      "Text: Hennepin County | Score: 0.993\n",
      "\n",
      "Text: North Memorial Health Hospital | Score: 0.986\n",
      "\n",
      "Text: Robbinsdale, | Score: 0.988\n",
      "\n",
      "Text: Minneapolis | Score: 0.997\n",
      "\n",
      "Text: bridge. | Score: 0.944\n",
      "\n",
      "Text: Minnesota | Score: 0.978\n",
      "\n",
      "Text: Brooklyn Center | Score: 0.993\n",
      "\n",
      "Text: North Memorial | Score: 0.992\n",
      "\n",
      "Text: hospital | Score: 0.53\n",
      "\n",
      "Text: psychiatric ward | Score: 0.643\n",
      "\n",
      "Text: Mayday | Score: 0.662\n",
      "\n",
      "Text: Open Streets. | Score: 0.786\n",
      "\n",
      "Text: North Shore | Score: 0.995\n",
      "\n",
      "Text: Canada. | Score: 0.998\n",
      "\n",
      "Text: Estes Funeral Chapel in Minneapolis. | Score: 0.925\n",
      "\n"
     ]
    }
   ],
   "source": [
    "loc_tagger.predict(sentences) # run prediction on the list of sentences we created with the SegTokSplitter.\n",
    "\n",
    "for sentence in sentences:\n",
    "    for label in sentence.get_labels():\n",
    "        print(f\"Text: {label.data_point.text} | Score: {label.score.__round__(3)}\\n\")"
   ]
  },
  {
   "cell_type": "markdown",
   "id": "232498e1",
   "metadata": {},
   "source": [
    "Mistakes when predicting a list of sentences:\n",
    "- Sentence splitter is incorrect! It splits a sentence on punctuation like \"N. Halifax Avenue\", or \"4 p.m. Saturday\"\n",
    "- The tagger then predicts \"5900 block of N.\" and \"Halifax Avenue\" as separate locations\n",
    "- Most of the same mistakes as before, when we treated the doc as one sentence.\n",
    "\n",
    "Advantages when predicting a list of sentences:\n",
    "- Doesn't predict \".\" or \"writers\" as a location.\n",
    "- Tags more locations, like \"bridge\", \"hospital\", or \"psychiatric ward\""
   ]
  },
  {
   "cell_type": "markdown",
   "id": "cbf9ccaa",
   "metadata": {},
   "source": [
    "### Issues with the HuggingFace model\n",
    "\n",
    "- Words like \"Sidewalk\", \"hospital\", or \"police station\" are being tagged as locations, and we want geographic locations.\n",
    "    - Cross-check the fine-tuned NER model with the regular Flair ones?\n",
    "- All the errors when I run it on the full dataset\n",
    "    - Most errors are not about the weird characters, but some are.\n",
    "- Should I tokenize articles into sentences and run one prediction per sentence? That gave more accuracy in some ways and less accuracy in other ways. Also, the sentence splitter is incorrect."
   ]
  },
  {
   "cell_type": "markdown",
   "id": "3079e4e2",
   "metadata": {},
   "source": [
    "Next step: tokenizing the sentences\n",
    "- Is it actually important that I'm splitting into sentences, or do I just need to split the text into shorter chunks? Is it getting things wrong \n",
    "    - e.g.: split every 50 words\n",
    "- Or use TopoBERT\n",
    "- Don't worry abotu the \"subscribe here\" sentences\n",
    "- Use a NER model to extract dates.\n",
    "- We can use the LLM to determine if the \n",
    "- Prof M can help me install TopoBERT with the Pixie package manager\n",
    "    - Link: https://pixi.sh/latest/\n",
    "    - https://pixi.sh/latest/installation/ \n",
    "- Pixi is the easiest way to do package management. You can have your environment connected to the project you're working on. You don't have to activate a venv. Prof M has that set up on the GPU\n",
    "    - Use `pixi add` instead of pip/conda install\n",
    "- Prof M will be on campus on Tue, Wed, and Thurs, for most of the day.\n",
    "- Don't need to use TopoBERT, but I can if I want."
   ]
  }
 ],
 "metadata": {
  "kernelspec": {
   "display_name": "Python 3",
   "language": "python",
   "name": "python3"
  },
  "language_info": {
   "codemirror_mode": {
    "name": "ipython",
    "version": 3
   },
   "file_extension": ".py",
   "mimetype": "text/x-python",
   "name": "python",
   "nbconvert_exporter": "python",
   "pygments_lexer": "ipython3",
   "version": "3.12.7"
  }
 },
 "nbformat": 4,
 "nbformat_minor": 5
}
