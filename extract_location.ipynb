{
 "cells": [
  {
   "cell_type": "markdown",
   "id": "9e56f9c8",
   "metadata": {},
   "source": [
    "This notebook uses LLMs for geolocation extraction from police complaint articles.\n",
    "\n",
    "To run this notebook:\n",
    "1. Make sure Ollama is installed on your local machine\n",
    "2. Open this notebook in VSCode\n",
    "3. Determine the name of the Ollama model you want to use. For example, it could be `llama3.1` or `llama3.1:8b`. Then, in your VSCode terminal, run `ollama pull <model_name>`, replacing `<model_name>` with the actual model name.\n",
    "4. You can modify the LlamaBot code below to use that model by passing the name to the `model_name` parameter of  `SimpleBot`"
   ]
  },
  {
   "cell_type": "code",
   "execution_count": null,
   "id": "059934c8",
   "metadata": {},
   "outputs": [],
   "source": [
    "!pip install llamabot==0.13.8"
   ]
  },
  {
   "cell_type": "code",
   "execution_count": 1,
   "id": "e99c8bf7",
   "metadata": {},
   "outputs": [
    {
     "name": "stderr",
     "output_type": "stream",
     "text": [
      "\u001b[32m2025-10-03 00:26:42.443\u001b[0m | \u001b[34m\u001b[1mDEBUG   \u001b[0m | \u001b[36mllamabot.recorder\u001b[0m:\u001b[36mstore_prompt_version\u001b[0m:\u001b[36m334\u001b[0m - \u001b[34m\u001b[1mStoring prompt version for function: default_agentbot_system_prompt\u001b[0m\n",
      "\u001b[32m2025-10-03 00:26:42.443\u001b[0m | \u001b[34m\u001b[1mDEBUG   \u001b[0m | \u001b[36mllamabot.recorder\u001b[0m:\u001b[36mstore_prompt_version\u001b[0m:\u001b[36m339\u001b[0m - \u001b[34m\u001b[1mExisting prompt found with hash: a43d9b5fe10e1c096166928f5c29367e2bacd3ea1959c9bf095329303a702c22\u001b[0m\n"
     ]
    }
   ],
   "source": [
    "import llamabot as lmb"
   ]
  },
  {
   "cell_type": "code",
   "execution_count": 4,
   "id": "796a4bcd",
   "metadata": {},
   "outputs": [
    {
     "name": "stdout",
     "output_type": "stream",
     "text": [
      "N.34th Avenue and6th Street, Minneapolis, Minnesota"
     ]
    },
    {
     "data": {
      "text/plain": [
       "AIMessage(role='assistant', content='N.34th Avenue and6th Street, Minneapolis, Minnesota', prompt_hash=None, tool_calls=[])"
      ]
     },
     "execution_count": 4,
     "metadata": {},
     "output_type": "execute_result"
    }
   ],
   "source": [
    "# System prompt that provides the model with instructions for answering each question.\n",
    "system_prompt = \"\"\"\n",
    "Extract the most specific geolocation of the police incident described in this article.\n",
    "Rules:\n",
    "- If the article specifies two or more streets together, output them as an intersection: \"Street A and Street B, City, State\".\n",
    "- Do not drop any street names.\n",
    "- If only one street is given, return that street, City, State.\n",
    "- If no street is given, return the city and state only.\n",
    "- If there is more than one police incident in the article, output the locations of all incidents.\n",
    "\n",
    "Output your answer as Street(s), City, State.\n",
    "Example: Article text: \"... the suspect was stopped near the intersection of Pine Street and 2nd Avenue in Chicago ...\"\n",
    "Output: Pine Street and 2nd Avenue, Chicago, Illinois\n",
    "\"\"\"\n",
    "\n",
    "# Create a SimpleBot that keeps no record of chat history. Use Llama3.1:8b\n",
    "llama_3_1_8b = lmb.SimpleBot(\n",
    "        system_prompt, \n",
    "        model_name = \"ollama_chat/llama3.1:8b\", # Use a local Ollama model\n",
    "        temperature=0.0\n",
    "      )\n",
    "\n",
    "# Read the article from the file\n",
    "# Correct location for this file: N. 34th Avenue and 6th Street \n",
    "with open(\"Jacob_Spies_traffic_stop.txt\", \"r\") as file:\n",
    "    article_text = file.read()\n",
    "\n",
    "llama_3_1_8b(article_text) # To get the answer, call the bot with the text as a parameter. Returns an AIMessage object"
   ]
  },
  {
   "cell_type": "code",
   "execution_count": 5,
   "id": "e963e1f8",
   "metadata": {},
   "outputs": [
    {
     "name": "stdout",
     "output_type": "stream",
     "text": [
      "Loop Bar, Minneapolis, Minnesota.Note: The article does not specify the exact location of the Loop Bar, but it is mentioned as being in the North Loop area of downtown Minneapolis. However, I have included \"Loop Bar\" as part of the geolocation since it is a specific business or establishment that was involved in the incident."
     ]
    },
    {
     "data": {
      "text/plain": [
       "AIMessage(role='assistant', content='Loop Bar, Minneapolis, Minnesota.Note: The article does not specify the exact location of the Loop Bar, but it is mentioned as being in the North Loop area of downtown Minneapolis. However, I have included \"Loop Bar\" as part of the geolocation since it is a specific business or establishment that was involved in the incident.', prompt_hash=None, tool_calls=[])"
      ]
     },
     "execution_count": 5,
     "metadata": {},
     "output_type": "execute_result"
    }
   ],
   "source": [
    "# Correct location: a North Loop bar, or the Loop Bar (which one is correct?)\n",
    "with open(\"William_Gregory_bar.txt\", \"r\") as file:\n",
    "    article_text = file.read()\n",
    "\n",
    "llama_3_1_8b(article_text)"
   ]
  },
  {
   "cell_type": "code",
   "execution_count": null,
   "id": "4c20ab68",
   "metadata": {},
   "outputs": [
    {
     "name": "stdout",
     "output_type": "stream",
     "text": [
      "Here are the locations of the two police incidents:\n",
      "\n",
      "1. Outside a Minneapolis bar, near Envy nightclub (downtown area), Minneapolis, Minnesota.\n",
      "2. Loop Bar and Restaurant in downtown Minneapolis, Minneapolis, Minnesota.\n",
      "\n",
      "Note: The article does not specify exact street names for either incident, so I have only provided the city and state as requested."
     ]
    },
    {
     "data": {
      "text/plain": [
       "AIMessage(role='assistant', content='Here are the locations of the two police incidents:\\n\\n1. Outside a Minneapolis bar, near Envy nightclub (downtown area), Minneapolis, Minnesota.\\n2. Loop Bar and Restaurant in downtown Minneapolis, Minneapolis, Minnesota.\\n\\nNote: The article does not specify exact street names for either incident, so I have only provided the city and state as requested.', prompt_hash=None, tool_calls=[])"
      ]
     },
     "execution_count": 6,
     "metadata": {},
     "output_type": "execute_result"
    }
   ],
   "source": [
    "\"\"\"\n",
    "Correct location: \n",
    "  Incident 1 (2010): a downtown Minneapolis bar, which was near Envy nightclub\n",
    "  Incident 2 (2011): the Loop Bar and Restaurant in downtown Minneapolis\n",
    "\"\"\"\n",
    "with open(\"Michael_Griffin_2_bar_incidents.txt\", \"r\") as file:\n",
    "    article_text = file.read()\n",
    "\n",
    "llama_3_1_8b(article_text)"
   ]
  }
 ],
 "metadata": {
  "kernelspec": {
   "display_name": "Python 3",
   "language": "python",
   "name": "python3"
  },
  "language_info": {
   "codemirror_mode": {
    "name": "ipython",
    "version": 3
   },
   "file_extension": ".py",
   "mimetype": "text/x-python",
   "name": "python",
   "nbconvert_exporter": "python",
   "pygments_lexer": "ipython3",
   "version": "3.12.10"
  }
 },
 "nbformat": 4,
 "nbformat_minor": 5
}
